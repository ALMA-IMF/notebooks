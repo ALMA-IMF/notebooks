{
 "cells": [
  {
   "cell_type": "markdown",
   "metadata": {},
   "source": [
    "### W51-E B6 central field imaging test"
   ]
  },
  {
   "cell_type": "code",
   "execution_count": 1,
   "metadata": {},
   "outputs": [],
   "source": [
    "import os\n",
    "from casatasks import tclean\n",
    "from casatools import msmetadata\n",
    "ms = msmetadata()"
   ]
  },
  {
   "cell_type": "code",
   "execution_count": 2,
   "metadata": {},
   "outputs": [],
   "source": [
    "from astropy import units as u\n",
    "from astropy.coordinates import SkyCoord"
   ]
  },
  {
   "cell_type": "code",
   "execution_count": 3,
   "metadata": {},
   "outputs": [],
   "source": [
    "%matplotlib inline\n",
    "import numpy as np\n",
    "from astropy import units as u\n",
    "import pylab as pl\n",
    "pl.rcParams['figure.figsize'] = (16,8)\n",
    "import sys\n",
    "import glob\n",
    "sys.path.append('/lustre/naasc/users/aginsbur/repos/reduction/reduction/')\n",
    "import imp, diagnostic_images\n",
    "imp.reload(diagnostic_images)\n",
    "from diagnostic_images import load_images, show\n",
    "from spectral_cube import SpectralCube\n",
    "import spectral_cube"
   ]
  },
  {
   "cell_type": "code",
   "execution_count": 4,
   "metadata": {},
   "outputs": [],
   "source": [
    "import os\n",
    "os.chdir(\"/lustre/naasc/projects/ALMA_IMF/2017.1.01355.L\")"
   ]
  },
  {
   "cell_type": "code",
   "execution_count": null,
   "metadata": {},
   "outputs": [
    {
     "name": "stdout",
     "output_type": "stream",
     "text": [
      "[0, 4, 6, 21, 22, 26, 27, 31]\n"
     ]
    }
   ],
   "source": [
    "w51e2 = SkyCoord('19:23:43.939 +14:30:34.472', frame='fk5', unit=(u.hour, u.deg))\n",
    "centerfield = []\n",
    "ms.open(\"W51-E_B6_uid___A001_X1296_X215_continuum_merged_12M_selfcal.ms\")\n",
    "for fid in ms.fieldsforname('W51-E'):\n",
    "    crd = ms.phasecenter(fid)\n",
    "    field_coord = SkyCoord(crd['m0']['value'], crd['m1']['value'],\n",
    "                           frame=crd['refer'].lower(),\n",
    "                           unit=(crd['m0']['unit'], crd['m1']['unit']))\n",
    "    sep = w51e2.separation(field_coord)\n",
    "    #print(f'circle({field_coord.ra.deg}, {field_coord.dec.deg}, 15\")')\n",
    "    if sep < 15*u.arcsec:\n",
    "        centerfield.append(fid)\n",
    "        \n",
    "ms.close()\n",
    "print(centerfield)"
   ]
  },
  {
   "cell_type": "code",
   "execution_count": null,
   "metadata": {},
   "outputs": [],
   "source": [
    "imagename_standard = \"imaging_results/W51-E_B6_uid___A001_X1296_X215_continuum_merged_12M_robust0_selfcal2_standardgridder_center\"\n",
    "tclean(vis=\"W51-E_B6_uid___A001_X1296_X215_continuum_merged_12M_selfcal.ms\",\n",
    "       selectdata=True,\n",
    "       field=\",\".join(map(str, centerfield)),\n",
    "       spw=\"\",timerange=\"\",\n",
    "       uvrange=\"\",\n",
    "       antenna=\"DA41,DA42,DA43,DA44,DA45,DA46,DA47,DA48,DA49,DA50,DA51,DA52,DA53,DA54,DA55,DA56,DA57,DA58,DA59,DA60,DA61,DA62,DA63,DA64,DV01,DV02,DV03,DV04,DV05,DV06,DV07,DV09,DV10,DV11,DV14,DV15,DV16,DV17,DV20,DV22,DV23,DV24,DV25,PM03,DA45,DA46,DA48,DA50,DA51,DA52,DA54,DA55,DA56,DA58,DA59,DA61,DA62,DA63,DA65,DV02,DV03,DV04,DV08,DV12,DV13,DV14,DV19,DV21,DV22,DV24,DV25\",\n",
    "       scan=\"\",\n",
    "       observation=\"\",\n",
    "       intent=\"\",\n",
    "       datacolumn=\"corrected\",\n",
    "       imagename=imagename_standard,\n",
    "       imsize=[850, 850],\n",
    "       phasecenter=\"ICRS 290.9332327deg 14.50817819deg\",\n",
    "       cell=['0.06arcsec', '0.06arcsec'],\n",
    "       stokes=\"I\",projection=\"SIN\",startmodel=\"\",specmode=\"mfs\",reffreq=\"\",\n",
    "       nchan=-1,start=\"\",width=\"\",outframe=\"LSRK\",veltype=\"radio\",\n",
    "       restfreq=[],interpolation=\"linear\",\n",
    "       gridder=\"standard\",\n",
    "       facets=1,chanchunks=1,\n",
    "       wprojplanes=1,\n",
    "       vptable=\"\",usepointing=False,mosweight=True,aterm=True,\n",
    "       psterm=False,wbawp=True,conjbeams=False,cfcache=\"\",computepastep=360.0,\n",
    "       rotatepastep=360.0,pblimit=0.1,normtype=\"flatnoise\",deconvolver=\"mtmfs\",scales=[0, 3, 9],\n",
    "       nterms=2,smallscalebias=0.6,restoration=True,restoringbeam=[],pbcor=False,\n",
    "       outlierfile=\"\",weighting=\"briggs\",robust=0,npixels=0,uvtaper=[],\n",
    "       niter=10000,\n",
    "       gain=0.1,\n",
    "       threshold=\"0.5mJy\", # close to RMS\n",
    "       nsigma=0.0,cycleniter=-1,\n",
    "       cyclefactor=1.0,minpsffraction=0.05,maxpsffraction=0.8,interactive=False,\n",
    "       #usemask=\"user\", # no masking\n",
    "       #mask=\"imaging_results/W51-E_B6_clean_mask.mask\",\n",
    "       pbmask=0.0,sidelobethreshold=3.0,noisethreshold=5.0,lownoisethreshold=1.5,\n",
    "       negativethreshold=0.0,smoothfactor=1.0,minbeamfrac=0.3,cutthreshold=0.01,growiterations=75,\n",
    "       dogrowprune=True,minpercentchange=-1.0,verbose=False,restart=True,\n",
    "       savemodel=\"none\",\n",
    "       calcres=True,calcpsf=True,parallel=False)\n"
   ]
  },
  {
   "cell_type": "code",
   "execution_count": null,
   "metadata": {},
   "outputs": [],
   "source": [
    "imagename_mosaic = \"imaging_results/W51-E_B6_uid___A001_X1296_X215_continuum_merged_12M_robust0_selfcal2_mosaicgridder_center\"\n",
    "tclean(vis=\"W51-E_B6_uid___A001_X1296_X215_continuum_merged_12M_selfcal.ms\",\n",
    "       selectdata=True,\n",
    "       field=\",\".join(map(str, centerfield)),\n",
    "       spw=\"\",timerange=\"\",\n",
    "       uvrange=\"\",\n",
    "       antenna=\"DA41,DA42,DA43,DA44,DA45,DA46,DA47,DA48,DA49,DA50,DA51,DA52,DA53,DA54,DA55,DA56,DA57,DA58,DA59,DA60,DA61,DA62,DA63,DA64,DV01,DV02,DV03,DV04,DV05,DV06,DV07,DV09,DV10,DV11,DV14,DV15,DV16,DV17,DV20,DV22,DV23,DV24,DV25,PM03,DA45,DA46,DA48,DA50,DA51,DA52,DA54,DA55,DA56,DA58,DA59,DA61,DA62,DA63,DA65,DV02,DV03,DV04,DV08,DV12,DV13,DV14,DV19,DV21,DV22,DV24,DV25\",\n",
    "       scan=\"\",\n",
    "       observation=\"\",\n",
    "       intent=\"\",\n",
    "       datacolumn=\"corrected\",\n",
    "       imagename=imagename_mosaic,\n",
    "       imsize=[850, 850],\n",
    "       phasecenter=\"ICRS 290.9332327deg 14.50817819deg\",\n",
    "       cell=['0.06arcsec', '0.06arcsec'],\n",
    "       stokes=\"I\",projection=\"SIN\",startmodel=\"\",specmode=\"mfs\",reffreq=\"\",\n",
    "       nchan=-1,start=\"\",width=\"\",outframe=\"LSRK\",veltype=\"radio\",\n",
    "       restfreq=[],interpolation=\"linear\",\n",
    "       gridder=\"standard\",\n",
    "       facets=1,chanchunks=1,\n",
    "       wprojplanes=1,\n",
    "       vptable=\"\",usepointing=False,mosweight=True,aterm=True,\n",
    "       psterm=False,wbawp=True,conjbeams=False,cfcache=\"\",computepastep=360.0,\n",
    "       rotatepastep=360.0,pblimit=0.1,normtype=\"flatnoise\",deconvolver=\"mtmfs\",scales=[0, 3, 9],\n",
    "       nterms=2,smallscalebias=0.6,restoration=True,restoringbeam=[],pbcor=False,\n",
    "       outlierfile=\"\",weighting=\"briggs\",robust=0,npixels=0,uvtaper=[],\n",
    "       niter=10000,\n",
    "       gain=0.1,\n",
    "       threshold=\"0.5mJy\", # close to RMS\n",
    "       nsigma=0.0,cycleniter=-1,\n",
    "       cyclefactor=1.0,minpsffraction=0.05,maxpsffraction=0.8,interactive=False,\n",
    "       #usemask=\"user\", # no masking\n",
    "       #mask=\"imaging_results/W51-E_B6_clean_mask.mask\",\n",
    "       pbmask=0.0,sidelobethreshold=3.0,noisethreshold=5.0,lownoisethreshold=1.5,\n",
    "       negativethreshold=0.0,smoothfactor=1.0,minbeamfrac=0.3,cutthreshold=0.01,growiterations=75,\n",
    "       dogrowprune=True,minpercentchange=-1.0,verbose=False,restart=True,\n",
    "       savemodel=\"none\",\n",
    "       calcres=True,calcpsf=True,parallel=False)\n"
   ]
  },
  {
   "cell_type": "code",
   "execution_count": null,
   "metadata": {},
   "outputs": [],
   "source": [
    "show(imagename_standard)"
   ]
  },
  {
   "cell_type": "code",
   "execution_count": null,
   "metadata": {},
   "outputs": [],
   "source": [
    "show(imagename_mosaic)"
   ]
  }
 ],
 "metadata": {
  "kernelspec": {
   "display_name": "Python 3",
   "language": "python",
   "name": "python3"
  },
  "language_info": {
   "codemirror_mode": {
    "name": "ipython",
    "version": 3
   },
   "file_extension": ".py",
   "mimetype": "text/x-python",
   "name": "python",
   "nbconvert_exporter": "python",
   "pygments_lexer": "ipython3",
   "version": "3.6.0"
  }
 },
 "nbformat": 4,
 "nbformat_minor": 2
}
