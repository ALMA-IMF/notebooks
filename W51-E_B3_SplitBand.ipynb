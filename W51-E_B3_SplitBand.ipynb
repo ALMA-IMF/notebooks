{
 "cells": [
  {
   "cell_type": "markdown",
   "metadata": {},
   "source": [
    "# Split-band imaging\n",
    "\n",
    "W51-E B3 has shown disastrously bad artifacts.  This notebook will explore whether we can fix those by splitting the imaging up."
   ]
  },
  {
   "cell_type": "code",
   "execution_count": 1,
   "metadata": {},
   "outputs": [],
   "source": [
    "%matplotlib inline\n",
    "from casatasks import tclean, ft, clearcal, uvsub, split\n",
    "from casatools import ms, table, msmetadata\n",
    "from spectral_cube import SpectralCube\n",
    "import numpy as np\n",
    "from astropy import units as u, visualization\n",
    "from astropy.visualization import simple_norm\n",
    "import pylab as pl\n",
    "visualization.quantity_support()\n",
    "ms = ms()\n",
    "msmd = msmetadata()\n",
    "tb = table()"
   ]
  },
  {
   "cell_type": "code",
   "execution_count": 4,
   "metadata": {},
   "outputs": [
    {
     "name": "stdout",
     "output_type": "stream",
     "text": [
      "/orange/adamginsburg/ALMA_IMF/2017.1.01355.L\n"
     ]
    }
   ],
   "source": [
    "cd /orange/adamginsburg/ALMA_IMF/2017.1.01355.L/"
   ]
  },
  {
   "cell_type": "code",
   "execution_count": 5,
   "metadata": {},
   "outputs": [],
   "source": [
    "original_ms = \"W51-E_B3_uid___A001_X1296_X10b_continuum_merged_12M_selfcal.ms\""
   ]
  },
  {
   "cell_type": "code",
   "execution_count": 6,
   "metadata": {},
   "outputs": [
    {
     "data": {
      "text/plain": [
       "True"
      ]
     },
     "execution_count": 6,
     "metadata": {},
     "output_type": "execute_result"
    }
   ],
   "source": [
    "msmd.open(original_ms)"
   ]
  },
  {
   "cell_type": "code",
   "execution_count": 7,
   "metadata": {},
   "outputs": [
    {
     "data": {
      "text/plain": [
       "array([12, 13, 14, 15, 16, 17, 18, 19, 28, 29, 30, 31, 32, 33, 34, 35, 36,\n",
       "       37, 38, 39, 40, 41, 42, 43, 44, 45, 46, 47], dtype=int32)"
      ]
     },
     "execution_count": 7,
     "metadata": {},
     "output_type": "execute_result"
    }
   ],
   "source": [
    "msmd.spwsforfield('W51-E')"
   ]
  },
  {
   "cell_type": "code",
   "execution_count": 9,
   "metadata": {},
   "outputs": [
    {
     "name": "stdout",
     "output_type": "stream",
     "text": [
      "[12, 13, 16, 17, 28, 29, 32, 33, 36, 37, 40, 41, 44, 45] [14, 15, 18, 19, 30, 31, 34, 35, 38, 39, 42, 43, 46, 47]\n"
     ]
    }
   ],
   "source": [
    "low_spws = [spw for spw in msmd.spwsforfield('W51-E') if np.all(msmd.chanfreqs(spw) < 9.5e10)]\n",
    "high_spws = [spw for spw in msmd.spwsforfield('W51-E') if np.all(msmd.chanfreqs(spw) > 9.5e10)]\n",
    "print(low_spws, high_spws)"
   ]
  },
  {
   "cell_type": "code",
   "execution_count": 10,
   "metadata": {},
   "outputs": [
    {
     "data": {
      "text/plain": [
       "True"
      ]
     },
     "execution_count": 10,
     "metadata": {},
     "output_type": "execute_result"
    }
   ],
   "source": [
    "msmd.close()"
   ]
  },
  {
   "cell_type": "code",
   "execution_count": 11,
   "metadata": {},
   "outputs": [
    {
     "data": {
      "text/plain": [
       "True"
      ]
     },
     "execution_count": 11,
     "metadata": {},
     "output_type": "execute_result"
    }
   ],
   "source": [
    "split(vis=original_ms, outputvis='W51-E_B3_selfcal_93GHz.ms', spw=','.join(map(str, low_spws)))"
   ]
  },
  {
   "cell_type": "code",
   "execution_count": 12,
   "metadata": {},
   "outputs": [
    {
     "data": {
      "text/plain": [
       "True"
      ]
     },
     "execution_count": 12,
     "metadata": {},
     "output_type": "execute_result"
    }
   ],
   "source": [
    "split(vis=original_ms, outputvis='W51-E_B3_selfcal_100GHz.ms', spw=','.join(map(str, high_spws)))"
   ]
  },
  {
   "cell_type": "code",
   "execution_count": null,
   "metadata": {},
   "outputs": [],
   "source": [
    "tclean(vis=\"W51-E_B3_selfcal_93GHz.ms\",\n",
    "       selectdata=True, field=\"W51-E\", spw=\"\", timerange=\"\", uvrange=\"\",\n",
    "       antenna=\"DA41,DA42,DA43,DA44,DA45,DA46,DA47,DA49,DA50,DA51,DA52,DA53,DA54,DA55,DA56,DA57,DA58,DA59,DA61,DA62,DA63,DA65,DV01,DV03,DV04,DV06,DV07,DV08,DV09,DV10,DV11,DV12,DV13,DV14,DV15,DV16,DV17,DV19,DV20,DV23,DV24,DV25,PM01,PM02,PM03,DA60,DA64,DV05,DV22,DA48,DA49,DA51,DA60,DV01,DV15,DV23,PM03,PM04,DA53,DA46,DV10,DA42,DA43,DA44,DA45,DA46,DA47,DA50,DA51,DA55,DA56,DA57,DA58,DA61,DA62,DV02,DV03,DV07,DV11,DV12,DV14,DV19,DV21\",\n",
    "       scan=\"\", observation=\"\", intent=\"\", datacolumn=\"corrected\",\n",
    "       imagename=\"imaging_results/W51-E_B3_uid___A001_X1296_X10b_continuum_merged_12M_robust0_selfcal7_finaliter_lowfreq_brightmask_dirty\",\n",
    "       imsize=[4800,  4800], cell=['0.0375arcsec',  '0.0375arcsec'],\n",
    "       phasecenter=\"ICRS 290.934083333deg 14.5081943683deg\",\n",
    "       stokes=\"I\",\n",
    "       projection=\"SIN\",\n",
    "       startmodel=['imaging_results/W51-E_B3_uid___A001_X1296_X10b_continuum_merged_12M_robust0_selfcal7.model.tt0',\n",
    "                   'imaging_results/W51-E_B3_uid___A001_X1296_X10b_continuum_merged_12M_robust0_selfcal7.model.tt1'],\n",
    "       specmode=\"mfs\", reffreq=\"\", nchan=-1, start=\"\",\n",
    "       width=\"\", outframe=\"LSRK\", veltype=\"radio\", restfreq=[],\n",
    "       interpolation=\"linear\", perchanweightdensity=True, gridder=\"mosaic\",\n",
    "       facets=1, chanchunks=1, wprojplanes=1, vptable=\"\",\n",
    "       mosweight=True, aterm=True, psterm=False, wbawp=True, conjbeams=False,\n",
    "       cfcache=\"\", usepointing=False, computepastep=360.0, rotatepastep=360.0,\n",
    "       pointingoffsetsigdev=[], pblimit=0.1, normtype=\"flatnoise\",\n",
    "       deconvolver=\"mtmfs\", scales=[0,  3,  9], nterms=2, smallscalebias=0.0,\n",
    "       restoration=True, restoringbeam=[], pbcor=True, outlierfile=\"\",\n",
    "       weighting=\"briggs\", robust=0, noise=\"1.0Jy\", npixels=0, uvtaper=[],\n",
    "       niter=0, gain=0.1, threshold=\"0.15mJy\", nsigma=0.0, cycleniter=-1,\n",
    "       cyclefactor=1.0, minpsffraction=0.05, maxpsffraction=0.8,\n",
    "       interactive=False, usemask=\"user\",\n",
    "       mask=\"../reduction/reduction/noise_estimation_regions/W51E_Bright.crtf\",\n",
    "       pbmask=0.0,\n",
    "       sidelobethreshold=3.0, noisethreshold=5.0, lownoisethreshold=1.5,\n",
    "       negativethreshold=0.0, smoothfactor=1.0, minbeamfrac=0.3,\n",
    "       cutthreshold=0.01, growiterations=75, dogrowprune=True,\n",
    "       minpercentchange=-1.0, verbose=False, fastnoise=True, restart=True,\n",
    "       savemodel=\"none\", calcres=True, calcpsf=True, parallel=False)\n"
   ]
  },
  {
   "cell_type": "code",
   "execution_count": null,
   "metadata": {},
   "outputs": [],
   "source": [
    "tclean(vis=\"W51-E_B3_selfcal_100GHz.ms\",\n",
    "       selectdata=True, field=\"W51-E\", spw=\"\", timerange=\"\", uvrange=\"\",\n",
    "       antenna=\"DA41,DA42,DA43,DA44,DA45,DA46,DA47,DA49,DA50,DA51,DA52,DA53,DA54,DA55,DA56,DA57,DA58,DA59,DA61,DA62,DA63,DA65,DV01,DV03,DV04,DV06,DV07,DV08,DV09,DV10,DV11,DV12,DV13,DV14,DV15,DV16,DV17,DV19,DV20,DV23,DV24,DV25,PM01,PM02,PM03,DA60,DA64,DV05,DV22,DA48,DA49,DA51,DA60,DV01,DV15,DV23,PM03,PM04,DA53,DA46,DV10,DA42,DA43,DA44,DA45,DA46,DA47,DA50,DA51,DA55,DA56,DA57,DA58,DA61,DA62,DV02,DV03,DV07,DV11,DV12,DV14,DV19,DV21\",\n",
    "       scan=\"\", observation=\"\", intent=\"\", datacolumn=\"corrected\",\n",
    "       imagename=\"imaging_results/W51-E_B3_uid___A001_X1296_X10b_continuum_merged_12M_robust0_selfcal7_finaliter_highfreq_brightmask_dirty\",\n",
    "       imsize=[4800,  4800], cell=['0.0375arcsec',  '0.0375arcsec'],\n",
    "       phasecenter=\"ICRS 290.934083333deg 14.5081943683deg\",\n",
    "       stokes=\"I\",\n",
    "       projection=\"SIN\",\n",
    "       startmodel=['imaging_results/W51-E_B3_uid___A001_X1296_X10b_continuum_merged_12M_robust0_selfcal7.model.tt0',\n",
    "                   'imaging_results/W51-E_B3_uid___A001_X1296_X10b_continuum_merged_12M_robust0_selfcal7.model.tt1'],\n",
    "       specmode=\"mfs\", reffreq=\"\", nchan=-1, start=\"\",\n",
    "       width=\"\", outframe=\"LSRK\", veltype=\"radio\", restfreq=[],\n",
    "       interpolation=\"linear\", perchanweightdensity=True, gridder=\"mosaic\",\n",
    "       facets=1, chanchunks=1, wprojplanes=1, vptable=\"\",\n",
    "       mosweight=True, aterm=True, psterm=False, wbawp=True, conjbeams=False,\n",
    "       cfcache=\"\", usepointing=False, computepastep=360.0, rotatepastep=360.0,\n",
    "       pointingoffsetsigdev=[], pblimit=0.1, normtype=\"flatnoise\",\n",
    "       deconvolver=\"mtmfs\", scales=[0,  3,  9], nterms=2, smallscalebias=0.0,\n",
    "       restoration=True, restoringbeam=[], pbcor=True, outlierfile=\"\",\n",
    "       weighting=\"briggs\", robust=0, noise=\"1.0Jy\", npixels=0, uvtaper=[],\n",
    "       niter=0, gain=0.1, threshold=\"0.15mJy\", nsigma=0.0, cycleniter=-1,\n",
    "       cyclefactor=1.0, minpsffraction=0.05, maxpsffraction=0.8,\n",
    "       interactive=False, usemask=\"user\",\n",
    "       mask=\"../reduction/reduction/noise_estimation_regions/W51E_Bright.crtf\",\n",
    "       pbmask=0.0,\n",
    "       sidelobethreshold=3.0, noisethreshold=5.0, lownoisethreshold=1.5,\n",
    "       negativethreshold=0.0, smoothfactor=1.0, minbeamfrac=0.3,\n",
    "       cutthreshold=0.01, growiterations=75, dogrowprune=True,\n",
    "       minpercentchange=-1.0, verbose=False, fastnoise=True, restart=True,\n",
    "       savemodel=\"none\", calcres=True, calcpsf=True, parallel=False)\n"
   ]
  },
  {
   "cell_type": "code",
   "execution_count": null,
   "metadata": {},
   "outputs": [],
   "source": []
  }
 ],
 "metadata": {
  "kernelspec": {
   "display_name": "casa61_py36",
   "language": "python",
   "name": "casa61_py36"
  },
  "language_info": {
   "codemirror_mode": {
    "name": "ipython",
    "version": 3
   },
   "file_extension": ".py",
   "mimetype": "text/x-python",
   "name": "python",
   "nbconvert_exporter": "python",
   "pygments_lexer": "ipython3",
   "version": "3.6.12"
  }
 },
 "nbformat": 4,
 "nbformat_minor": 4
}
