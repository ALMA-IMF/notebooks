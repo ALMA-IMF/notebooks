{
 "cells": [
  {
   "cell_type": "code",
   "execution_count": 1,
   "metadata": {},
   "outputs": [],
   "source": [
    "import casatools"
   ]
  },
  {
   "cell_type": "code",
   "execution_count": 2,
   "metadata": {},
   "outputs": [],
   "source": [
    "%matplotlib inline\n",
    "import pylab as pl\n",
    "import numpy as np\n",
    "from astropy import units as u, visualization, coordinates\n",
    "from astropy.visualization import simple_norm"
   ]
  },
  {
   "cell_type": "code",
   "execution_count": 3,
   "metadata": {},
   "outputs": [],
   "source": [
    "from casatools import table\n",
    "from casatools import msmetadata\n",
    "from casatasks import split\n",
    "from casatools import image\n",
    "from casatasks import tclean\n",
    "\n",
    "ia = image()\n",
    "msmd = msmetadata()\n",
    "tb = table()"
   ]
  },
  {
   "cell_type": "code",
   "execution_count": 5,
   "metadata": {},
   "outputs": [
    {
     "name": "stdout",
     "output_type": "stream",
     "text": [
      "/lustre/cv/projects/ALMA_IMF/2017.1.01355.L\n"
     ]
    }
   ],
   "source": [
    "cd /lustre/cv/projects/ALMA_IMF/2017.1.01355.L"
   ]
  },
  {
   "cell_type": "code",
   "execution_count": 5,
   "metadata": {},
   "outputs": [],
   "source": [
    "def showimage(imagename, title=None, stretch='asinh', mask=None, **kwargs):\n",
    "    if isinstance(imagename, str):\n",
    "        ia.open(imagename)\n",
    "        data = ia.getchunk().squeeze()\n",
    "        ia.close()\n",
    "    else:\n",
    "        data = imagename\n",
    "        \n",
    "    if 'percentiles' in kwargs:\n",
    "        min_percent, max_percent = kwargs.pop('percentiles')\n",
    "        kwargs['min_percent'] = min_percent\n",
    "        kwargs['max_percent'] = max_percent\n",
    "            \n",
    "    if mask is not None:\n",
    "        data = data.squeeze().T * mask.T,\n",
    "    else:\n",
    "        data = data.squeeze().T\n",
    "            \n",
    "    pl.imshow(data,\n",
    "              norm=simple_norm(data,\n",
    "                               stretch=stretch,\n",
    "                               **kwargs))\n",
    "    if title is not None:\n",
    "        pl.title(title)\n",
    "    pl.gca().set_xticklabels([])\n",
    "    pl.gca().set_yticklabels([])\n",
    "    pl.colorbar()"
   ]
  },
  {
   "cell_type": "code",
   "execution_count": 6,
   "metadata": {},
   "outputs": [],
   "source": [
    "from astropy import units as u, coordinates"
   ]
  },
  {
   "cell_type": "code",
   "execution_count": 7,
   "metadata": {},
   "outputs": [
    {
     "data": {
      "text/plain": [
       "True"
      ]
     },
     "execution_count": 7,
     "metadata": {},
     "output_type": "execute_result"
    }
   ],
   "source": [
    "tb.open('/lustre/cv/projects/ALMA_IMF/2017.1.01355.L/science_goal.uid___A001_X1296_X211/group.uid___A001_X1296_X212/member.uid___A001_X1296_X215/calibrated/uid___A002_Xcf0c6b_X4bbc_W51-E_B6_spw0.split/FIELD')\n",
    "#print(tb.colnames())\n",
    "names = tb.getcol('NAME')\n",
    "direction = tb.getcol(\"PHASE_DIR\")\n",
    "#print(names)\n",
    "#print(direction)\n",
    "tb.close()"
   ]
  },
  {
   "cell_type": "code",
   "execution_count": 8,
   "metadata": {},
   "outputs": [],
   "source": [
    "coords = coordinates.SkyCoord(direction[0]*u.rad, direction[1]*u.rad, frame='icrs')"
   ]
  },
  {
   "cell_type": "code",
   "execution_count": 9,
   "metadata": {},
   "outputs": [],
   "source": [
    "%matplotlib inline\n",
    "import pylab as pl"
   ]
  },
  {
   "cell_type": "code",
   "execution_count": 10,
   "metadata": {},
   "outputs": [
    {
     "data": {
      "image/png": "[encoded data removed]",
      "text/plain": [
       "<Figure size 432x288 with 1 Axes>"
      ]
     },
     "metadata": {
      "needs_background": "light"
     },
     "output_type": "display_data"
    }
   ],
   "source": [
    "pl.clf()\n",
    "center = coords.ra.deg.mean(), coords.dec.deg.mean()\n",
    "pl.plot(coords.ra.deg, coords.dec.deg, '.')\n",
    "for ii,cc in enumerate(coords[0]):\n",
    "    #print(ii, cc, cc.ra.deg, cc.dec.deg)\n",
    "    pl.text(cc.ra.deg, cc.dec.deg, str(ii))"
   ]
  },
  {
   "cell_type": "code",
   "execution_count": 11,
   "metadata": {},
   "outputs": [],
   "source": [
    "import glob\n",
    "mses = glob.glob(\"./science_goal.uid___A001_X1296_X211/group.uid___*/member.uid___*/calibrated/uid___*_W51-E_B6_spw0.split\")"
   ]
  },
  {
   "cell_type": "code",
   "execution_count": 12,
   "metadata": {},
   "outputs": [
    {
     "data": {
      "image/png": "[encoded data removed]",
      "text/plain": [
       "<Figure size 432x288 with 1 Axes>"
      ]
     },
     "metadata": {
      "needs_background": "light"
     },
     "output_type": "display_data"
    }
   ],
   "source": [
    "for ms in mses:\n",
    "    \n",
    "    tb.open(f\"{ms}/FIELD\")\n",
    "    names = tb.getcol('NAME')\n",
    "    #print(ms, len(names))\n",
    "    direction = tb.getcol(\"PHASE_DIR\")\n",
    "    tb.close()\n",
    "    \n",
    "    coords = coordinates.SkyCoord(direction[0][0]*u.rad, direction[1][0]*u.rad, frame='icrs')\n",
    "    \n",
    "    if len(coords) > 20:\n",
    "\n",
    "        pl.clf()\n",
    "        center = coords.ra.deg.mean(), coords.dec.deg.mean()\n",
    "        pl.plot(coords.ra.deg, coords.dec.deg, '.')\n",
    "        pl.text(coords[12].ra.deg, coords[12].dec.deg, \"12\")\n",
    "        #for ii,cc in enumerate(coords[0]):\n",
    "        #    #print(ii, cc, cc.ra.deg, cc.dec.deg)\n",
    "        #    pl.text(cc.ra.deg, cc.dec.deg, str(ii))"
   ]
  },
  {
   "cell_type": "code",
   "execution_count": 13,
   "metadata": {},
   "outputs": [
    {
     "data": {
      "text/plain": [
       "'uid___A002_Xcf0c6b_X4bbc_W51-E_B6_spw0.split'"
      ]
     },
     "execution_count": 13,
     "metadata": {},
     "output_type": "execute_result"
    }
   ],
   "source": [
    "import os\n",
    "os.path.basename('./science_goal.uid___A001_X1296_X211/group.uid___A001_X1296_X212/member.uid___A001_X1296_X215/calibrated/uid___A002_Xcf0c6b_X4bbc_W51-E_B6_spw0.split')"
   ]
  },
  {
   "cell_type": "code",
   "execution_count": 14,
   "metadata": {},
   "outputs": [
    {
     "name": "stdout",
     "output_type": "stream",
     "text": [
      "Splitting MSes\n"
     ]
    }
   ],
   "source": [
    "print(\"Splitting MSes\")\n",
    "for ms in mses:\n",
    "    tb.open(f\"{ms}/ANTENNA\")\n",
    "    antennadiam = tb.getcol(\"DISH_DIAMETER\")\n",
    "    tb.close()\n",
    "    if np.all(antennadiam > 10):\n",
    "        outputvis = f\"{os.path.basename(ms)}.field12\"\n",
    "        if not os.path.exists(outputvis):\n",
    "            print(f\"Splitting {ms}\")\n",
    "            split(vis=ms, outputvis=outputvis, field=\"12\", datacolumn='data')"
   ]
  },
  {
   "cell_type": "code",
   "execution_count": 15,
   "metadata": {},
   "outputs": [
    {
     "name": "stdout",
     "output_type": "stream",
     "text": [
      "Found mses ['uid___A002_Xc96463_X6519_W51-E_B6_spw0.split.field12', 'uid___A002_Xc96f17_X6e3d_W51-E_B6_spw0.split.field12', 'uid___A002_Xcf0c6b_X4bbc_W51-E_B6_spw0.split.field12']\n"
     ]
    }
   ],
   "source": [
    "mses_field12 = glob.glob(\"*field12\")\n",
    "print(f\"Found mses {mses_field12}\")"
   ]
  },
  {
   "cell_type": "markdown",
   "metadata": {},
   "source": [
    "!mkdir field12_tests"
   ]
  },
  {
   "cell_type": "markdown",
   "metadata": {},
   "source": [
    "!rm -rf field12_tests/Field12_W51E_test_standard_robust2.psf"
   ]
  },
  {
   "cell_type": "code",
   "execution_count": null,
   "metadata": {},
   "outputs": [],
   "source": [
    "ls field12_tests/"
   ]
  },
  {
   "cell_type": "markdown",
   "metadata": {},
   "source": [
    "tclean(vis=mses_field12,\n",
    "       imagename='field12_tests/Field12_W51E_test_standard_robust2',\n",
    "       spw='0:100',\n",
    "       gridder='standard',\n",
    "       imsize=512,\n",
    "       cell='0.1arcsec',\n",
    "       niter=1000,\n",
    "       deconvolver='multiscale',\n",
    "       scales=[0,3,9,27],\n",
    "       weighting='briggs',\n",
    "       robust=2,\n",
    "      )"
   ]
  },
  {
   "cell_type": "markdown",
   "metadata": {},
   "source": [
    "ls field12_tests/"
   ]
  },
  {
   "cell_type": "code",
   "execution_count": null,
   "metadata": {},
   "outputs": [],
   "source": [
    "print(\"TEST\")"
   ]
  },
  {
   "cell_type": "code",
   "execution_count": null,
   "metadata": {},
   "outputs": [],
   "source": []
  }
 ],
 "metadata": {
  "kernelspec": {
   "display_name": "Python [conda env:jupyter]",
   "language": "python",
   "name": "conda-env-jupyter-py"
  },
  "language_info": {
   "codemirror_mode": {
    "name": "ipython",
    "version": 3
   },
   "file_extension": ".py",
   "mimetype": "text/x-python",
   "name": "python",
   "nbconvert_exporter": "python",
   "pygments_lexer": "ipython3",
   "version": "3.6.8"
  }
 },
 "nbformat": 4,
 "nbformat_minor": 2
}
