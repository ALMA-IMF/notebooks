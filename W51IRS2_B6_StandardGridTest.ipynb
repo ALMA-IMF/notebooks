{
 "cells": [
  {
   "cell_type": "markdown",
   "metadata": {},
   "source": [
    "### W51-IRS2 B6\n",
    "Aim: Compare gridders."
   ]
  },
  {
   "cell_type": "code",
   "execution_count": 2,
   "metadata": {},
   "outputs": [],
   "source": [
    "fieldname='W51-IRS2'\n",
    "band='B6'\n",
    "uid='X187'\n",
    "finalselfcal=8"
   ]
  },
  {
   "cell_type": "code",
   "execution_count": 3,
   "metadata": {},
   "outputs": [],
   "source": [
    "import os\n",
    "from casatasks import tclean, immath, imregrid, split\n",
    "from casatools import msmetadata, image, table\n",
    "tb = table()\n",
    "msmd = ms = msmetadata()\n",
    "ia = image()\n",
    "import shutil"
   ]
  },
  {
   "cell_type": "code",
   "execution_count": 4,
   "metadata": {},
   "outputs": [],
   "source": [
    "from astropy import units as u\n",
    "from astropy.coordinates import SkyCoord\n",
    "from astropy.io import fits\n",
    "from astropy import wcs"
   ]
  },
  {
   "cell_type": "code",
   "execution_count": 5,
   "metadata": {},
   "outputs": [],
   "source": [
    "import reproject"
   ]
  },
  {
   "cell_type": "code",
   "execution_count": 6,
   "metadata": {},
   "outputs": [],
   "source": [
    "%matplotlib inline\n",
    "import numpy as np\n",
    "from astropy import units as u\n",
    "import pylab as pl\n",
    "pl.rcParams['figure.figsize'] = (16,8)\n",
    "pl.style.use('dark_background')\n",
    "pl.rcParams['image.origin'] = 'lower'\n",
    "import sys\n",
    "import glob\n",
    "sys.path.append('/orange/adamginsburg/ALMA_IMF/reduction/reduction/')\n",
    "sys.path.append('/orange/adamginsburg/ALMA_IMF/reduction/analysis/')\n",
    "import imp, diagnostic_images\n",
    "imp.reload(diagnostic_images)\n",
    "from diagnostic_images import load_images, show\n",
    "from spectral_cube import SpectralCube\n",
    "import spectral_cube\n",
    "from astropy.visualization import simple_norm"
   ]
  },
  {
   "cell_type": "code",
   "execution_count": 7,
   "metadata": {},
   "outputs": [],
   "source": [
    "import warnings\n",
    "import spectral_cube\n",
    "warnings.simplefilter('ignore', spectral_cube.utils.BeamWarning)\n",
    "warnings.simplefilter('ignore', spectral_cube.utils.StokesWarning)\n",
    "warnings.simplefilter('ignore', spectral_cube.utils.PossiblySlowWarning)\n",
    "warnings.simplefilter('ignore', spectral_cube.utils.WCSWarning)"
   ]
  },
  {
   "cell_type": "code",
   "execution_count": 8,
   "metadata": {},
   "outputs": [],
   "source": [
    "import os\n",
    "os.chdir(\"/orange/adamginsburg/ALMA_IMF/2017.1.01355.L\")"
   ]
  },
  {
   "cell_type": "code",
   "execution_count": 9,
   "metadata": {},
   "outputs": [],
   "source": [
    "origmsname = f\"/orange/adamginsburg/ALMA_IMF/2017.1.01355.L/{fieldname}_{band}_uid___A001_X1296_{uid}_continuum_merged_12M_selfcal.ms/\""
   ]
  },
  {
   "cell_type": "code",
   "execution_count": 10,
   "metadata": {},
   "outputs": [
    {
     "name": "stdout",
     "output_type": "stream",
     "text": [
      "DA41,DA42,DA43,DA44,DA45,DA46,DA48,DA49,DA50,DA51,DA52,DA53,DA54,DA55,DA56,DA58,DA60,DA61,DA62,DA63,DA64,DA65,DV01,DV02,DV03,DV04,DV05,DV06,DV07,DV08,DV09,DV10,DV11,DV12,DV13,DV14,DV15,DV16,DV17,DV18,DV19,DV20,DV21,DV22,DV23,DV24,DV25,DA47,DA48,DA52,DA56,DA57,DA58,DA59,DA61,DA63,DV12,DV13,DV14,DV18,DV19,DV22,DV24,DV25\n"
     ]
    },
    {
     "data": {
      "text/plain": [
       "True"
      ]
     },
     "execution_count": 10,
     "metadata": {},
     "output_type": "execute_result"
    }
   ],
   "source": [
    "msmd.open(origmsname)\n",
    "antennae = \",\".join([x for x in msmd.antennanames() if 'CM' not in x])\n",
    "print(antennae)\n",
    "msmd.close()"
   ]
  },
  {
   "cell_type": "code",
   "execution_count": 11,
   "metadata": {},
   "outputs": [
    {
     "name": "stdout",
     "output_type": "stream",
     "text": [
      "[ 0  1  2  3  4  5  6  7  8  9 10 11]\n"
     ]
    },
    {
     "data": {
      "text/plain": [
       "True"
      ]
     },
     "execution_count": 11,
     "metadata": {},
     "output_type": "execute_result"
    }
   ],
   "source": [
    "msname = origmsname.replace(\".ms\", \"_no7m.ms\")\n",
    "split(vis=origmsname, outputvis=msname, antenna=antennae)\n",
    "\n",
    "tb.open(msname+\"/ANTENNA\")\n",
    "colnames = tb.colnames()\n",
    "data = {cn: tb.getcol(cn) for cn in colnames}\n",
    "tb.close()\n",
    "\n",
    "mask7m = data['DISH_DIAMETER'] == 7\n",
    "rownrs, = np.nonzero(mask7m)\n",
    "print(rownrs)\n",
    "\n",
    "tb.open(msname+\"/ANTENNA\", nomodify=False)\n",
    "tb.removerows(rownrs)\n",
    "tb.close()"
   ]
  },
  {
   "cell_type": "code",
   "execution_count": 12,
   "metadata": {},
   "outputs": [
    {
     "name": "stdout",
     "output_type": "stream",
     "text": [
      "13\n",
      "[11 12 13 14 15 16 17 18 19 20 21 22 23 24 25 26 27 28 29 30 31 32 33 34\n",
      " 35 36 37]\n",
      "[11 12 13 14 15 16 17 18 19 20 21 22 23 24 25 26 27 28 29 30 31 32 33 34\n",
      " 35 36 37]\n"
     ]
    },
    {
     "data": {
      "text/plain": [
       "True"
      ]
     },
     "execution_count": 12,
     "metadata": {},
     "output_type": "execute_result"
    }
   ],
   "source": [
    "msmd.open(origmsname)\n",
    "print(msmd.nobservations())\n",
    "#for ii in range(msmd.nobservations()):\n",
    "#    print(f\"{ii}: {msmd.antennaids(obsid=ii)}\")\n",
    "#print(msmd.scannumbers(2), msmd.scannumbers(3), msmd.scannumbers(12))\n",
    "print(msmd.fieldsforscans(msmd.scannumbers(obsid=2)))\n",
    "print(msmd.fieldsforscans(msmd.scannumbers(obsid=3)))\n",
    "#print(msmd.fieldsforscans(msmd.scannumbers(obsid=12)))\n",
    "fields_12m = msmd.fieldsforscans(msmd.scannumbers(obsid=2))\n",
    "msmd.close()"
   ]
  },
  {
   "cell_type": "code",
   "execution_count": 13,
   "metadata": {},
   "outputs": [
    {
     "data": {
      "image/png": "[encoded data removed]",
      "text/plain": [
       "<Figure size 1152x576 with 1 Axes>"
      ]
     },
     "metadata": {},
     "output_type": "display_data"
    }
   ],
   "source": [
    "#w51e2 = SkyCoord('19:23:43.939 +14:30:34.472', frame='fk5', unit=(u.hour, u.deg))\n",
    "ax = pl.gca()\n",
    "centerfield = []\n",
    "msmd.open(origmsname)\n",
    "for fid in msmd.fieldsforname(fieldname):\n",
    "    if fid in fields_12m:\n",
    "        crd = msmd.phasecenter(fid)\n",
    "        field_coord = SkyCoord(crd['m0']['value'], crd['m1']['value'],\n",
    "                               frame=crd['refer'].lower(),\n",
    "                               unit=(crd['m0']['unit'], crd['m1']['unit']))\n",
    "        #sep = w51e2.separation(field_coord)\n",
    "        ax.scatter(field_coord.ra.deg, field_coord.dec.deg)\n",
    "        ax.annotate(str(fid), (field_coord.ra.deg, field_coord.dec.deg))\n",
    "        #print(f\"{fid} is separated by {sep.to(u.arcsec):0.1f}\")\n",
    "        #print(f'circle({field_coord.ra.deg}, {field_coord.dec.deg}, 15\")')\n",
    "        #if sep < 10*u.arcsec:\n",
    "        #    centerfield.append(fid)\n",
    "        \n",
    "msmd.close()\n",
    "#print(centerfield)\n",
    "centerfield=7"
   ]
  },
  {
   "cell_type": "code",
   "execution_count": 14,
   "metadata": {},
   "outputs": [
    {
     "name": "stdout",
     "output_type": "stream",
     "text": [
      "DA41,DA42,DA43,DA44,DA45,DA46,DA48,DA49,DA50,DA51,DA52,DA53,DA54,DA55,DA56,DA58,DA60,DA61,DA62,DA63,DA64,DA65,DV01,DV02,DV03,DV04,DV05,DV06,DV07,DV08,DV09,DV10,DV11,DV12,DV13,DV14,DV15,DV16,DV17,DV18,DV19,DV20,DV21,DV22,DV23,DV24,DV25,DA47,DA48,DA52,DA56,DA57,DA58,DA59,DA61,DA63,DV12,DV13,DV14,DV18,DV19,DV22,DV24,DV25\n"
     ]
    },
    {
     "data": {
      "text/plain": [
       "True"
      ]
     },
     "execution_count": 14,
     "metadata": {},
     "output_type": "execute_result"
    }
   ],
   "source": [
    "msmd.open(origmsname)\n",
    "antennae = \",\".join([x for x in msmd.antennanames() if 'CM' not in x])\n",
    "print(antennae)\n",
    "msmd.close()"
   ]
  },
  {
   "cell_type": "code",
   "execution_count": 15,
   "metadata": {},
   "outputs": [],
   "source": [
    "releasepath = f\"/orange/adamginsburg/ALMA_IMF/2017.1.01355.L/December2020Release/{fieldname}/{band}/cleanest/\""
   ]
  },
  {
   "cell_type": "code",
   "execution_count": 16,
   "metadata": {},
   "outputs": [
    {
     "name": "stdout",
     "output_type": "stream",
     "text": [
      "[[-0.1  0. ]\n",
      " [ 0.   0.1]]\n"
     ]
    }
   ],
   "source": [
    "finaliter = fits.open(f\"{releasepath}/{fieldname}_{band}_uid___A001_X1296_{uid}_continuum_merged_12M_robust0_selfcal{finalselfcal}_finaliter.image.tt0.pbcor.fits\")\n",
    "ww = wcs.WCS(finaliter[0].header)\n",
    "print(ww.celestial.pixel_scale_matrix*3600)\n",
    "pixscale = np.mean(np.abs(wcs.utils.proj_plane_pixel_scales(ww.celestial)*3600))"
   ]
  },
  {
   "cell_type": "code",
   "execution_count": 17,
   "metadata": {},
   "outputs": [],
   "source": [
    "if band == 'B3':\n",
    "    imsize=[1500,1500]\n",
    "else:\n",
    "    imsize = [1200,1200]"
   ]
  },
  {
   "cell_type": "code",
   "execution_count": 18,
   "metadata": {},
   "outputs": [],
   "source": [
    "releasepath = 'imaging_results' # not reeally a release path...\n",
    "finalmodelname = [f\"{releasepath}/{fieldname}_{band}_uid___A001_X1296_{uid}_continuum_merged_12M_robust0_selfcal{finalselfcal}_finaliter.model.tt0\",\n",
    "                  f\"{releasepath}/{fieldname}_{band}_uid___A001_X1296_{uid}_continuum_merged_12M_robust0_selfcal{finalselfcal}_finaliter.model.tt1\"]\n",
    "finalpbname = f\"{releasepath}/{fieldname}_{band}_uid___A001_X1296_{uid}_continuum_merged_12M_robust0_selfcal{finalselfcal}_finaliter.pb.tt0\"\n",
    "try:\n",
    "    finalmodel_pbcor = immath(imagename=[finalmodelname[1], finalpbname], expr='IM0/IM1', outfile=finalmodelname[1]+\".pbcor\")\n",
    "except Exception as ex:\n",
    "    print(ex)\n",
    "try:\n",
    "    finalmodel_pbcor = immath(imagename=[finalmodelname[0], finalpbname], expr='IM0/IM1', outfile=finalmodelname[0]+\".pbcor\")\n",
    "except Exception as ex:\n",
    "    print(ex)"
   ]
  },
  {
   "cell_type": "code",
   "execution_count": 19,
   "metadata": {},
   "outputs": [],
   "source": [
    "stdgrdpath = f'imaging_results/{fieldname}_{band}_stdgridder_tests/'\n",
    "if not os.path.exists(stdgrdpath):\n",
    "    os.mkdir(stdgrdpath)"
   ]
  },
  {
   "cell_type": "code",
   "execution_count": null,
   "metadata": {},
   "outputs": [],
   "source": [
    "for field in fields_12m:\n",
    "    imagename_standard = f\"{stdgrdpath}/{fieldname}_{band}_uid___A001_X1296_{uid}_continuum_merged_12M_robust0_finalselfcal_standardgridder_center_field{field}\"\n",
    "    if os.path.exists(imagename_standard+\".image.tt0\"):\n",
    "        if not os.path.exists(f\"{imagename_standard}.dirty.image.tt0\"):\n",
    "            os.system(f\"rm -r {imagename_standard}.*\")\n",
    "        else:\n",
    "            print(f\"Skipped field {field}\")\n",
    "            continue\n",
    "    tclean(vis=msname,\n",
    "           selectdata=True,\n",
    "           field=str(field),\n",
    "           spw=\"\",\n",
    "           timerange=\"\",\n",
    "           uvrange=\"\",\n",
    "           antenna=antennae,\n",
    "           scan=\"\",\n",
    "           observation=\"\",\n",
    "           intent=\"\",\n",
    "           datacolumn=\"corrected\",\n",
    "           imagename=imagename_standard,\n",
    "           imsize=imsize,\n",
    "           cell=[f'{pixscale}arcsec', f'{pixscale}arcsec'],\n",
    "           stokes=\"I\",projection=\"SIN\",\n",
    "           nchan=-1,start=\"\",width=\"\",outframe=\"LSRK\",veltype=\"radio\",\n",
    "           gridder=\"standard\",\n",
    "           deconvolver=\"mtmfs\",\n",
    "           scales=[0, 3, 9],\n",
    "           nterms=2,\n",
    "           smallscalebias=0.6,\n",
    "           restoration=True,\n",
    "           pbcor=True,\n",
    "           weighting=\"briggs\",\n",
    "           robust=0,\n",
    "           niter=0,\n",
    "           verbose=False,\n",
    "           restart=True,\n",
    "           savemodel=\"none\",\n",
    "           calcres=True,\n",
    "           calcpsf=True,\n",
    "           parallel=False)\n",
    "    os.system(f\"rm -r {imagename_standard}.model.*\")\n",
    "    os.system(f\"rm -r {imagename_standard}.residual.*\")\n",
    "\n",
    "    imregrid(imagename=finalmodelname[0]+\".pbcor\", template=imagename_standard+\".pb.tt0\", output=imagename_standard+\"_finalmodel_proj_std.model.tt0.pbcor\")\n",
    "    imregrid(imagename=finalmodelname[1]+\".pbcor\", template=imagename_standard+\".pb.tt0\", output=imagename_standard+\"_finalmodel_proj_std.model.tt1.pbcor\")\n",
    "    immath(imagename=[imagename_standard+\".pb.tt0\", imagename_standard+\"_finalmodel_proj_std.model.tt0.pbcor\", ],           \n",
    "           expr=\"IM0 * IM1\",\n",
    "           outfile=imagename_standard+\".model.tt0\",\n",
    "           imagemd=imagename_standard+\".image.tt0\")\n",
    "    immath(imagename=[imagename_standard+\".pb.tt0\", imagename_standard+\"_finalmodel_proj_std.model.tt1.pbcor\", ],\n",
    "           expr=\"IM0 * IM1\",\n",
    "           outfile=imagename_standard+\".model.tt1\",\n",
    "           imagemd=imagename_standard+\".image.tt1\")\n",
    "    for fn in [f\"{imagename_standard}.image.tt{ii}\" for ii in range(2)]:\n",
    "        shutil.move(fn, fn.replace(\".image\", \".dirty.image\"))\n",
    "\n",
    "    tclean(vis=msname,\n",
    "           selectdata=True,\n",
    "           field=str(field),\n",
    "           spw=\"\",\n",
    "           timerange=\"\",\n",
    "           uvrange=\"\",\n",
    "           antenna=antennae,\n",
    "           scan=\"\",\n",
    "           observation=\"\",\n",
    "           intent=\"\",\n",
    "           datacolumn=\"corrected\",\n",
    "           imagename=imagename_standard,\n",
    "           imsize=imsize,\n",
    "           cell=[f'{pixscale}arcsec', f'{pixscale}arcsec'],\n",
    "           stokes=\"I\",projection=\"SIN\",\n",
    "           nchan=-1,start=\"\",width=\"\",outframe=\"LSRK\",veltype=\"radio\",\n",
    "           gridder=\"standard\",\n",
    "           deconvolver=\"mtmfs\",\n",
    "           scales=[0, 3, 9],\n",
    "           nterms=2,\n",
    "           smallscalebias=0.6,\n",
    "           restoration=True,\n",
    "           pbcor=True,\n",
    "           weighting=\"briggs\",\n",
    "           robust=0,\n",
    "           niter=0,\n",
    "           verbose=False,\n",
    "           restart=True,\n",
    "           savemodel=\"none\",\n",
    "           calcres=True,\n",
    "           calcpsf=True,\n",
    "           parallel=False)"
   ]
  },
  {
   "cell_type": "code",
   "execution_count": null,
   "metadata": {},
   "outputs": [],
   "source": [
    "field=7"
   ]
  },
  {
   "cell_type": "code",
   "execution_count": null,
   "metadata": {},
   "outputs": [],
   "source": [
    "imagename_standard = f\"{stdgrdpath}/{fieldname}_{band}_uid___A001_X1296_{uid}_continuum_merged_12M_robust0_finalselfcal_standardgridder_center_field{field}\""
   ]
  },
  {
   "cell_type": "code",
   "execution_count": null,
   "metadata": {},
   "outputs": [],
   "source": [
    "ls -d $imagename_standard*"
   ]
  },
  {
   "cell_type": "code",
   "execution_count": null,
   "metadata": {},
   "outputs": [],
   "source": [
    "fid = 7\n",
    "imagename_standard = f\"{stdgrdpath}/{fieldname}_{band}_uid___A001_X1296_{uid}_continuum_merged_12M_robust0_finalselfcal_standardgridder_center_field{fid}\"\n",
    "\n",
    "img = SpectralCube.read(imagename_standard+\".image.tt0.pbcor\", format='casa_image')    \n",
    "model = SpectralCube.read(imagename_standard+\".model.tt0\", format='casa_image')\n",
    "repmod = SpectralCube.read(f'{stdgrdpath}/{fieldname}_{band}_uid___A001_X1296_{uid}_continuum_merged_12M_robust0_finalselfcal_standardgridder_center_field{fid}_finalmodel_proj_std.model.tt0.pbcor', format='casa_image')\n",
    "\n",
    "residual = SpectralCube.read(imagename_standard+\".residual.tt0\", format='casa_image')\n",
    "pb = SpectralCube.read(imagename_standard+\".pb.tt0\", format='casa_image')\n",
    "\n",
    "pl.subplot(1,4,1).imshow(img[0].value)\n",
    "pl.subplot(1,4,2).imshow(residual[0].value)\n",
    "pl.subplot(1,4,3).imshow(model[0].value)\n",
    "pl.subplot(1,4,4).imshow(model[0].value - repmod[0].value)"
   ]
  },
  {
   "cell_type": "code",
   "execution_count": null,
   "metadata": {},
   "outputs": [],
   "source": [
    "finaliterim = SpectralCube.read(f\"{releasepath}/{fieldname}_{band}_uid___A001_X1296_{uid}_continuum_merged_12M_robust0_selfcal{finalselfcal}_finaliter.image.tt0.pbcor\", format='casa_image')"
   ]
  },
  {
   "cell_type": "code",
   "execution_count": null,
   "metadata": {},
   "outputs": [],
   "source": [
    "imagename_standard = f\"{stdgrdpath}/{fieldname}_{band}_uid___A001_X1296_{uid}_continuum_merged_12M_robust0_finalselfcal_standardgridder_center_field{fid}\"\n",
    "\n",
    "img = SpectralCube.read(imagename_standard+\".image.tt0.pbcor\", format='casa_image')    \n",
    "model = SpectralCube.read(imagename_standard+\".model.tt0\", format='casa_image')    \n",
    "residual = SpectralCube.read(imagename_standard+\".residual.tt0\", format='casa_image')    \n",
    "\n",
    "pl.subplot(1,3,1).imshow(img[0].value)\n",
    "pl.subplot(1,3,2).imshow(residual[0].value)\n",
    "pl.subplot(1,3,3).imshow(model[0].value)"
   ]
  },
  {
   "cell_type": "code",
   "execution_count": null,
   "metadata": {},
   "outputs": [],
   "source": [
    "pl.figure(figsize=(20,20))\n",
    "pl.imshow(finaliterim.minimal_subcube()[0].value, vmax=0.005, vmin=-0.0005)"
   ]
  },
  {
   "cell_type": "code",
   "execution_count": null,
   "metadata": {},
   "outputs": [],
   "source": [
    "def show(imagename_standard):\n",
    "    #img = SpectralCube.read(imagename_standard+\".image\", format='casa_image')    \n",
    "    #model = SpectralCube.read(imagename_standard+\".model\", format='casa_image')    \n",
    "    #residual = SpectralCube.read(imagename_standard+\".residual\", format='casa_image')    \n",
    "    #pb = SpectralCube.read(imagename_standard+\".pb\", format='casa_image')    \n",
    "\n",
    "\n",
    "    pl.figure(figsize=(16,5))\n",
    "\n",
    "    img = SpectralCube.read(imagename_standard+\".image.tt0\", format='casa_image')\n",
    "    dirtyimg = SpectralCube.read(imagename_standard+\".dirty.image.tt0\", format='casa_image')\n",
    "    resid = SpectralCube.read(imagename_standard+\".residual.tt0\", format='casa_image')\n",
    "    model = SpectralCube.read(imagename_standard+\".model.tt0\", format='casa_image')\n",
    "\n",
    "    reprj = finaliterim[0].reproject(img[0].header)\n",
    "    diff[field] = (reprj.value-img[0].value)\n",
    "    pb = SpectralCube.read(imagename_standard+\".pb.tt0\", format='casa_image')    \n",
    "\n",
    "    norm = simple_norm(dirtyimg[0].value, min_percent=1, max_percent=99.9, stretch='asinh')\n",
    "    pl.subplot(1,5,1).imshow(dirtyimg[0].value, norm=norm)\n",
    "    pl.contour(pb[0].value, levels=[0.2,0.5], colors=['w']*2)\n",
    "    pl.title(\"Dirty Image (std)\")\n",
    "    pl.xticks([]); pl.yticks([])\n",
    "    pl.subplot(1,5,2).imshow(img[0].value, norm=norm)\n",
    "    pl.contour(pb[0].value, levels=[0.2,0.5], colors=['w']*2)\n",
    "    pl.title(\"Image (standard)\")\n",
    "    pl.xticks([]); pl.yticks([])\n",
    "    pl.subplot(1,5,3).imshow(resid[0].value, norm=norm)\n",
    "    pl.contour(pb[0].value, levels=[0.2,0.5], colors=['w']*2)\n",
    "    pl.title(\"Residual\")\n",
    "    reprj = finaliterim[0].reproject(img[0].header)\n",
    "    pl.contour(pb[0].value, levels=[0.2,0.5], colors=['w']*2)\n",
    "    pl.xticks([]); pl.yticks([])\n",
    "    pl.subplot(1,5,4).imshow(reprj.value, norm=norm)\n",
    "    pl.title(\"Mosaic image regrid\")\n",
    "    pl.contour(pb[0].value, levels=[0.2,0.5], colors=['w']*2)\n",
    "    pl.suptitle(field)\n",
    "    pl.xticks([]); pl.yticks([])\n",
    "    \n",
    "    ax = pl.subplot(1,5,5)\n",
    "    im = ax.imshow(model[0].value, norm=simple_norm(model[0].value, max_percent=99.995, min_percent=1, stretch='log'))\n",
    "    #pl.contour(pb[0].value, levels=[0.2, 0.5], colors=['w']*2)\n",
    "    #pl.colorbar(mappable=im)\n",
    "    pl.xticks([]); pl.yticks([])\n",
    "    pl.title(\"Model\")"
   ]
  },
  {
   "cell_type": "code",
   "execution_count": null,
   "metadata": {},
   "outputs": [],
   "source": [
    "diff = {}\n",
    "\n",
    "for field in fields_12m:\n",
    "    imagename_standard = f\"{stdgrdpath}/{fieldname}_{band}_uid___A001_X1296_{uid}_continuum_merged_12M_robust0_finalselfcal_standardgridder_center_field{field}\"\n",
    "    show(imagename_standard)"
   ]
  },
  {
   "cell_type": "code",
   "execution_count": null,
   "metadata": {},
   "outputs": [],
   "source": []
  },
  {
   "cell_type": "code",
   "execution_count": null,
   "metadata": {},
   "outputs": [],
   "source": []
  },
  {
   "cell_type": "code",
   "execution_count": null,
   "metadata": {},
   "outputs": [],
   "source": []
  },
  {
   "cell_type": "code",
   "execution_count": null,
   "metadata": {},
   "outputs": [],
   "source": []
  }
 ],
 "metadata": {
  "kernelspec": {
   "display_name": "casa61_py36",
   "language": "python",
   "name": "casa61_py36"
  },
  "language_info": {
   "codemirror_mode": {
    "name": "ipython",
    "version": 3
   },
   "file_extension": ".py",
   "mimetype": "text/x-python",
   "name": "python",
   "nbconvert_exporter": "python",
   "pygments_lexer": "ipython3",
   "version": "3.6.12"
  }
 },
 "nbformat": 4,
 "nbformat_minor": 4
}
