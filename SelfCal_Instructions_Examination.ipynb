{
 "cells": [
  {
   "cell_type": "markdown",
   "metadata": {},
   "source": [
    "# Self-calibration\n",
    "\n",
    "We have partially automated the cleaning and self-calibration process.  This document describes how you can use the self-cal scripts to clean a target field."
   ]
  },
  {
   "cell_type": "markdown",
   "metadata": {},
   "source": [
    "The general process is:\n",
    "\n",
    "1. Produce a dirty image\n",
    "1. Create a mask based on that dirty image, using either the [region-based threshold approach](https://github.com/ALMA-IMF/reduction/blob/master/reduction/make_custom_mask.py) (see below) or CRTF region files (i.e., regions drawn onto the image as you normally do in an interactive clean session).\n",
    "1. Clean within that first mask region to a moderate depth\n",
    "1. Create a new mask\n",
    "1. Perform a phase-only self-calibration\n",
    "1. Reject any _fields_ in the self-calibration with inadequate signal-to-noise using [heuristics](https://github.com/ALMA-IMF/reduction/blob/master/reduction/selfcal_heuristics.py).  This stage is essential for our mosaiced fields, in which some pointings will have no signal at all.\n",
    "1. Apply the self-calibration solutions\n",
    "1. Clean with the new mask to a somewhat greater depth\n",
    "1. Create a new mask\n",
    "1. Repeat steps 5-9 above\n",
    "\n",
    "Then, after a few iterations of phase-only self-calibration, perform one or more iterations of amplitude self-calibration"
   ]
  },
  {
   "cell_type": "markdown",
   "metadata": {},
   "source": [
    "## Imaging Parameters\n",
    "\n",
    "To make the above approach straightforward, this is all wrapped into a [script](https://github.com/ALMA-IMF/reduction/blob/master/reduction/continuum_imaging_selfcal.py), and users only need modify the [parameters](https://github.com/ALMA-IMF/reduction/blob/master/reduction/imaging_parameters.py)."
   ]
  },
  {
   "cell_type": "markdown",
   "metadata": {},
   "source": [
    "The parameters include the following global defaults as inputs to `tclean`:\n",
    "\n",
    "```\n",
    "                      {'threshold': '1mJy',\n",
    "                       'pblimit': 0.1,\n",
    "                       'niter': 10000,\n",
    "                       'robust': robust,\n",
    "                       'weighting': 'briggs',\n",
    "                       'scales': [0,3,9],\n",
    "                       'gridder': 'mosaic',\n",
    "                       'specmode': 'mfs',\n",
    "                       'deconvolver': 'mtmfs',\n",
    "                       'nterms': 2,\n",
    "                      }\n",
    "```                      \n",
    "These can be overridden in the `imaging_parameters.py` file, and other `tclean` parameters can be added.\n",
    "The imaging parameters are specified as a dictionary, so each field will have a dictionary like the one above.  The keys should have the format `{field}_{band}_{array}_robust{robust}`, where `{field}` is the field name (e.g., `W51-E`, `G333.60`, etc), `{band}` is the band name (`B3` or `B6`), `{array}` is the array name (`7M12M` or `12M`), and `{robust}` is the robustness value (most likely 0, -2, or 2).  \n",
    "\n",
    "If you would like an imaging parameter to change with each iteration, you can specify that using a dictionary where the key is the iteration number.  For example, if you want to clean to 1 mJy in the first iteration (before any self-calibration has been applied), then to 0.5 mJy after the first self-cal iteration, you would specify it as such:\n",
    "```\n",
    "imaging_parameters_nondefault = {'W51IRS2_B3_12M_robust0': {'niter': {0: '1mJy', 1: '0.5mJy'} } }\n",
    "```\n",
    "Note that the `imaging_parameters_nondefault` variable name is used within `imaging_parameters.py` already; you will just add to it (don't overwrite what's already there)."
   ]
  },
  {
   "cell_type": "markdown",
   "metadata": {},
   "source": [
    "## Self-calibration parameters\n",
    "The self-calibration parameters are specified in a similar way.  The default selfcal parameters are:\n",
    "```\n",
    "                            {'solint': 'int',\n",
    "                             'gaintype': 'G',\n",
    "                             'solnorm': True,\n",
    "                             'calmode': 'p'}\n",
    "```\n",
    "The default setup is to do 4 iterations of phase-only self-calibration with the above parameters\n",
    "\n",
    "To override these, for example, to add the amplitude self-calibration steps, you add new entries to the `selfcal_parameters` dictionary, e.g.:\n",
    "```\n",
    "selfcal_pars['W51-E_B6_12M_robust0'][5] = {'solint': 'inf',\n",
    "                                           'gaintype': 'G',\n",
    "                                           'calmode': 'ap',\n",
    "                                          }\n",
    "```\n",
    "The first key is the same format as for imaging parameters (`{field}_{band}_{array}_robust{robust}`).  The second key, in this example the number `5`, is the self-calibration iteration number."
   ]
  },
  {
   "cell_type": "markdown",
   "metadata": {},
   "source": [
    "## Running the code\n",
    "\n",
    "### Setup\n",
    "To run the code, you should copy the ALMAIMF reduction directory somewhere onto the machine where you'll be running it.  This is best achieved by the command \n",
    "```\n",
    "git clone https://github.com/ALMA-IMF/reduction.git\n",
    "```\n",
    "or\n",
    "```\n",
    "git clone git@github.com:ALMA-IMF/reduction.git\n",
    "```\n",
    "depending on your setup.\n",
    "\n",
    "You then need to specify two important environmental variables:\n",
    " * `EXCLUDE_7M=True` will image only the 12m data.  It must be capitalized, and the value must be \"True\"; if the variable is unset or if it has any value other than \"True\", the 7m and 12m data will be jointly imaged \n",
    " * `ALMAIMF_ROOTDIR` is the full path to the directory containing `continuum_imaging_selfcal.py`, i.e., the `reduction/` subdirectory of the ALMA-IMF reduction package\n",
    " \n",
    "You have to have the measurement sets created before you can run this code; see [the imaging instructions](https://github.com/ALMA-IMF/reduction/blob/master/reduction/Imaging_instructions.txt).\n",
    "\n",
    "### Execution\n",
    "To execute the code, simply run the file [continuum_imaging_selfcal.py](https://github.com/ALMA-IMF/reduction/blob/master/reduction/continuum_imaging_selfcal.py) with `execfile` or `%run -i`.\n",
    "\n",
    "If you execute the code, then discover that there are some parameters you want to change or modify, there are several files you must remove:\n",
    " * for each imaging iteration you wish to redo, remove all files with the appropriate suffix in `imaging_results/`.  e.g., if you want to re-do the first self-calibration iteration, `rm -r imaging_results/{fieldname}_*_selfcal1.*\n",
    " * for each self-calibration iteration to redo, remove the corresponding `.cal` file in the working directory.  The calibration tables are named using the following scheme:\n",
    " `'{basename}_{arrayname}_{caltype}{selfcaliter}_{solint}.cal'`, where `{basename}` is the first part of the measurement set filename, arrayname is `7M12M` or `12M`, `caltype` is `amp` or `phase`, `selfcaliter` is the iteration number, and `solint` is the solution interval.\n",
    " \n",
    "The script is capable of picking up where you left off: if you want to re-do iteration 5, but you are satisfied with iterations 0-4, just remove the files for iteration 5.  The script will ignore the preceding files."
   ]
  },
  {
   "cell_type": "code",
   "execution_count": null,
   "metadata": {},
   "outputs": [],
   "source": []
  }
 ],
 "metadata": {
  "kernelspec": {
   "display_name": "Python 3",
   "language": "python",
   "name": "python3"
  },
  "language_info": {
   "codemirror_mode": {
    "name": "ipython",
    "version": 3
   },
   "file_extension": ".py",
   "mimetype": "text/x-python",
   "name": "python",
   "nbconvert_exporter": "python",
   "pygments_lexer": "ipython3",
   "version": "3.6.0"
  }
 },
 "nbformat": 4,
 "nbformat_minor": 2
}
