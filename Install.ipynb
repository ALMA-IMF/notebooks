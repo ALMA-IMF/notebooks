{
 "cells": [
  {
   "cell_type": "code",
   "execution_count": 1,
   "metadata": {},
   "outputs": [
    {
     "data": {
      "text/plain": [
       "'3.7.3 | packaged by conda-forge | (default, Jul  1 2019, 21:52:21) \\n[GCC 7.3.0]'"
      ]
     },
     "execution_count": 1,
     "metadata": {},
     "output_type": "execute_result"
    }
   ],
   "source": [
    "import sys\n",
    "sys.version"
   ]
  },
  {
   "cell_type": "code",
   "execution_count": 2,
   "metadata": {},
   "outputs": [
    {
     "name": "stdout",
     "output_type": "stream",
     "text": [
      "/orange/adamginsburg/ALMA_IMF/w51efield12/field12_tests\n"
     ]
    }
   ],
   "source": [
    "cd /orange/adamginsburg/ALMA_IMF/w51efield12/field12_tests"
   ]
  },
  {
   "cell_type": "code",
   "execution_count": 3,
   "metadata": {},
   "outputs": [
    {
     "name": "stdout",
     "output_type": "stream",
     "text": [
      "Requirement already satisfied: astropy in /home/adamginsburg/.local/lib/python3.7/site-packages (3.2.1)\n",
      "Requirement already satisfied: numpy>=1.13 in /home/adamginsburg/.local/lib/python3.7/site-packages (from astropy) (1.17.1)\n",
      "Note: you may need to restart the kernel to use updated packages.\n"
     ]
    }
   ],
   "source": [
    "pip install --user astropy"
   ]
  },
  {
   "cell_type": "code",
   "execution_count": 5,
   "metadata": {},
   "outputs": [
    {
     "name": "stdout",
     "output_type": "stream",
     "text": [
      "Collecting keyring\n",
      "  Using cached https://files.pythonhosted.org/packages/c8/17/a1ce6405d5bbad3f04e2ad97f75ceccf2c16edb370f8bba446ee196da160/keyring-19.1.0-py2.py3-none-any.whl\n",
      "Collecting keyrings.alt\n",
      "  Using cached https://files.pythonhosted.org/packages/f2/97/e0601ee8e936a13245686af0ac9ed2e2bb61706b4155e4e629cf063ad248/keyrings.alt-3.1.1-py2.py3-none-any.whl\n",
      "Requirement already satisfied: entrypoints in /apps/jupyterhub/1.0.0/lib/python3.7/site-packages (from keyring) (0.3)\n",
      "Collecting secretstorage; sys_platform == \"linux\" (from keyring)\n",
      "  Using cached https://files.pythonhosted.org/packages/82/59/cb226752e20d83598d7fdcabd7819570b0329a61db07cfbdd21b2ef546e3/SecretStorage-3.1.1-py3-none-any.whl\n",
      "Requirement already satisfied: six in /apps/jupyterhub/1.0.0/lib/python3.7/site-packages (from keyrings.alt) (1.12.0)\n",
      "Collecting jeepney (from secretstorage; sys_platform == \"linux\"->keyring)\n",
      "  Using cached https://files.pythonhosted.org/packages/0a/4c/ef880713a6c6d628869596703167eab2edf8e0ec2d870d1089dcb0901b81/jeepney-0.4.1-py3-none-any.whl\n",
      "Requirement already satisfied: cryptography in /apps/jupyterhub/1.0.0/lib/python3.7/site-packages (from secretstorage; sys_platform == \"linux\"->keyring) (2.6.1)\n",
      "Requirement already satisfied: cffi!=1.11.3,>=1.8 in /apps/jupyterhub/1.0.0/lib/python3.7/site-packages (from cryptography->secretstorage; sys_platform == \"linux\"->keyring) (1.12.3)\n",
      "Requirement already satisfied: asn1crypto>=0.21.0 in /apps/jupyterhub/1.0.0/lib/python3.7/site-packages (from cryptography->secretstorage; sys_platform == \"linux\"->keyring) (0.24.0)\n",
      "Requirement already satisfied: pycparser in /apps/jupyterhub/1.0.0/lib/python3.7/site-packages (from cffi!=1.11.3,>=1.8->cryptography->secretstorage; sys_platform == \"linux\"->keyring) (2.19)\n",
      "Installing collected packages: jeepney, secretstorage, keyring, keyrings.alt\n",
      "Successfully installed jeepney-0.4.1 keyring-19.1.0 keyrings.alt-3.1.1 secretstorage-3.1.1\n",
      "Collecting astroquery\n",
      "Collecting beautifulsoup4>=4.3.2 (from astroquery)\n",
      "  Using cached https://files.pythonhosted.org/packages/1a/b7/34eec2fe5a49718944e215fde81288eec1fa04638aa3fb57c1c6cd0f98c3/beautifulsoup4-4.8.0-py3-none-any.whl\n",
      "Collecting html5lib>=0.999 (from astroquery)\n",
      "  Using cached https://files.pythonhosted.org/packages/a5/62/bbd2be0e7943ec8504b517e62bab011b4946e1258842bc159e5dfde15b96/html5lib-1.0.1-py2.py3-none-any.whl\n",
      "Requirement already satisfied: six in /apps/jupyterhub/1.0.0/lib/python3.7/site-packages (from astroquery) (1.12.0)\n",
      "Requirement already satisfied: requests>=2.4.3 in /apps/jupyterhub/1.0.0/lib/python3.7/site-packages (from astroquery) (2.21.0)\n",
      "Requirement already satisfied: astropy>=2.0 in /home/adamginsburg/.local/lib/python3.7/site-packages (from astroquery) (3.2.1)\n",
      "Requirement already satisfied: keyring>=4.0 in /home/adamginsburg/.local/lib/python3.7/site-packages (from astroquery) (19.1.0)\n",
      "Collecting soupsieve>=1.2 (from beautifulsoup4>=4.3.2->astroquery)\n",
      "  Using cached https://files.pythonhosted.org/packages/0b/44/0474f2207fdd601bb25787671c81076333d2c80e6f97e92790f8887cf682/soupsieve-1.9.3-py2.py3-none-any.whl\n",
      "Requirement already satisfied: webencodings in /apps/jupyterhub/1.0.0/lib/python3.7/site-packages (from html5lib>=0.999->astroquery) (0.5.1)\n",
      "Requirement already satisfied: chardet<3.1.0,>=3.0.2 in /apps/jupyterhub/1.0.0/lib/python3.7/site-packages (from requests>=2.4.3->astroquery) (3.0.4)\n",
      "Requirement already satisfied: idna<2.9,>=2.5 in /apps/jupyterhub/1.0.0/lib/python3.7/site-packages (from requests>=2.4.3->astroquery) (2.8)\n",
      "Requirement already satisfied: certifi>=2017.4.17 in /apps/jupyterhub/1.0.0/lib/python3.7/site-packages (from requests>=2.4.3->astroquery) (2019.6.16)\n",
      "Requirement already satisfied: urllib3<1.25,>=1.21.1 in /apps/jupyterhub/1.0.0/lib/python3.7/site-packages (from requests>=2.4.3->astroquery) (1.24.2)\n",
      "Requirement already satisfied: numpy>=1.13 in /home/adamginsburg/.local/lib/python3.7/site-packages (from astropy>=2.0->astroquery) (1.17.1)\n",
      "Requirement already satisfied: secretstorage; sys_platform == \"linux\" in /home/adamginsburg/.local/lib/python3.7/site-packages (from keyring>=4.0->astroquery) (3.1.1)\n",
      "Requirement already satisfied: entrypoints in /apps/jupyterhub/1.0.0/lib/python3.7/site-packages (from keyring>=4.0->astroquery) (0.3)\n",
      "Requirement already satisfied: cryptography in /apps/jupyterhub/1.0.0/lib/python3.7/site-packages (from secretstorage; sys_platform == \"linux\"->keyring>=4.0->astroquery) (2.6.1)\n",
      "Requirement already satisfied: jeepney in /home/adamginsburg/.local/lib/python3.7/site-packages (from secretstorage; sys_platform == \"linux\"->keyring>=4.0->astroquery) (0.4.1)\n",
      "Requirement already satisfied: asn1crypto>=0.21.0 in /apps/jupyterhub/1.0.0/lib/python3.7/site-packages (from cryptography->secretstorage; sys_platform == \"linux\"->keyring>=4.0->astroquery) (0.24.0)\n",
      "Requirement already satisfied: cffi!=1.11.3,>=1.8 in /apps/jupyterhub/1.0.0/lib/python3.7/site-packages (from cryptography->secretstorage; sys_platform == \"linux\"->keyring>=4.0->astroquery) (1.12.3)\n",
      "Requirement already satisfied: pycparser in /apps/jupyterhub/1.0.0/lib/python3.7/site-packages (from cffi!=1.11.3,>=1.8->cryptography->secretstorage; sys_platform == \"linux\"->keyring>=4.0->astroquery) (2.19)\n",
      "Installing collected packages: soupsieve, beautifulsoup4, html5lib, astroquery\n",
      "Successfully installed astroquery-0.3.10.dev0 beautifulsoup4-4.8.0 html5lib-1.0.1 soupsieve-1.9.3\n"
     ]
    },
    {
     "name": "stderr",
     "output_type": "stream",
     "text": [
      "  WARNING: The script keyring is installed in '/home/adamginsburg/.local/bin' which is not on PATH.\n",
      "  Consider adding this directory to PATH or, if you prefer to suppress this warning, use --no-warn-script-location.\n"
     ]
    }
   ],
   "source": [
    "%%bash\n",
    "pip install --user keyring keyrings.alt\n",
    "pip install --user --pre astroquery"
   ]
  },
  {
   "cell_type": "code",
   "execution_count": null,
   "metadata": {},
   "outputs": [],
   "source": [
    "%%bash\n",
    "pip install --user hvplot\n",
    "jupyter labextension install @pyviz/jupyterlab_pyviz\n"
   ]
  },
  {
   "cell_type": "code",
   "execution_count": null,
   "metadata": {},
   "outputs": [],
   "source": [
    "%%bash\n",
    "pip install --user dask distributed --upgrade"
   ]
  },
  {
   "cell_type": "code",
   "execution_count": null,
   "metadata": {},
   "outputs": [],
   "source": [
    "%%bash\n",
    "pip install --user xarray-ms dask-ms"
   ]
  },
  {
   "cell_type": "code",
   "execution_count": null,
   "metadata": {},
   "outputs": [],
   "source": [
    "%%bash\n",
    "pip install --user --upgrade https://github.com/radio-astro-tools/casa-notebook-tools/archive/master.zip"
   ]
  },
  {
   "cell_type": "code",
   "execution_count": null,
   "metadata": {},
   "outputs": [],
   "source": [
    "from astropy.io import fits"
   ]
  },
  {
   "cell_type": "code",
   "execution_count": null,
   "metadata": {},
   "outputs": [],
   "source": [
    "pip install --user glueviz"
   ]
  },
  {
   "cell_type": "code",
   "execution_count": null,
   "metadata": {},
   "outputs": [],
   "source": [
    "pip install --user git+https://github.com/glue-viz/glue-jupyter.git"
   ]
  },
  {
   "cell_type": "code",
   "execution_count": null,
   "metadata": {},
   "outputs": [],
   "source": [
    "%%bash\n",
    "pip install --user --extra-index-url https://casa-pip.nrao.edu:443/repository/pypi-group/simple casatools\n",
    "pip install --user --extra-index-url https://casa-pip.nrao.edu:443/repository/pypi-group/simple casatasks"
   ]
  },
  {
   "cell_type": "code",
   "execution_count": null,
   "metadata": {},
   "outputs": [],
   "source": []
  }
 ],
 "metadata": {
  "kernelspec": {
   "display_name": "Python 3.7 (basic)",
   "language": "python",
   "name": "python3"
  },
  "language_info": {
   "codemirror_mode": {
    "name": "ipython",
    "version": 3
   },
   "file_extension": ".py",
   "mimetype": "text/x-python",
   "name": "python",
   "nbconvert_exporter": "python",
   "pygments_lexer": "ipython3",
   "version": "3.7.3"
  }
 },
 "nbformat": 4,
 "nbformat_minor": 4
}
