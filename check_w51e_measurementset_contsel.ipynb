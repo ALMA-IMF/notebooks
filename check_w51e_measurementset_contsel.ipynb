{
 "cells": [
  {
   "cell_type": "code",
   "execution_count": 1,
   "metadata": {},
   "outputs": [],
   "source": [
    "%matplotlib inline\n",
    "from casatasks import tclean, ft, clearcal, uvsub, split\n",
    "from casatools import ms, table, msmetadata\n",
    "from spectral_cube import SpectralCube\n",
    "import numpy as np\n",
    "from astropy import units as u, visualization\n",
    "from astropy.visualization import simple_norm\n",
    "import pylab as pl\n",
    "visualization.quantity_support()\n",
    "ms = ms()\n",
    "msmd = msmetadata()\n",
    "tb = table()"
   ]
  },
  {
   "cell_type": "code",
   "execution_count": 2,
   "metadata": {},
   "outputs": [
    {
     "name": "stdout",
     "output_type": "stream",
     "text": [
      "/orange/adamginsburg/ALMA_IMF/2017.1.01355.L/science_goal.uid___A001_X1296_X105/group.uid___A001_X1296_X106\n"
     ]
    }
   ],
   "source": [
    "cd /orange/adamginsburg/ALMA_IMF/2017.1.01355.L/scigoals/W51-E_B3/group.uid___A001_X1296_X106/"
   ]
  },
  {
   "cell_type": "code",
   "execution_count": 3,
   "metadata": {},
   "outputs": [
    {
     "name": "stdout",
     "output_type": "stream",
     "text": [
      "\u001b[0m\u001b[01;34mmember.uid___A001_X1296_X107/calibrated/continuum_uid___A002_Xc75eba_X4f72.ms.split.cal.cont\u001b[0m\u001b[K/\n",
      "\u001b[01;34mmember.uid___A001_X1296_X107/calibrated/continuum_uid___A002_Xc77d4f_X370b.ms.split.cal.cont\u001b[0m\u001b[K/\n",
      "\u001b[01;34mmember.uid___A001_X1296_X107/calibrated/continuum_uid___A002_Xc7cf4e_X57f0.ms.split.cal.cont\u001b[0m\u001b[K/\n",
      "\u001b[01;34mmember.uid___A001_X1296_X107/calibrated/continuum_uid___A002_Xc7e4e4_X37e3.ms.split.cal.cont\u001b[0m\u001b[K/\n",
      "\u001b[01;34mmember.uid___A001_X1296_X107/calibrated/continuum_uid___A002_Xc8592e_X71c2.ms.split.cal.cont\u001b[0m\u001b[K/\n",
      "\u001b[01;34mmember.uid___A001_X1296_X107/calibrated/continuum_uid___A002_Xc8592e_X7966.ms.split.cal.cont\u001b[0m\u001b[K/\n",
      "\u001b[01;34mmember.uid___A001_X1296_X109/calibrated/continuum_uid___A002_Xcc626d_Xb34f.ms.split.cal.cont\u001b[0m\u001b[K/\n",
      "\u001b[01;34mmember.uid___A001_X1296_X10b/calibrated/continuum_uid___A002_Xc6d2f9_X54b3.ms.split.cal.cont\u001b[0m\u001b[K/\n",
      "\u001b[01;34mmember.uid___A001_X1296_X10b/calibrated/continuum_uid___A002_Xc6e968_X4e3b.ms.split.cal.cont\u001b[0m\u001b[K/\n",
      "\u001b[01;34mmember.uid___A001_X1296_X10b/calibrated/continuum_uid___A002_Xc7111c_X4b2.ms.split.cal.cont\u001b[0m\u001b[K/\n",
      "\u001b[01;34mmember.uid___A001_X1296_X10b/calibrated/continuum_uid___A002_Xc790bf_X5527.ms.split.cal.cont\u001b[0m\u001b[K/\n",
      "\u001b[01;34mmember.uid___A001_X1296_X10b/calibrated/continuum_uid___A002_Xc7a409_X3cca.ms.split.cal.cont\u001b[0m\u001b[K/\n"
     ]
    }
   ],
   "source": [
    "ls -d */calibrated/*.split.cal.cont"
   ]
  },
  {
   "cell_type": "code",
   "execution_count": 4,
   "metadata": {},
   "outputs": [],
   "source": [
    "import glob"
   ]
  },
  {
   "cell_type": "code",
   "execution_count": 5,
   "metadata": {},
   "outputs": [],
   "source": [
    "calcont = glob.glob(\"*/calibrated/*.split.cal.cont\")"
   ]
  },
  {
   "cell_type": "code",
   "execution_count": 6,
   "metadata": {},
   "outputs": [
    {
     "data": {
      "text/plain": [
       "True"
      ]
     },
     "execution_count": 6,
     "metadata": {},
     "output_type": "execute_result"
    }
   ],
   "source": [
    "msmd.open(\"member.uid___A001_X1296_X107/calibrated/uid___A002_Xc75eba_X4f72.ms.split.cal\")"
   ]
  },
  {
   "cell_type": "code",
   "execution_count": 7,
   "metadata": {},
   "outputs": [
    {
     "data": {
      "text/plain": [
       "['J1751+0939',\n",
       " 'J1922+1530',\n",
       " 'W51-E',\n",
       " 'W51-E',\n",
       " 'W51-E',\n",
       " 'W51-E',\n",
       " 'W51-E',\n",
       " 'W51-E',\n",
       " 'W51-E']"
      ]
     },
     "execution_count": 7,
     "metadata": {},
     "output_type": "execute_result"
    }
   ],
   "source": [
    "msmd.fieldnames()"
   ]
  },
  {
   "cell_type": "code",
   "execution_count": 8,
   "metadata": {},
   "outputs": [
    {
     "name": "stdout",
     "output_type": "stream",
     "text": [
      "25 93156590980.34784\n",
      "27 92183337873.34682\n",
      "29 102581433997.92702\n",
      "31 104981031165.896\n"
     ]
    }
   ],
   "source": [
    "spws = msmd.spwsforfield('W51-E')\n",
    "for spw in spws:\n",
    "    print(spw, msmd.meanfreq(spw))"
   ]
  },
  {
   "cell_type": "code",
   "execution_count": 9,
   "metadata": {},
   "outputs": [],
   "source": [
    "frqs = msmd.chanfreqs(25)"
   ]
  },
  {
   "cell_type": "code",
   "execution_count": 10,
   "metadata": {},
   "outputs": [
    {
     "data": {
      "text/plain": [
       "array([9.32151542e+10, 9.32150932e+10, 9.32150321e+10, ...,\n",
       "       9.30981498e+10, 9.30980888e+10, 9.30980277e+10])"
      ]
     },
     "execution_count": 10,
     "metadata": {},
     "output_type": "execute_result"
    }
   ],
   "source": [
    "frqs"
   ]
  },
  {
   "cell_type": "code",
   "execution_count": 11,
   "metadata": {},
   "outputs": [
    {
     "data": {
      "text/plain": [
       "(array([9.31847587e+10, 9.31790214e+10]),\n",
       " array([9.31787162e+10, 9.31691337e+10]),\n",
       " array([9.31685844e+10, 9.31529594e+10]))"
      ]
     },
     "execution_count": 11,
     "metadata": {},
     "output_type": "execute_result"
    }
   ],
   "source": [
    "frqs[np.array([498,592])], frqs[[597,754]], frqs[[763,1019]]"
   ]
  },
  {
   "cell_type": "code",
   "execution_count": 12,
   "metadata": {},
   "outputs": [
    {
     "data": {
      "text/plain": [
       "True"
      ]
     },
     "execution_count": 12,
     "metadata": {},
     "output_type": "execute_result"
    }
   ],
   "source": [
    "tb.open(\"member.uid___A001_X1296_X107/calibrated/uid___A002_Xc75eba_X4f72.ms.split.cal\")\n",
    "spwtb = table()\n",
    "spwtb.open(\"member.uid___A001_X1296_X107/calibrated/uid___A002_Xc75eba_X4f72.ms.split.cal/SPECTRAL_WINDOW\")"
   ]
  },
  {
   "cell_type": "code",
   "execution_count": 13,
   "metadata": {},
   "outputs": [],
   "source": [
    "spw = 25\n",
    "frq = (spwtb.getcol('CHAN_FREQ', startrow=spw, nrow=1)).squeeze()"
   ]
  },
  {
   "cell_type": "code",
   "execution_count": 14,
   "metadata": {},
   "outputs": [
    {
     "data": {
      "text/plain": [
       "array([9.32118151e+10, 9.32117541e+10, 9.32116931e+10, ...,\n",
       "       9.30948149e+10, 9.30947539e+10, 9.30946929e+10])"
      ]
     },
     "execution_count": 14,
     "metadata": {},
     "output_type": "execute_result"
    }
   ],
   "source": [
    "ms.open(\"member.uid___A001_X1296_X107/calibrated/uid___A002_Xc75eba_X4f72.ms.split.cal\")\n",
    "cvfrq = ms.cvelfreqs(spwids=[spw], outframe='LSRK')\n",
    "ms.close()\n",
    "cvfrq"
   ]
  },
  {
   "cell_type": "code",
   "execution_count": 15,
   "metadata": {},
   "outputs": [],
   "source": [
    "fieldnum=3"
   ]
  },
  {
   "cell_type": "code",
   "execution_count": 16,
   "metadata": {},
   "outputs": [],
   "source": [
    "stb = tb.query(f'ANTENNA1 != ANTENNA2 && FIELD_ID == {fieldnum} && DATA_DESC_ID == {spw}')"
   ]
  },
  {
   "cell_type": "code",
   "execution_count": 17,
   "metadata": {},
   "outputs": [],
   "source": [
    "dat = stb.getcol('DATA')"
   ]
  },
  {
   "cell_type": "code",
   "execution_count": 18,
   "metadata": {},
   "outputs": [],
   "source": [
    "avgspec = dat.mean(axis=(0,2))"
   ]
  },
  {
   "cell_type": "code",
   "execution_count": 19,
   "metadata": {},
   "outputs": [],
   "source": [
    "maxspec = dat.max(axis=(0,2))"
   ]
  },
  {
   "cell_type": "code",
   "execution_count": 20,
   "metadata": {},
   "outputs": [
    {
     "data": {
      "text/plain": [
       "(array([9.32151542e+10, 9.32150932e+10, 9.32150321e+10, ...,\n",
       "        9.30981498e+10, 9.30980888e+10, 9.30980277e+10]),\n",
       " array([9.32118151e+10, 9.32117541e+10, 9.32116931e+10, ...,\n",
       "        9.30948149e+10, 9.30947539e+10, 9.30946929e+10]))"
      ]
     },
     "execution_count": 20,
     "metadata": {},
     "output_type": "execute_result"
    }
   ],
   "source": [
    "frq, cvfrq"
   ]
  },
  {
   "cell_type": "code",
   "execution_count": 21,
   "metadata": {},
   "outputs": [
    {
     "name": "stderr",
     "output_type": "stream",
     "text": [
      "/orange/adamginsburg/miniconda3/envs/casa61_py36/lib/python3.6/site-packages/numpy/core/_asarray.py:83: ComplexWarning: Casting complex values to real discards the imaginary part\n",
      "  return array(a, dtype, copy=False, order=order)\n"
     ]
    },
    {
     "data": {
      "text/plain": [
       "[<matplotlib.lines.Line2D at 0x2b1b3fd59780>]"
      ]
     },
     "execution_count": 21,
     "metadata": {},
     "output_type": "execute_result"
    },
    {
     "data": {
      "image/png": "[encoded data removed]",
      "text/plain": [
       "<Figure size 432x288 with 1 Axes>"
      ]
     },
     "metadata": {
      "needs_background": "light"
     },
     "output_type": "display_data"
    }
   ],
   "source": [
    "pl.plot(frq, avgspec)"
   ]
  },
  {
   "cell_type": "code",
   "execution_count": 22,
   "metadata": {},
   "outputs": [
    {
     "name": "stderr",
     "output_type": "stream",
     "text": [
      "/orange/adamginsburg/miniconda3/envs/casa61_py36/lib/python3.6/site-packages/numpy/core/_asarray.py:83: ComplexWarning: Casting complex values to real discards the imaginary part\n",
      "  return array(a, dtype, copy=False, order=order)\n"
     ]
    },
    {
     "data": {
      "text/plain": [
       "[<matplotlib.lines.Line2D at 0x2b1b3fe39550>]"
      ]
     },
     "execution_count": 22,
     "metadata": {},
     "output_type": "execute_result"
    },
    {
     "data": {
      "image/png": "[encoded data removed]",
      "text/plain": [
       "<Figure size 432x288 with 1 Axes>"
      ]
     },
     "metadata": {
      "needs_background": "light"
     },
     "output_type": "display_data"
    }
   ],
   "source": [
    "pl.plot(cvfrq, avgspec)"
   ]
  },
  {
   "cell_type": "code",
   "execution_count": 23,
   "metadata": {},
   "outputs": [
    {
     "name": "stderr",
     "output_type": "stream",
     "text": [
      "/orange/adamginsburg/miniconda3/envs/casa61_py36/lib/python3.6/site-packages/numpy/core/_asarray.py:83: ComplexWarning: Casting complex values to real discards the imaginary part\n",
      "  return array(a, dtype, copy=False, order=order)\n"
     ]
    },
    {
     "data": {
      "text/plain": [
       "[<matplotlib.lines.Line2D at 0x2b1b3fe9dac8>]"
      ]
     },
     "execution_count": 23,
     "metadata": {},
     "output_type": "execute_result"
    },
    {
     "data": {
      "image/png": "[encoded data removed]",
      "text/plain": [
       "<Figure size 432x288 with 1 Axes>"
      ]
     },
     "metadata": {
      "needs_background": "light"
     },
     "output_type": "display_data"
    }
   ],
   "source": [
    "pl.plot(cvfrq, maxspec)"
   ]
  },
  {
   "cell_type": "markdown",
   "metadata": {},
   "source": [
    "data = ms.getdata(items=['amplitude', 'ifr_number', 'antenna1', 'uvdist', 'axis_info'], ifraxis=True, average=True)"
   ]
  },
  {
   "cell_type": "code",
   "execution_count": null,
   "metadata": {},
   "outputs": [],
   "source": []
  }
 ],
 "metadata": {
  "kernelspec": {
   "display_name": "casa61_py36",
   "language": "python",
   "name": "casa61_py36"
  },
  "language_info": {
   "codemirror_mode": {
    "name": "ipython",
    "version": 3
   },
   "file_extension": ".py",
   "mimetype": "text/x-python",
   "name": "python",
   "nbconvert_exporter": "python",
   "pygments_lexer": "ipython3",
   "version": "3.6.12"
  }
 },
 "nbformat": 4,
 "nbformat_minor": 4
}
