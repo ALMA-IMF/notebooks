{
 "cells": [
  {
   "cell_type": "code",
   "execution_count": 1,
   "metadata": {},
   "outputs": [],
   "source": [
    "%matplotlib inline\n",
    "from casatasks import tclean, ft, clearcal, uvsub, split\n",
    "from casatools import ms, table, msmetadata\n",
    "from spectral_cube import SpectralCube\n",
    "import spectral_cube\n",
    "import numpy as np\n",
    "from astropy import units as u, visualization\n",
    "from astropy.visualization import simple_norm\n",
    "import pylab as pl\n",
    "\n",
    "import warnings\n",
    "import spectral_cube\n",
    "warnings.simplefilter('ignore', spectral_cube.utils.BeamWarning)\n",
    "warnings.simplefilter('ignore', spectral_cube.utils.StokesWarning)\n",
    "warnings.simplefilter('ignore', spectral_cube.utils.PossiblySlowWarning)\n",
    "\n",
    "visualization.quantity_support()\n",
    "ms = ms()\n",
    "msmd = msmetadata()\n",
    "tb = table()"
   ]
  },
  {
   "cell_type": "code",
   "execution_count": 2,
   "metadata": {},
   "outputs": [],
   "source": [
    "pl.rcParams['font.size'] = 14\n",
    "pl.rcParams['image.origin'] = 'lower'\n",
    "pl.rcParams['image.interpolation'] = 'none'\n",
    "pl.rcParams['figure.facecolor'] = 'w'"
   ]
  },
  {
   "cell_type": "markdown",
   "metadata": {},
   "source": [
    "From the casa docs:\n",
    "\"alpha = taylorcoeff_1 / taylorcoeff_0\""
   ]
  },
  {
   "cell_type": "code",
   "execution_count": 35,
   "metadata": {},
   "outputs": [
    {
     "ename": "SyntaxError",
     "evalue": "invalid syntax (<ipython-input-35-8d3c910bafc5>, line 1)",
     "output_type": "error",
     "traceback": [
      "\u001b[0;36m  File \u001b[0;32m\"<ipython-input-35-8d3c910bafc5>\"\u001b[0;36m, line \u001b[0;32m1\u001b[0m\n\u001b[0;31m    cd /orange/adamginsburg/ALMA_IMF/2017.1.01355.L/\u001b[0m\n\u001b[0m                                                ^\u001b[0m\n\u001b[0;31mSyntaxError\u001b[0m\u001b[0;31m:\u001b[0m invalid syntax\n"
     ]
    }
   ],
   "source": [
    "cd /orange/adamginsburg/ALMA_IMF/2017.1.01355.L/"
   ]
  },
  {
   "cell_type": "code",
   "execution_count": null,
   "metadata": {},
   "outputs": [],
   "source": [
    "ls -d imaging_results/G333.60_B3*_continuum_merged_12M_robust0_selfcal*_finaliter*.image.tt0"
   ]
  },
  {
   "cell_type": "code",
   "execution_count": null,
   "metadata": {},
   "outputs": [],
   "source": [
    "finaliter_prefix = \"imaging_results/G333.60_B3_uid___A001_X1296_X1a3_continuum_merged_12M_robust0_selfcal5_finaliter\""
   ]
  },
  {
   "cell_type": "code",
   "execution_count": null,
   "metadata": {},
   "outputs": [],
   "source": [
    "cutoutregion = 'fk5; box(245.539, -50.1002, 30\",30\")'\n",
    "pl.figure(figsize=(22,8))\n",
    "image = SpectralCube.read(f'{finaliter_prefix}.image.tt0', format='casa_image').subcube_from_ds9region(cutoutregion)\n",
    "pl.subplot(2,5,1).imshow(image[0].value, norm=simple_norm(image[0].value, stretch='log')); pl.colorbar(mappable=pl.gca().images[0])\n",
    "pl.title(\"image.tt0\")\n",
    "imagett1 = SpectralCube.read(f'{finaliter_prefix}.image.tt1', format='casa_image').subcube_from_ds9region(cutoutregion)\n",
    "pl.subplot(2,5,2).imshow(imagett1[0].value, norm=simple_norm(imagett1[0].value, stretch='log')); pl.colorbar(mappable=pl.gca().images[0])\n",
    "pl.title(\"image.tt1\")\n",
    "residual = SpectralCube.read(f'{finaliter_prefix}.residual.tt0', format='casa_image').subcube_from_ds9region(cutoutregion)\n",
    "pl.subplot(2,5,6).imshow(residual[0].value, norm=simple_norm(residual[0].value, stretch='linear')); pl.colorbar(mappable=pl.gca().images[0])\n",
    "pl.title(\"residual.tt0\")\n",
    "residualtt1 = SpectralCube.read(f'{finaliter_prefix}.residual.tt1', format='casa_image').subcube_from_ds9region(cutoutregion)\n",
    "pl.subplot(2,5,7).imshow(residualtt1[0].value, norm=simple_norm(residualtt1[0].value, stretch='linear')); pl.colorbar(mappable=pl.gca().images[0])\n",
    "pl.title(\"residual.tt1\")\n",
    "alpha = SpectralCube.read(f'{finaliter_prefix}.alpha', format='casa_image').subcube_from_ds9region(cutoutregion)\n",
    "pl.subplot(2,5,3).imshow(alpha[0].value, norm=simple_norm(alpha[0].value, stretch='linear', min_cut=-2, max_cut=4));\n",
    "pl.title(\"alpha\")\n",
    "model = SpectralCube.read(f'{finaliter_prefix}.model.tt0', format='casa_image').subcube_from_ds9region(cutoutregion)\n",
    "pl.subplot(2,5,4).imshow(model[0].value, norm=simple_norm(model[0].value, stretch='log', max_percent=99.995, min_percent=1));\n",
    "pl.title(\"model.tt0\")\n",
    "modeltt1 = SpectralCube.read(f'{finaliter_prefix}.model.tt1', format='casa_image').subcube_from_ds9region(cutoutregion)\n",
    "pl.subplot(2,5,5).imshow(modeltt1[0].value, norm=simple_norm(modeltt1[0].value, stretch='log', max_percent=99.995, min_percent=1));\n",
    "pl.title(\"model.tt1\")"
   ]
  },
  {
   "cell_type": "code",
   "execution_count": null,
   "metadata": {},
   "outputs": [],
   "source": [
    "tt0_std = image.mad_std()\n",
    "tt1_std = imagett1.mad_std()\n",
    "mask = (image > 5*tt0_std)# & (imagett1 > tt1_std)\n",
    "imagem = image.with_mask(mask)\n",
    "imagett1m = imagett1.with_mask(mask)\n",
    "alpha = imagett1m / imagem"
   ]
  },
  {
   "cell_type": "code",
   "execution_count": null,
   "metadata": {},
   "outputs": [],
   "source": [
    "tt0_std = image.mad_std()\n",
    "tt1_std = imagett1.mad_std()\n",
    "mask = (image > 1.5*tt0_std) #& (imagett1 > tt1_std)\n",
    "imagem = image.with_mask(mask)\n",
    "imagett1m = imagett1.with_mask(mask)\n",
    "alpha = imagett1m / imagem\n",
    "fig = pl.figure(figsize=(12,4))\n",
    "ax = pl.subplot(1,3,1); ax.imshow(image[0].value*1e3, cmap='gray_r', norm=simple_norm(image[0].value*1e3, stretch='log', min_percent=2, max_percent=99.9));\n",
    "ax.contour(image[0].value, levels=[1.5*tt0_std.value], colors=['r']); ax.set_xticks([]); ax.set_yticks([]);\n",
    "cb=pl.colorbar(mappable=pl.gca().images[0], cax=fig.add_axes([0.1,0.1,0.02,0.8]))\n",
    "cb.ax.yaxis.set_ticks_position('left')\n",
    "cb.set_ticks([0,1,5,10,20])\n",
    "cb.set_label(\"$S_\\\\nu$ [mJy/beam]\")\n",
    "cb.ax.yaxis.set_label_position('left')\n",
    "ax = pl.subplot(1,3,2); ax.imshow(imagett1m[0].value); ax.set_xticks([]); ax.set_yticks([]);\n",
    "cd = (image.wcs.pixel_scale_matrix[1,1] * 3600)\n",
    "ax.plot([70,70+5/cd], [10,10], color='k')\n",
    "ax.annotate('5\" ~ 25kAU', (70, 15),)\n",
    "ax = pl.subplot(1,3,3); ax.imshow(alpha[0].value, vmax=4, vmin=-0.5); ax.set_xticks([]); ax.set_yticks([]);\n",
    "cb=pl.colorbar(mappable=pl.gca().images[0], cax=fig.add_axes([0.91,0.1,0.02,0.8]))\n",
    "cb.set_label(r\"Spectral Index $\\alpha$\")\n",
    "pl.subplots_adjust(wspace=0.05)\n",
    "pl.savefig(\"paper_figures/G333_B3_spectral_index.pdf\", bbox_inches='tight')"
   ]
  },
  {
   "cell_type": "code",
   "execution_count": null,
   "metadata": {},
   "outputs": [],
   "source": []
  },
  {
   "cell_type": "code",
   "execution_count": null,
   "metadata": {},
   "outputs": [],
   "source": []
  },
  {
   "cell_type": "code",
   "execution_count": null,
   "metadata": {},
   "outputs": [],
   "source": []
  },
  {
   "cell_type": "code",
   "execution_count": null,
   "metadata": {},
   "outputs": [],
   "source": [
    "finaliter_prefix = \"imaging_results/G333.60_B6_uid___A001_X1296_X19b_continuum_merged_12M_robust0_selfcal5_finaliter\""
   ]
  },
  {
   "cell_type": "code",
   "execution_count": null,
   "metadata": {},
   "outputs": [],
   "source": [
    "cutoutregion = 'fk5; box(245.539, -50.1002, 30\",30\")'\n",
    "pl.figure(figsize=(22,8))\n",
    "image = SpectralCube.read(f'{finaliter_prefix}.image.tt0', format='casa_image').subcube_from_ds9region(cutoutregion)\n",
    "pl.subplot(2,5,1).imshow(image[0].value, norm=simple_norm(image[0].value, stretch='log')); pl.colorbar(mappable=pl.gca().images[0])\n",
    "pl.title(\"image.tt0\")\n",
    "imagett1 = SpectralCube.read(f'{finaliter_prefix}.image.tt1', format='casa_image').subcube_from_ds9region(cutoutregion)\n",
    "pl.subplot(2,5,2).imshow(imagett1[0].value, norm=simple_norm(imagett1[0].value, stretch='log')); pl.colorbar(mappable=pl.gca().images[0])\n",
    "pl.title(\"image.tt1\")\n",
    "residual = SpectralCube.read(f'{finaliter_prefix}.residual.tt0', format='casa_image').subcube_from_ds9region(cutoutregion)\n",
    "pl.subplot(2,5,6).imshow(residual[0].value, norm=simple_norm(residual[0].value, stretch='linear')); pl.colorbar(mappable=pl.gca().images[0])\n",
    "pl.title(\"residual.tt0\")\n",
    "residualtt1 = SpectralCube.read(f'{finaliter_prefix}.residual.tt1', format='casa_image').subcube_from_ds9region(cutoutregion)\n",
    "pl.subplot(2,5,7).imshow(residualtt1[0].value, norm=simple_norm(residualtt1[0].value, stretch='linear')); pl.colorbar(mappable=pl.gca().images[0])\n",
    "pl.title(\"residual.tt1\")\n",
    "alpha = SpectralCube.read(f'{finaliter_prefix}.alpha', format='casa_image').subcube_from_ds9region(cutoutregion)\n",
    "pl.subplot(2,5,3).imshow(alpha[0].value, norm=simple_norm(alpha[0].value, stretch='linear', min_cut=-2, max_cut=4));\n",
    "pl.title(\"alpha\")\n",
    "model = SpectralCube.read(f'{finaliter_prefix}.model.tt0', format='casa_image').subcube_from_ds9region(cutoutregion)\n",
    "pl.subplot(2,5,4).imshow(model[0].value, norm=simple_norm(model[0].value, stretch='log', max_percent=99.995, min_percent=1));\n",
    "pl.title(\"model.tt0\")\n",
    "modeltt1 = SpectralCube.read(f'{finaliter_prefix}.model.tt1', format='casa_image').subcube_from_ds9region(cutoutregion)\n",
    "pl.subplot(2,5,5).imshow(modeltt1[0].value, norm=simple_norm(modeltt1[0].value, stretch='log', max_percent=99.995, min_percent=1));\n",
    "pl.title(\"model.tt1\")"
   ]
  },
  {
   "cell_type": "code",
   "execution_count": null,
   "metadata": {},
   "outputs": [],
   "source": [
    "tt0_std = image.mad_std()\n",
    "tt1_std = imagett1.mad_std()\n",
    "mask = (image > 2*tt0_std) #& (imagett1 > tt1_std)\n",
    "imagem = image.with_mask(mask)\n",
    "imagett1m = imagett1.with_mask(mask)\n",
    "alpha = imagett1m / imagem\n",
    "fig = pl.figure(figsize=(12,4))\n",
    "ax = pl.subplot(1,3,1); ax.imshow(image[0].value*1e3, cmap='gray_r', norm=simple_norm(image[0].value*1e3, stretch='asinh', min_percent=0, max_percent=99.5));\n",
    "ax.contour(image[0].value, levels=[2*tt0_std.value], colors=['r']); ax.set_xticks([]); ax.set_yticks([]);\n",
    "cb=pl.colorbar(mappable=pl.gca().images[0], cax=fig.add_axes([0.1,0.1,0.02,0.8]))\n",
    "cb.ax.yaxis.set_ticks_position('left')\n",
    "cb.set_ticks([5,20,50,100, 200, 500,])\n",
    "cb.set_label(\"$S_\\\\nu$ [mJy/beam]\")\n",
    "cb.ax.yaxis.set_label_position('left')\n",
    "ax = pl.subplot(1,3,2); ax.imshow(imagett1m[0].value); ax.set_xticks([]); ax.set_yticks([]);\n",
    "cd = (image.wcs.pixel_scale_matrix[1,1] * 3600)\n",
    "ax.plot([50,50+5/cd], [5,5], color='k')\n",
    "ax.annotate('5\" ~ 25kAU', (50, 7),)\n",
    "ax = pl.subplot(1,3,3); ax.imshow(alpha[0].value, vmax=4, vmin=-0.5); ax.set_xticks([]); ax.set_yticks([]);\n",
    "cb=pl.colorbar(mappable=pl.gca().images[0], cax=fig.add_axes([0.91,0.1,0.02,0.8]))\n",
    "cb.set_label(r\"Spectral Index $\\alpha$\")\n",
    "pl.subplots_adjust(wspace=0.05)\n",
    "pl.savefig(\"paper_figures/G333_B6_spectral_index.pdf\", bbox_inches='tight')"
   ]
  },
  {
   "cell_type": "code",
   "execution_count": null,
   "metadata": {},
   "outputs": [],
   "source": []
  },
  {
   "cell_type": "code",
   "execution_count": null,
   "metadata": {},
   "outputs": [],
   "source": []
  },
  {
   "cell_type": "code",
   "execution_count": null,
   "metadata": {},
   "outputs": [],
   "source": []
  },
  {
   "cell_type": "code",
   "execution_count": null,
   "metadata": {},
   "outputs": [],
   "source": []
  },
  {
   "cell_type": "code",
   "execution_count": null,
   "metadata": {},
   "outputs": [],
   "source": []
  },
  {
   "cell_type": "code",
   "execution_count": null,
   "metadata": {},
   "outputs": [],
   "source": []
  },
  {
   "cell_type": "code",
   "execution_count": null,
   "metadata": {},
   "outputs": [],
   "source": []
  },
  {
   "cell_type": "code",
   "execution_count": null,
   "metadata": {},
   "outputs": [],
   "source": []
  },
  {
   "cell_type": "code",
   "execution_count": null,
   "metadata": {},
   "outputs": [],
   "source": []
  },
  {
   "cell_type": "code",
   "execution_count": null,
   "metadata": {},
   "outputs": [],
   "source": []
  },
  {
   "cell_type": "code",
   "execution_count": null,
   "metadata": {},
   "outputs": [],
   "source": []
  },
  {
   "cell_type": "code",
   "execution_count": null,
   "metadata": {},
   "outputs": [],
   "source": []
  },
  {
   "cell_type": "code",
   "execution_count": null,
   "metadata": {},
   "outputs": [],
   "source": []
  },
  {
   "cell_type": "code",
   "execution_count": null,
   "metadata": {},
   "outputs": [],
   "source": []
  },
  {
   "cell_type": "code",
   "execution_count": null,
   "metadata": {},
   "outputs": [],
   "source": []
  }
 ],
 "metadata": {
  "kernelspec": {
   "display_name": "casa61_py36",
   "language": "python",
   "name": "casa61_py36"
  },
  "language_info": {
   "codemirror_mode": {
    "name": "ipython",
    "version": 3
   },
   "file_extension": ".py",
   "mimetype": "text/x-python",
   "name": "python",
   "nbconvert_exporter": "python",
   "pygments_lexer": "ipython3",
   "version": "3.6.12"
  }
 },
 "nbformat": 4,
 "nbformat_minor": 4
}
