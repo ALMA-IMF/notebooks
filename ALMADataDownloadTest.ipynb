{
 "cells": [
  {
   "cell_type": "code",
   "execution_count": 3,
   "metadata": {},
   "outputs": [],
   "source": [
    "from astroquery.alma import Alma"
   ]
  },
  {
   "cell_type": "code",
   "execution_count": 4,
   "metadata": {},
   "outputs": [
    {
     "name": "stdout",
     "output_type": "stream",
     "text": [
      "/orange/adamginsburg/ALMA_IMF/tarballs\n"
     ]
    }
   ],
   "source": [
    "cd /orange/adamginsburg/ALMA_IMF/tarballs"
   ]
  },
  {
   "cell_type": "code",
   "execution_count": 5,
   "metadata": {},
   "outputs": [],
   "source": [
    "alma = Alma()\n",
    "alma.cache_location = Alma.cache_location = '/orange/adamginsburg/ALMA_IMF/tarballs'"
   ]
  },
  {
   "cell_type": "code",
   "execution_count": 6,
   "metadata": {},
   "outputs": [
    {
     "name": "stdout",
     "output_type": "stream",
     "text": [
      "INFO: Authenticating keflavich on asa.alma.cl ... [astroquery.alma.core]\n",
      "INFO: Authentication successful! [astroquery.alma.core]\n"
     ]
    }
   ],
   "source": [
    "alma.login('keflavich', store_password=True)"
   ]
  },
  {
   "cell_type": "code",
   "execution_count": 7,
   "metadata": {},
   "outputs": [],
   "source": [
    "results = alma.query(payload=dict(project_code='2017.1.01355.L'),\n",
    "                     public=False, cache=False)"
   ]
  },
  {
   "cell_type": "code",
   "execution_count": 11,
   "metadata": {},
   "outputs": [],
   "source": [
    "from astropy import log"
   ]
  },
  {
   "cell_type": "code",
   "execution_count": 12,
   "metadata": {},
   "outputs": [
    {
     "name": "stdout",
     "output_type": "stream",
     "text": [
      "INFO: Staging files... [astroquery.alma.core]\n",
      "DEBUG: First request URL: https://almascience.nrao.edu/rh/submission [astroquery.alma.core]\n",
      "DEBUG: First request payload: {'dataset': ['ALMA+uid___A001_X1296_X20f', 'ALMA+uid___A001_X1296_X1e5', 'ALMA+uid___A001_X1296_X169', 'ALMA+uid___A001_X1296_X143', 'ALMA+uid___A001_X1296_X17b', 'ALMA+uid___A001_X1296_X157', 'ALMA+uid___A001_X1296_X1a3', 'ALMA+uid___A001_X1296_X12f', 'ALMA+uid___A001_X1296_X107', 'ALMA+uid___A001_X1296_X213', 'ALMA+uid___A001_X1296_X1f7', 'ALMA+uid___A001_X1296_X11b', 'ALMA+uid___A001_X1296_X209', 'ALMA+uid___A001_X1296_X1d1', 'ALMA+uid___A001_X1296_X16f', 'ALMA+uid___A001_X1296_X181', 'ALMA+uid___A001_X1296_X1cd', 'ALMA+uid___A001_X1296_X139', 'ALMA+uid___A001_X1296_X14d', 'ALMA+uid___A001_X1296_X1f3', 'ALMA+uid___A001_X1296_X199', 'ALMA+uid___A001_X1296_X161', 'ALMA+uid___A001_X1296_X13f', 'ALMA+uid___A001_X1296_X12b', 'ALMA+uid___A001_X1296_X1a9', 'ALMA+uid___A001_X1296_X109', 'ALMA+uid___A001_X1296_X131', 'ALMA+uid___A001_X1296_X191', 'ALMA+uid___A001_X1296_X1e7', 'ALMA+uid___A001_X1296_X1a5', 'ALMA+uid___A001_X1296_X145', 'ALMA+uid___A001_X1296_X153', 'ALMA+uid___A001_X1296_X159', 'ALMA+uid___A001_X1296_X11d', 'ALMA+uid___A001_X1296_X1ef', 'ALMA+uid___A001_X1296_X173', 'ALMA+uid___A001_X1296_X17d', 'ALMA+uid___A001_X1296_X1c9', 'ALMA+uid___A001_X1296_X201', 'ALMA+uid___A001_X1296_X125', 'ALMA+uid___A001_X1296_X19f', 'ALMA+uid___A001_X1296_X19b', 'ALMA+uid___A001_X1296_X1fd', 'ALMA+uid___A001_X1296_X113', 'ALMA+uid___A001_X1296_X127', 'ALMA+uid___A001_X1296_X215', 'ALMA+uid___A001_X1296_X17f', 'ALMA+uid___A001_X1296_X1d7', 'ALMA+uid___A001_X1296_X15d', 'ALMA+uid___A001_X1296_X187', 'ALMA+uid___A001_X1296_X1dd', 'ALMA+uid___A001_X1296_X1fb', 'ALMA+uid___A001_X1296_X16d', 'ALMA+uid___A001_X1296_X175', 'ALMA+uid___A001_X1296_X1a7', 'ALMA+uid___A001_X1296_X1d5', 'ALMA+uid___A001_X1296_X1f1', 'ALMA+uid___A001_X1296_X10b', 'ALMA+uid___A001_X1296_X163', 'ALMA+uid___A001_X1296_X147', 'ALMA+uid___A001_X1296_X151', 'ALMA+uid___A001_X1296_X13d', 'ALMA+uid___A001_X1296_X135', 'ALMA+uid___A001_X1296_X1c3', 'ALMA+uid___A001_X1296_X149', 'ALMA+uid___A001_X1296_X195', 'ALMA+uid___A001_X1296_X1eb', 'ALMA+uid___A001_X1296_X133', 'ALMA+uid___A001_X1296_X1bb', 'ALMA+uid___A001_X1296_X165', 'ALMA+uid___A001_X1296_X117', 'ALMA+uid___A001_X1296_X20d', 'ALMA+uid___A001_X1296_X1c5', 'ALMA+uid___A001_X1296_X10d', 'ALMA+uid___A001_X1296_X13b', 'ALMA+uid___A001_X1296_X14f', 'ALMA+uid___A001_X1296_X11f', 'ALMA+uid___A001_X1296_X1ad', 'ALMA+uid___A001_X1296_X1f9', 'ALMA+uid___A001_X1296_X203', 'ALMA+uid___A001_X1296_X1b3', 'ALMA+uid___A001_X1296_X19d', 'ALMA+uid___A001_X1296_X1bf', 'ALMA+uid___A001_X1296_X1d3', 'ALMA+uid___A001_X1296_X1cb', 'ALMA+uid___A001_X1296_X20b', 'ALMA+uid___A001_X1296_X205', 'ALMA+uid___A001_X1296_X1b9', 'ALMA+uid___A001_X1296_X1b1', 'ALMA+uid___A001_X1296_X15b', 'ALMA+uid___A001_X1296_X1c1', 'ALMA+uid___A001_X1296_X1db', 'ALMA+uid___A001_X1296_X1df', 'ALMA+uid___A001_X1296_X185', 'ALMA+uid___A001_X1296_X193', 'ALMA+uid___A001_X1296_X1e9', 'ALMA+uid___A001_X1296_X111', 'ALMA+uid___A001_X1296_X1b7', 'ALMA+uid___A001_X1296_X1df', 'ALMA+uid___A001_X1296_X16b', 'ALMA+uid___A001_X1296_X18b', 'ALMA+uid___A001_X1296_X177', 'ALMA+uid___A001_X1296_X189', 'ALMA+uid___A001_X1296_X115', 'ALMA+uid___A001_X1296_X129', 'ALMA+uid___A001_X1296_X217', 'ALMA+uid___A001_X1296_X1af', 'ALMA+uid___A001_X1296_X1e1', 'ALMA+uid___A001_X1296_X121', 'ALMA+uid___A001_X1296_X219', 'ALMA+uid___A001_X1296_X18f']} [astroquery.alma.core]\n",
      "DEBUG: First response URL: https://almascience.nrao.edu/rh/forceAuthentication/6e6198b1-e1ca-46a1-9519-8ab56ee362af/submission [astroquery.alma.core]\n",
      "DEBUG: Request ID: 6e6198b1-e1ca-46a1-9519-8ab56ee362af [astroquery.alma.core]\n",
      "DEBUG: Submission URL: https://almascience.nrao.edu/rh/submission/6e6198b1-e1ca-46a1-9519-8ab56ee362af [astroquery.alma.core]\n",
      "DEBUG: Caching data to /orange/adamginsburg/ALMA_IMF/tarballs/0e6588822a2398d8324948d15e4f6b678d0bab95bdb66488d1c29816.pickle [astroquery.query]\n",
      "............................................................................................................................................................................................................................................................................................................................................................................................"
     ]
    },
    {
     "ename": "TooManyRedirects",
     "evalue": "Exceeded 30 redirects.",
     "output_type": "error",
     "traceback": [
      "\u001b[0;31m---------------------------------------------------------------------------\u001b[0m",
      "\u001b[0;31mTooManyRedirects\u001b[0m                          Traceback (most recent call last)",
      "\u001b[0;32m<ipython-input-12-37f400b849ea>\u001b[0m in \u001b[0;36m<module>\u001b[0;34m\u001b[0m\n\u001b[1;32m      1\u001b[0m \u001b[0mlog\u001b[0m\u001b[0;34m.\u001b[0m\u001b[0msetLevel\u001b[0m\u001b[0;34m(\u001b[0m\u001b[0;34m'DEBUG'\u001b[0m\u001b[0;34m)\u001b[0m\u001b[0;34m\u001b[0m\u001b[0;34m\u001b[0m\u001b[0m\n\u001b[0;32m----> 2\u001b[0;31m \u001b[0mstaged\u001b[0m \u001b[0;34m=\u001b[0m \u001b[0malma\u001b[0m\u001b[0;34m.\u001b[0m\u001b[0mstage_data\u001b[0m\u001b[0;34m(\u001b[0m\u001b[0mresults\u001b[0m\u001b[0;34m[\u001b[0m\u001b[0;34m'Member ous id'\u001b[0m\u001b[0;34m]\u001b[0m\u001b[0;34m)\u001b[0m\u001b[0;34m\u001b[0m\u001b[0;34m\u001b[0m\u001b[0m\n\u001b[0m",
      "\u001b[0;32m~/.local/lib/python3.7/site-packages/astroquery/alma/core.py\u001b[0m in \u001b[0;36mstage_data\u001b[0;34m(self, uids)\u001b[0m\n\u001b[1;32m    348\u001b[0m             summary = self._request('GET', url_helpers.join(data_page_url,\n\u001b[1;32m    349\u001b[0m                                                             'summary'),\n\u001b[0;32m--> 350\u001b[0;31m                                     cache=False)\n\u001b[0m\u001b[1;32m    351\u001b[0m             \u001b[0msummary\u001b[0m\u001b[0;34m.\u001b[0m\u001b[0mraise_for_status\u001b[0m\u001b[0;34m(\u001b[0m\u001b[0;34m)\u001b[0m\u001b[0;34m\u001b[0m\u001b[0;34m\u001b[0m\u001b[0m\n\u001b[1;32m    352\u001b[0m             \u001b[0mprint\u001b[0m\u001b[0;34m(\u001b[0m\u001b[0;34m\".\"\u001b[0m\u001b[0;34m,\u001b[0m \u001b[0mend\u001b[0m\u001b[0;34m=\u001b[0m\u001b[0;34m''\u001b[0m\u001b[0;34m)\u001b[0m\u001b[0;34m\u001b[0m\u001b[0;34m\u001b[0m\u001b[0m\n",
      "\u001b[0;32m~/.local/lib/python3.7/site-packages/astroquery/query.py\u001b[0m in \u001b[0;36m_request\u001b[0;34m(self, method, url, params, data, headers, files, save, savedir, timeout, cache, stream, auth, continuation, verify)\u001b[0m\n\u001b[1;32m    236\u001b[0m                 \u001b[0;32mwith\u001b[0m \u001b[0msuspend_cache\u001b[0m\u001b[0;34m(\u001b[0m\u001b[0mself\u001b[0m\u001b[0;34m)\u001b[0m\u001b[0;34m:\u001b[0m\u001b[0;34m\u001b[0m\u001b[0;34m\u001b[0m\u001b[0m\n\u001b[1;32m    237\u001b[0m                     response = query.request(self._session, stream=stream,\n\u001b[0;32m--> 238\u001b[0;31m                                              auth=auth, verify=verify)\n\u001b[0m\u001b[1;32m    239\u001b[0m             \u001b[0;32melse\u001b[0m\u001b[0;34m:\u001b[0m\u001b[0;34m\u001b[0m\u001b[0;34m\u001b[0m\u001b[0m\n\u001b[1;32m    240\u001b[0m                 \u001b[0mresponse\u001b[0m \u001b[0;34m=\u001b[0m \u001b[0mquery\u001b[0m\u001b[0;34m.\u001b[0m\u001b[0mfrom_cache\u001b[0m\u001b[0;34m(\u001b[0m\u001b[0mself\u001b[0m\u001b[0;34m.\u001b[0m\u001b[0mcache_location\u001b[0m\u001b[0;34m)\u001b[0m\u001b[0;34m\u001b[0m\u001b[0;34m\u001b[0m\u001b[0m\n",
      "\u001b[0;32m~/.local/lib/python3.7/site-packages/astroquery/query.py\u001b[0m in \u001b[0;36mrequest\u001b[0;34m(self, session, cache_location, stream, auth, verify)\u001b[0m\n\u001b[1;32m     64\u001b[0m                                \u001b[0mdata\u001b[0m\u001b[0;34m=\u001b[0m\u001b[0mself\u001b[0m\u001b[0;34m.\u001b[0m\u001b[0mdata\u001b[0m\u001b[0;34m,\u001b[0m \u001b[0mheaders\u001b[0m\u001b[0;34m=\u001b[0m\u001b[0mself\u001b[0m\u001b[0;34m.\u001b[0m\u001b[0mheaders\u001b[0m\u001b[0;34m,\u001b[0m\u001b[0;34m\u001b[0m\u001b[0;34m\u001b[0m\u001b[0m\n\u001b[1;32m     65\u001b[0m                                \u001b[0mfiles\u001b[0m\u001b[0;34m=\u001b[0m\u001b[0mself\u001b[0m\u001b[0;34m.\u001b[0m\u001b[0mfiles\u001b[0m\u001b[0;34m,\u001b[0m \u001b[0mtimeout\u001b[0m\u001b[0;34m=\u001b[0m\u001b[0mself\u001b[0m\u001b[0;34m.\u001b[0m\u001b[0mtimeout\u001b[0m\u001b[0;34m,\u001b[0m\u001b[0;34m\u001b[0m\u001b[0;34m\u001b[0m\u001b[0m\n\u001b[0;32m---> 66\u001b[0;31m                                stream=stream, auth=auth, verify=verify)\n\u001b[0m\u001b[1;32m     67\u001b[0m \u001b[0;34m\u001b[0m\u001b[0m\n\u001b[1;32m     68\u001b[0m     \u001b[0;32mdef\u001b[0m \u001b[0mhash\u001b[0m\u001b[0;34m(\u001b[0m\u001b[0mself\u001b[0m\u001b[0;34m)\u001b[0m\u001b[0;34m:\u001b[0m\u001b[0;34m\u001b[0m\u001b[0;34m\u001b[0m\u001b[0m\n",
      "\u001b[0;32m/apps/jupyterhub/1.0.0/lib/python3.7/site-packages/requests/sessions.py\u001b[0m in \u001b[0;36mrequest\u001b[0;34m(self, method, url, params, data, headers, cookies, files, auth, timeout, allow_redirects, proxies, hooks, stream, verify, cert, json)\u001b[0m\n\u001b[1;32m    531\u001b[0m         }\n\u001b[1;32m    532\u001b[0m         \u001b[0msend_kwargs\u001b[0m\u001b[0;34m.\u001b[0m\u001b[0mupdate\u001b[0m\u001b[0;34m(\u001b[0m\u001b[0msettings\u001b[0m\u001b[0;34m)\u001b[0m\u001b[0;34m\u001b[0m\u001b[0;34m\u001b[0m\u001b[0m\n\u001b[0;32m--> 533\u001b[0;31m         \u001b[0mresp\u001b[0m \u001b[0;34m=\u001b[0m \u001b[0mself\u001b[0m\u001b[0;34m.\u001b[0m\u001b[0msend\u001b[0m\u001b[0;34m(\u001b[0m\u001b[0mprep\u001b[0m\u001b[0;34m,\u001b[0m \u001b[0;34m**\u001b[0m\u001b[0msend_kwargs\u001b[0m\u001b[0;34m)\u001b[0m\u001b[0;34m\u001b[0m\u001b[0;34m\u001b[0m\u001b[0m\n\u001b[0m\u001b[1;32m    534\u001b[0m \u001b[0;34m\u001b[0m\u001b[0m\n\u001b[1;32m    535\u001b[0m         \u001b[0;32mreturn\u001b[0m \u001b[0mresp\u001b[0m\u001b[0;34m\u001b[0m\u001b[0;34m\u001b[0m\u001b[0m\n",
      "\u001b[0;32m/apps/jupyterhub/1.0.0/lib/python3.7/site-packages/requests/sessions.py\u001b[0m in \u001b[0;36msend\u001b[0;34m(self, request, **kwargs)\u001b[0m\n\u001b[1;32m    666\u001b[0m \u001b[0;34m\u001b[0m\u001b[0m\n\u001b[1;32m    667\u001b[0m         \u001b[0;31m# Resolve redirects if allowed.\u001b[0m\u001b[0;34m\u001b[0m\u001b[0;34m\u001b[0m\u001b[0;34m\u001b[0m\u001b[0m\n\u001b[0;32m--> 668\u001b[0;31m         \u001b[0mhistory\u001b[0m \u001b[0;34m=\u001b[0m \u001b[0;34m[\u001b[0m\u001b[0mresp\u001b[0m \u001b[0;32mfor\u001b[0m \u001b[0mresp\u001b[0m \u001b[0;32min\u001b[0m \u001b[0mgen\u001b[0m\u001b[0;34m]\u001b[0m \u001b[0;32mif\u001b[0m \u001b[0mallow_redirects\u001b[0m \u001b[0;32melse\u001b[0m \u001b[0;34m[\u001b[0m\u001b[0;34m]\u001b[0m\u001b[0;34m\u001b[0m\u001b[0;34m\u001b[0m\u001b[0m\n\u001b[0m\u001b[1;32m    669\u001b[0m \u001b[0;34m\u001b[0m\u001b[0m\n\u001b[1;32m    670\u001b[0m         \u001b[0;31m# Shuffle things around if there's history.\u001b[0m\u001b[0;34m\u001b[0m\u001b[0;34m\u001b[0m\u001b[0;34m\u001b[0m\u001b[0m\n",
      "\u001b[0;32m/apps/jupyterhub/1.0.0/lib/python3.7/site-packages/requests/sessions.py\u001b[0m in \u001b[0;36m<listcomp>\u001b[0;34m(.0)\u001b[0m\n\u001b[1;32m    666\u001b[0m \u001b[0;34m\u001b[0m\u001b[0m\n\u001b[1;32m    667\u001b[0m         \u001b[0;31m# Resolve redirects if allowed.\u001b[0m\u001b[0;34m\u001b[0m\u001b[0;34m\u001b[0m\u001b[0;34m\u001b[0m\u001b[0m\n\u001b[0;32m--> 668\u001b[0;31m         \u001b[0mhistory\u001b[0m \u001b[0;34m=\u001b[0m \u001b[0;34m[\u001b[0m\u001b[0mresp\u001b[0m \u001b[0;32mfor\u001b[0m \u001b[0mresp\u001b[0m \u001b[0;32min\u001b[0m \u001b[0mgen\u001b[0m\u001b[0;34m]\u001b[0m \u001b[0;32mif\u001b[0m \u001b[0mallow_redirects\u001b[0m \u001b[0;32melse\u001b[0m \u001b[0;34m[\u001b[0m\u001b[0;34m]\u001b[0m\u001b[0;34m\u001b[0m\u001b[0;34m\u001b[0m\u001b[0m\n\u001b[0m\u001b[1;32m    669\u001b[0m \u001b[0;34m\u001b[0m\u001b[0m\n\u001b[1;32m    670\u001b[0m         \u001b[0;31m# Shuffle things around if there's history.\u001b[0m\u001b[0;34m\u001b[0m\u001b[0;34m\u001b[0m\u001b[0;34m\u001b[0m\u001b[0m\n",
      "\u001b[0;32m/apps/jupyterhub/1.0.0/lib/python3.7/site-packages/requests/sessions.py\u001b[0m in \u001b[0;36mresolve_redirects\u001b[0;34m(self, resp, req, stream, timeout, verify, cert, proxies, yield_requests, **adapter_kwargs)\u001b[0m\n\u001b[1;32m    163\u001b[0m \u001b[0;34m\u001b[0m\u001b[0m\n\u001b[1;32m    164\u001b[0m             \u001b[0;32mif\u001b[0m \u001b[0mlen\u001b[0m\u001b[0;34m(\u001b[0m\u001b[0mresp\u001b[0m\u001b[0;34m.\u001b[0m\u001b[0mhistory\u001b[0m\u001b[0;34m)\u001b[0m \u001b[0;34m>=\u001b[0m \u001b[0mself\u001b[0m\u001b[0;34m.\u001b[0m\u001b[0mmax_redirects\u001b[0m\u001b[0;34m:\u001b[0m\u001b[0;34m\u001b[0m\u001b[0;34m\u001b[0m\u001b[0m\n\u001b[0;32m--> 165\u001b[0;31m                 \u001b[0;32mraise\u001b[0m \u001b[0mTooManyRedirects\u001b[0m\u001b[0;34m(\u001b[0m\u001b[0;34m'Exceeded %s redirects.'\u001b[0m \u001b[0;34m%\u001b[0m \u001b[0mself\u001b[0m\u001b[0;34m.\u001b[0m\u001b[0mmax_redirects\u001b[0m\u001b[0;34m,\u001b[0m \u001b[0mresponse\u001b[0m\u001b[0;34m=\u001b[0m\u001b[0mresp\u001b[0m\u001b[0;34m)\u001b[0m\u001b[0;34m\u001b[0m\u001b[0;34m\u001b[0m\u001b[0m\n\u001b[0m\u001b[1;32m    166\u001b[0m \u001b[0;34m\u001b[0m\u001b[0m\n\u001b[1;32m    167\u001b[0m             \u001b[0;31m# Release the connection back into the pool.\u001b[0m\u001b[0;34m\u001b[0m\u001b[0;34m\u001b[0m\u001b[0;34m\u001b[0m\u001b[0m\n",
      "\u001b[0;31mTooManyRedirects\u001b[0m: Exceeded 30 redirects."
     ]
    }
   ],
   "source": [
    "log.setLevel('DEBUG')\n",
    "staged = alma.stage_data(results['Member ous id'])"
   ]
  },
  {
   "cell_type": "code",
   "execution_count": 9,
   "metadata": {},
   "outputs": [
    {
     "ename": "NameError",
     "evalue": "name 'staged' is not defined",
     "output_type": "error",
     "traceback": [
      "\u001b[0;31m---------------------------------------------------------------------------\u001b[0m",
      "\u001b[0;31mNameError\u001b[0m                                 Traceback (most recent call last)",
      "\u001b[0;32m<ipython-input-9-bb9d9839e06f>\u001b[0m in \u001b[0;36m<module>\u001b[0;34m\u001b[0m\n\u001b[0;32m----> 1\u001b[0;31m \u001b[0mstaged\u001b[0m\u001b[0;34m\u001b[0m\u001b[0;34m\u001b[0m\u001b[0m\n\u001b[0m",
      "\u001b[0;31mNameError\u001b[0m: name 'staged' is not defined"
     ]
    }
   ],
   "source": [
    "staged"
   ]
  },
  {
   "cell_type": "code",
   "execution_count": null,
   "metadata": {},
   "outputs": [],
   "source": [
    "data = alma.download_files(staged['URL'], savedir='/orange/adamginsburg/ALMA_IMF/tarballs')"
   ]
  },
  {
   "cell_type": "code",
   "execution_count": 10,
   "metadata": {},
   "outputs": [
    {
     "ename": "AttributeError",
     "evalue": "'AlmaClass' object has no attribute '_last_successful_staging_log'",
     "output_type": "error",
     "traceback": [
      "\u001b[0;31m---------------------------------------------------------------------------\u001b[0m",
      "\u001b[0;31mAttributeError\u001b[0m                            Traceback (most recent call last)",
      "\u001b[0;32m<ipython-input-10-3e612c524f5e>\u001b[0m in \u001b[0;36m<module>\u001b[0;34m\u001b[0m\n\u001b[0;32m----> 1\u001b[0;31m \u001b[0malma\u001b[0m\u001b[0;34m.\u001b[0m\u001b[0m_last_successful_staging_log\u001b[0m\u001b[0;34m\u001b[0m\u001b[0;34m\u001b[0m\u001b[0m\n\u001b[0m",
      "\u001b[0;31mAttributeError\u001b[0m: 'AlmaClass' object has no attribute '_last_successful_staging_log'"
     ]
    }
   ],
   "source": [
    "alma._last_successful_staging_log"
   ]
  }
 ],
 "metadata": {
  "kernelspec": {
   "display_name": "Python 3.7 (basic)",
   "language": "python",
   "name": "python3"
  },
  "language_info": {
   "codemirror_mode": {
    "name": "ipython",
    "version": 3
   },
   "file_extension": ".py",
   "mimetype": "text/x-python",
   "name": "python",
   "nbconvert_exporter": "python",
   "pygments_lexer": "ipython3",
   "version": "3.7.3"
  }
 },
 "nbformat": 4,
 "nbformat_minor": 4
}
