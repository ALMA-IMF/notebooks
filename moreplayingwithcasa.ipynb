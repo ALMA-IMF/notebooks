{
 "cells": [
  {
   "cell_type": "code",
   "execution_count": 14,
   "metadata": {},
   "outputs": [],
   "source": [
    "from casatools import table\n",
    "tb = table()"
   ]
  },
  {
   "cell_type": "code",
   "execution_count": 18,
   "metadata": {},
   "outputs": [
    {
     "name": "stdout",
     "output_type": "stream",
     "text": [
      "/lustre/cv/projects/ALMA_IMF/2017.1.01355.L/imaging_results\n"
     ]
    }
   ],
   "source": [
    "cd .."
   ]
  },
  {
   "cell_type": "code",
   "execution_count": 19,
   "metadata": {},
   "outputs": [
    {
     "name": "stdout",
     "output_type": "stream",
     "text": [
      "/lustre/cv/projects/ALMA_IMF/2017.1.01355.L\n"
     ]
    }
   ],
   "source": [
    "cd .."
   ]
  },
  {
   "cell_type": "code",
   "execution_count": 20,
   "metadata": {},
   "outputs": [
    {
     "name": "stdout",
     "output_type": "stream",
     "text": [
      "ls: cannot access *ms: No such file or directory\n"
     ]
    }
   ],
   "source": [
    "ls -d *ms"
   ]
  },
  {
   "cell_type": "code",
   "execution_count": 24,
   "metadata": {},
   "outputs": [
    {
     "name": "stdout",
     "output_type": "stream",
     "text": [
      "./science_goal.uid___A001_X1296_X105/group.uid___A001_X1296_X106/member.uid___A001_X1296_X10b/calibrated/working/uid___A002_Xc7111c_X4b2.ms\n",
      "./science_goal.uid___A001_X1296_X105/group.uid___A001_X1296_X106/member.uid___A001_X1296_X10b/calibrated/working/pipeline-20180806T163101/html/sessionsession_4/uid___A002_Xc790bf_X5527.ms\n",
      "./science_goal.uid___A001_X1296_X105/group.uid___A001_X1296_X106/member.uid___A001_X1296_X10b/calibrated/working/pipeline-20180806T163101/html/sessionsession_1/uid___A002_Xc6d2f9_X54b3.ms\n",
      "./science_goal.uid___A001_X1296_X105/group.uid___A001_X1296_X106/member.uid___A001_X1296_X10b/calibrated/working/pipeline-20180806T163101/html/sessionsession_5/uid___A002_Xc7a409_X3cca.ms\n",
      "./science_goal.uid___A001_X1296_X105/group.uid___A001_X1296_X106/member.uid___A001_X1296_X10b/calibrated/working/pipeline-20180806T163101/html/sessionsession_2/uid___A002_Xc6e968_X4e3b.ms\n",
      "./science_goal.uid___A001_X1296_X105/group.uid___A001_X1296_X106/member.uid___A001_X1296_X10b/calibrated/working/pipeline-20180806T163101/html/sessionsession_3/uid___A002_Xc7111c_X4b2.ms\n",
      "./science_goal.uid___A001_X1296_X105/group.uid___A001_X1296_X106/member.uid___A001_X1296_X10b/calibrated/working/uid___A002_Xc6e968_X4e3b.ms\n",
      "./science_goal.uid___A001_X1296_X105/group.uid___A001_X1296_X106/member.uid___A001_X1296_X10b/calibrated/working/uid___A002_Xc7a409_X3cca.ms\n",
      "./science_goal.uid___A001_X1296_X105/group.uid___A001_X1296_X106/member.uid___A001_X1296_X10b/calibrated/working/uid___A002_Xc790bf_X5527.ms\n",
      "./science_goal.uid___A001_X1296_X105/group.uid___A001_X1296_X106/member.uid___A001_X1296_X10b/calibrated/working/uid___A002_Xc6d2f9_X54b3.ms\n",
      "./science_goal.uid___A001_X1296_X105/group.uid___A001_X1296_X106/member.uid___A001_X1296_X109/calibrated/working/pipeline-20180806T144311/html/sessionsession_2/uid___A002_Xcc626d_Xb34f.ms\n",
      "./science_goal.uid___A001_X1296_X105/group.uid___A001_X1296_X106/member.uid___A001_X1296_X109/calibrated/working/uid___A002_Xcc626d_Xb34f.ms\n",
      "./science_goal.uid___A001_X1296_X105/group.uid___A001_X1296_X106/member.uid___A001_X1296_X107/calibrated/working/uid___A002_Xc8592e_X7966.ms\n",
      "./science_goal.uid___A001_X1296_X105/group.uid___A001_X1296_X106/member.uid___A001_X1296_X107/calibrated/working/uid___A002_Xc75eba_X4f72.ms\n",
      "./science_goal.uid___A001_X1296_X105/group.uid___A001_X1296_X106/member.uid___A001_X1296_X107/calibrated/working/pipeline-20180806T070505/html/sessionsession_4/uid___A002_Xc7e4e4_X37e3.ms\n",
      "./science_goal.uid___A001_X1296_X105/group.uid___A001_X1296_X106/member.uid___A001_X1296_X107/calibrated/working/pipeline-20180806T070505/html/sessionsession_6/uid___A002_Xc8592e_X7966.ms\n",
      "./science_goal.uid___A001_X1296_X105/group.uid___A001_X1296_X106/member.uid___A001_X1296_X107/calibrated/working/pipeline-20180806T070505/html/sessionsession_1/uid___A002_Xc75eba_X4f72.ms\n",
      "./science_goal.uid___A001_X1296_X105/group.uid___A001_X1296_X106/member.uid___A001_X1296_X107/calibrated/working/pipeline-20180806T070505/html/sessionsession_5/uid___A002_Xc8592e_X71c2.ms\n",
      "./science_goal.uid___A001_X1296_X105/group.uid___A001_X1296_X106/member.uid___A001_X1296_X107/calibrated/working/pipeline-20180806T070505/html/sessionsession_2/uid___A002_Xc77d4f_X370b.ms\n",
      "./science_goal.uid___A001_X1296_X105/group.uid___A001_X1296_X106/member.uid___A001_X1296_X107/calibrated/working/pipeline-20180806T070505/html/sessionsession_3/uid___A002_Xc7cf4e_X57f0.ms\n",
      "./science_goal.uid___A001_X1296_X105/group.uid___A001_X1296_X106/member.uid___A001_X1296_X107/calibrated/working/uid___A002_Xc7e4e4_X37e3.ms\n",
      "./science_goal.uid___A001_X1296_X105/group.uid___A001_X1296_X106/member.uid___A001_X1296_X107/calibrated/working/uid___A002_Xc8592e_X71c2.ms\n",
      "./science_goal.uid___A001_X1296_X105/group.uid___A001_X1296_X106/member.uid___A001_X1296_X107/calibrated/working/uid___A002_Xc77d4f_X370b.ms\n",
      "./science_goal.uid___A001_X1296_X105/group.uid___A001_X1296_X106/member.uid___A001_X1296_X107/calibrated/working/uid___A002_Xc7cf4e_X57f0.ms\n",
      "./science_goal.uid___A001_X1296_X105/group.uid___A001_X1296_X106/member.uid___A001_X1296_X107/calibrated/W51-E_B3_uid___A001_X1296_X107_continuum_merged_bsens.cal.ms\n",
      "./science_goal.uid___A001_X1296_X105/group.uid___A001_X1296_X106/member.uid___A001_X1296_X107/calibrated/W51-E_B3_uid___A001_X1296_X107_continuum_merged.cal.ms\n",
      "./science_goal.uid___A001_X1296_X211/group.uid___A001_X1296_X212/member.uid___A001_X1296_X215/calibrated/working/pipeline-20180806T052756/html/sessionsession_1/uid___A002_Xcf0c6b_X4bbc.ms\n",
      "./science_goal.uid___A001_X1296_X211/group.uid___A001_X1296_X212/member.uid___A001_X1296_X215/calibrated/working/pipeline-20180806T044149/html/sessionsession_1/uid___A002_Xcf0c6b_X4bbc.ms\n",
      "./science_goal.uid___A001_X1296_X211/group.uid___A001_X1296_X212/member.uid___A001_X1296_X215/calibrated/working/uid___A002_Xcf0c6b_X4bbc.ms\n",
      "./science_goal.uid___A001_X1296_X211/group.uid___A001_X1296_X212/member.uid___A001_X1296_X213/calibrated/working/uid___A002_Xc96463_X6519.ms\n",
      "./science_goal.uid___A001_X1296_X211/group.uid___A001_X1296_X212/member.uid___A001_X1296_X213/calibrated/working/pipeline-20180806T000239/html/sessionsession_1/uid___A002_Xc96463_X6519.ms\n",
      "./science_goal.uid___A001_X1296_X211/group.uid___A001_X1296_X212/member.uid___A001_X1296_X213/calibrated/working/pipeline-20180806T000239/html/sessionsession_2/uid___A002_Xc96f17_X6e3d.ms\n",
      "./science_goal.uid___A001_X1296_X211/group.uid___A001_X1296_X212/member.uid___A001_X1296_X213/calibrated/working/uid___A002_Xc96f17_X6e3d.ms\n",
      "./science_goal.uid___A001_X1296_X211/group.uid___A001_X1296_X212/member.uid___A001_X1296_X217/calibrated/W51-E_B6_uid___A001_X1296_X217_continuum_merged.cal.ms\n",
      "./science_goal.uid___A001_X1296_X211/group.uid___A001_X1296_X212/member.uid___A001_X1296_X217/calibrated/W51-E_B6_uid___A001_X1296_X217_continuum_merged_bsens.cal.ms\n",
      "./science_goal.uid___A001_X1296_X211/group.uid___A001_X1296_X212/member.uid___A001_X1296_X217/calibrated/working/uid___A002_Xcbdb2a_X13ce2.ms\n",
      "./science_goal.uid___A001_X1296_X211/group.uid___A001_X1296_X212/member.uid___A001_X1296_X217/calibrated/working/uid___A002_Xccb526_Xcc36.ms\n",
      "./science_goal.uid___A001_X1296_X211/group.uid___A001_X1296_X212/member.uid___A001_X1296_X217/calibrated/working/pipeline-20180805T200826/html/sessionsession_4/uid___A002_Xcbdb2a_X6e67.ms\n",
      "./science_goal.uid___A001_X1296_X211/group.uid___A001_X1296_X212/member.uid___A001_X1296_X217/calibrated/working/pipeline-20180805T200826/html/sessionsession_6/uid___A002_Xcbdb2a_X13ce2.ms\n",
      "./science_goal.uid___A001_X1296_X211/group.uid___A001_X1296_X212/member.uid___A001_X1296_X217/calibrated/working/pipeline-20180805T200826/html/sessionsession_1/uid___A002_Xc733ea_X753.ms\n",
      "./science_goal.uid___A001_X1296_X211/group.uid___A001_X1296_X212/member.uid___A001_X1296_X217/calibrated/working/pipeline-20180805T200826/html/sessionsession_5/uid___A002_Xcbdb2a_X8114.ms\n",
      "./science_goal.uid___A001_X1296_X211/group.uid___A001_X1296_X212/member.uid___A001_X1296_X217/calibrated/working/pipeline-20180805T200826/html/sessionsession_11/uid___A002_Xccb526_Xcc36.ms\n",
      "./science_goal.uid___A001_X1296_X211/group.uid___A001_X1296_X212/member.uid___A001_X1296_X217/calibrated/working/pipeline-20180805T200826/html/sessionsession_11/uid___A002_Xccb526_Xd6ae.ms\n",
      "./science_goal.uid___A001_X1296_X211/group.uid___A001_X1296_X212/member.uid___A001_X1296_X217/calibrated/working/pipeline-20180805T200826/html/sessionsession_8/uid___A002_Xcc3ae3_X95bc.ms\n",
      "./science_goal.uid___A001_X1296_X211/group.uid___A001_X1296_X212/member.uid___A001_X1296_X217/calibrated/working/pipeline-20180805T200826/html/sessionsession_7/uid___A002_Xcc10e0_X6dd3.ms\n",
      "./science_goal.uid___A001_X1296_X211/group.uid___A001_X1296_X212/member.uid___A001_X1296_X217/calibrated/working/pipeline-20180805T200826/html/sessionsession_2/uid___A002_Xc772ca_X392.ms\n",
      "./science_goal.uid___A001_X1296_X211/group.uid___A001_X1296_X212/member.uid___A001_X1296_X217/calibrated/working/pipeline-20180805T200826/html/sessionsession_3/uid___A002_Xca2b8a_X6be2.ms\n",
      "./science_goal.uid___A001_X1296_X211/group.uid___A001_X1296_X212/member.uid___A001_X1296_X217/calibrated/working/uid___A002_Xcbdb2a_X6e67.ms\n",
      "./science_goal.uid___A001_X1296_X211/group.uid___A001_X1296_X212/member.uid___A001_X1296_X217/calibrated/working/uid___A002_Xca2b8a_X6be2.ms\n",
      "./science_goal.uid___A001_X1296_X211/group.uid___A001_X1296_X212/member.uid___A001_X1296_X217/calibrated/working/uid___A002_Xc733ea_X753.ms\n",
      "./science_goal.uid___A001_X1296_X211/group.uid___A001_X1296_X212/member.uid___A001_X1296_X217/calibrated/working/uid___A002_Xcc10e0_X6dd3.ms\n",
      "./science_goal.uid___A001_X1296_X211/group.uid___A001_X1296_X212/member.uid___A001_X1296_X217/calibrated/working/uid___A002_Xcbdb2a_X8114.ms\n",
      "./science_goal.uid___A001_X1296_X211/group.uid___A001_X1296_X212/member.uid___A001_X1296_X217/calibrated/working/uid___A002_Xc772ca_X392.ms\n",
      "./science_goal.uid___A001_X1296_X211/group.uid___A001_X1296_X212/member.uid___A001_X1296_X217/calibrated/working/uid___A002_Xccb526_Xd6ae.ms\n",
      "./science_goal.uid___A001_X1296_X211/group.uid___A001_X1296_X212/member.uid___A001_X1296_X217/calibrated/working/uid___A002_Xcc3ae3_X95bc.ms\n"
     ]
    }
   ],
   "source": [
    "!find . -name \"*.ms\""
   ]
  },
  {
   "cell_type": "code",
   "execution_count": 25,
   "metadata": {},
   "outputs": [
    {
     "name": "stdout",
     "output_type": "stream",
     "text": [
      "\u001b[0m\u001b[01;34mANTENNA\u001b[0m/             \u001b[01;34mPOINTING\u001b[0m/           table.f15       table.f23\n",
      "\u001b[01;34mASDM_ANTENNA\u001b[0m/        \u001b[01;34mPOLARIZATION\u001b[0m/       table.f16       table.f23_TSM1\n",
      "\u001b[01;34mASDM_CALATMOSPHERE\u001b[0m/  \u001b[01;34mPROCESSOR\u001b[0m/          table.f17       table.f24\n",
      "\u001b[01;34mASDM_CALWVR\u001b[0m/         \u001b[01;34mSOURCE\u001b[0m/             table.f17_TSM1  table.f24_TSM1\n",
      "\u001b[01;34mASDM_EXECBLOCK\u001b[0m/      Source.xml          table.f17_TSM2  table.f24_TSM2\n",
      "\u001b[01;34mASDM_RECEIVER\u001b[0m/       \u001b[01;34mSPECTRAL_WINDOW\u001b[0m/    table.f17_TSM3  table.f24_TSM3\n",
      "\u001b[01;34mASDM_SBSUMMARY\u001b[0m/      SpectralWindow.xml  table.f18       table.f3\n",
      "\u001b[01;34mASDM_SOURCE\u001b[0m/         \u001b[01;34mSTATE\u001b[0m/              table.f19       table.f4\n",
      "\u001b[01;34mASDM_STATION\u001b[0m/        \u001b[01;34mSYSCAL\u001b[0m/             table.f2        table.f5\n",
      "\u001b[01;34mCALDEVICE\u001b[0m/           \u001b[01;34mSYSPOWER\u001b[0m/           table.f20       table.f6\n",
      "\u001b[01;34mDATA_DESCRIPTION\u001b[0m/    table.dat           table.f20_TSM0  table.f7\n",
      "DataDescription.xml  table.f1            table.f21       table.f8\n",
      "\u001b[01;34mFEED\u001b[0m/                table.f10           table.f21_TSM1  table.f9\n",
      "\u001b[01;34mFIELD\u001b[0m/               table.f11           table.f21_TSM2  table.info\n",
      "\u001b[01;34mFLAG_CMD\u001b[0m/            table.f12           table.f21_TSM3  table.lock\n",
      "\u001b[01;34mHISTORY\u001b[0m/             table.f13           table.f22       \u001b[01;34mWEATHER\u001b[0m/\n",
      "\u001b[01;34mOBSERVATION\u001b[0m/         table.f14           table.f22_TSM1\n"
     ]
    }
   ],
   "source": [
    "ls ./science_goal.uid___A001_X1296_X105/group.uid___A001_X1296_X106/member.uid___A001_X1296_X10b/calibrated/working/uid___A002_Xc6d2f9_X54b3.ms\n"
   ]
  },
  {
   "cell_type": "code",
   "execution_count": 26,
   "metadata": {},
   "outputs": [
    {
     "data": {
      "text/plain": [
       "True"
      ]
     },
     "execution_count": 26,
     "metadata": {},
     "output_type": "execute_result"
    }
   ],
   "source": [
    "tb.open('./science_goal.uid___A001_X1296_X105/group.uid___A001_X1296_X106/member.uid___A001_X1296_X10b/calibrated/working/uid___A002_Xc6d2f9_X54b3.ms/SPECTRAL_WINDOW')"
   ]
  },
  {
   "cell_type": "code",
   "execution_count": 27,
   "metadata": {},
   "outputs": [
    {
     "data": {
      "text/plain": [
       "['MEAS_FREQ_REF',\n",
       " 'CHAN_FREQ',\n",
       " 'REF_FREQUENCY',\n",
       " 'CHAN_WIDTH',\n",
       " 'EFFECTIVE_BW',\n",
       " 'RESOLUTION',\n",
       " 'FLAG_ROW',\n",
       " 'FREQ_GROUP',\n",
       " 'FREQ_GROUP_NAME',\n",
       " 'IF_CONV_CHAIN',\n",
       " 'NAME',\n",
       " 'NET_SIDEBAND',\n",
       " 'NUM_CHAN',\n",
       " 'TOTAL_BANDWIDTH',\n",
       " 'BBC_NO',\n",
       " 'ASSOC_SPW_ID',\n",
       " 'ASSOC_NATURE']"
      ]
     },
     "execution_count": 27,
     "metadata": {},
     "output_type": "execute_result"
    }
   ],
   "source": [
    "tb.colnames()"
   ]
  },
  {
   "cell_type": "code",
   "execution_count": 28,
   "metadata": {},
   "outputs": [
    {
     "data": {
      "text/plain": [
       "array([   1,    1,    1,    1,  128,    1,  128,    1,  128,    1,  128,\n",
       "          1,    1,    1,    1,    1, 2048,    1, 2048,    1, 2048,    1,\n",
       "       2048,    1], dtype=int32)"
      ]
     },
     "execution_count": 28,
     "metadata": {},
     "output_type": "execute_result"
    }
   ],
   "source": [
    "tb.getcol('NUM_CHAN')"
   ]
  },
  {
   "cell_type": "code",
   "execution_count": null,
   "metadata": {},
   "outputs": [],
   "source": []
  },
  {
   "cell_type": "code",
   "execution_count": 1,
   "metadata": {},
   "outputs": [],
   "source": [
    "import os\n",
    "os.chdir('/lustre/cv/projects/ALMA_IMF/2017.1.01355.L/imaging_results')"
   ]
  },
  {
   "cell_type": "code",
   "execution_count": 2,
   "metadata": {},
   "outputs": [],
   "source": [
    "from spectral_cube import SpectralCube"
   ]
  },
  {
   "cell_type": "code",
   "execution_count": 3,
   "metadata": {},
   "outputs": [
    {
     "name": "stderr",
     "output_type": "stream",
     "text": [
      "WARNING: StokesWarning: Cube is a Stokes cube, returning spectral cube for I component [spectral_cube.spectral_cube]\n"
     ]
    },
    {
     "data": {
      "text/plain": [
       "VaryingResolutionSpectralCube with shape=(1920, 2646, 2800) and unit=Jy / beam:\n",
       " n_x:   2800  type_x: RA---SIN  unit_x: deg    range:   290.893936 deg:  290.974260 deg\n",
       " n_y:   2646  type_y: DEC--SIN  unit_y: deg    range:    14.471441 deg:   14.544913 deg\n",
       " n_s:   1920  type_s: FREQ      unit_s: Hz     range: 91714584990.014 Hz:92651594185.040 Hz"
      ]
     },
     "execution_count": 3,
     "metadata": {},
     "output_type": "execute_result"
    }
   ],
   "source": [
    "cube = SpectralCube.read('W51-E_B3_spw1_12M_lines.image.fits')\n",
    "cube"
   ]
  },
  {
   "cell_type": "code",
   "execution_count": 4,
   "metadata": {},
   "outputs": [],
   "source": [
    "cube.beam_threshold = 1"
   ]
  },
  {
   "cell_type": "code",
   "execution_count": 5,
   "metadata": {},
   "outputs": [],
   "source": [
    "import dask\n",
    "import dask.array"
   ]
  },
  {
   "cell_type": "code",
   "execution_count": 6,
   "metadata": {},
   "outputs": [],
   "source": [
    "from dask.diagnostics import ProgressBar\n",
    "ProgressBar().register()"
   ]
  },
  {
   "cell_type": "code",
   "execution_count": 7,
   "metadata": {},
   "outputs": [],
   "source": [
    "cube.dtype = cube._data.dtype"
   ]
  },
  {
   "cell_type": "code",
   "execution_count": 9,
   "metadata": {},
   "outputs": [],
   "source": [
    "scube = cube[:,:50,:50]\n",
    "scube.dtype = scube._data.dtype"
   ]
  },
  {
   "cell_type": "code",
   "execution_count": 10,
   "metadata": {},
   "outputs": [],
   "source": [
    "darr = dask.array.from_array(scube)"
   ]
  },
  {
   "cell_type": "code",
   "execution_count": 11,
   "metadata": {},
   "outputs": [],
   "source": [
    "import astropy.stats"
   ]
  },
  {
   "cell_type": "code",
   "execution_count": 18,
   "metadata": {},
   "outputs": [],
   "source": [
    "import numpy as np"
   ]
  },
  {
   "cell_type": "code",
   "execution_count": 9,
   "metadata": {},
   "outputs": [],
   "source": [
    "scube = cube[:,:50,:50]\n",
    "scube.dtype = scube._data.dtype"
   ]
  },
  {
   "cell_type": "code",
   "execution_count": 13,
   "metadata": {},
   "outputs": [],
   "source": [
    "thing = darr.map_blocks(np.median, axis=0)"
   ]
  },
  {
   "cell_type": "code",
   "execution_count": 14,
   "metadata": {},
   "outputs": [
    {
     "name": "stdout",
     "output_type": "stream",
     "text": [
      "[########################################] | 100% Completed |  3min  1.8s\n"
     ]
    }
   ],
   "source": [
    "result = thing.compute()"
   ]
  },
  {
   "cell_type": "code",
   "execution_count": 30,
   "metadata": {},
   "outputs": [
    {
     "name": "stderr",
     "output_type": "stream",
     "text": [
      "/lustre/naasc/users/aginsbur/anaconda/lib/python3.6/site-packages/radio_beam-0.3.1-py3.6.egg/radio_beam/multiple_beams.py:258: UserWarning: Do not use the average beam for convolution! Use the smallest common beam from `Beams.common_beam()`.\n",
      "  warnings.warn(\"Do not use the average beam for convolution! Use the\"\n",
      "WARNING: BeamAverageWarning: Arithmetic beam averaging is being performed.  This is not a mathematically robust operation, but is being permitted because the beams differ by <1 [spectral_cube.base_class]\n"
     ]
    },
    {
     "name": "stdout",
     "output_type": "stream",
     "text": [
      "CPU times: user 450 ms, sys: 1.05 s, total: 1.5 s\n",
      "Wall time: 1.42 s\n"
     ]
    }
   ],
   "source": [
    "%%time\n",
    "med = scube.median(axis=0)"
   ]
  },
  {
   "cell_type": "code",
   "execution_count": 31,
   "metadata": {},
   "outputs": [
    {
     "name": "stdout",
     "output_type": "stream",
     "text": [
      "CPU times: user 248 ms, sys: 609 ms, total: 857 ms\n",
      "Wall time: 142 ms\n"
     ]
    }
   ],
   "source": [
    "%%time\n",
    "med = scube.median(axis=0)"
   ]
  },
  {
   "cell_type": "code",
   "execution_count": 32,
   "metadata": {},
   "outputs": [
    {
     "name": "stderr",
     "output_type": "stream",
     "text": [
      "/lustre/naasc/users/aginsbur/repos/spectral-cube/spectral_cube/masks.py:185: FutureWarning: Using a non-tuple sequence for multidimensional indexing is deprecated; use `arr[tuple(seq)]` instead of `arr[seq]`. In the future this will be interpreted as an array index, `arr[np.array(seq)]`, which will result either in an error or a different result.\n",
      "  return data[view][self.include(data=data, wcs=wcs, view=view)]\n",
      "/lustre/naasc/users/aginsbur/repos/spectral-cube/spectral_cube/masks.py:629: FutureWarning: Using a non-tuple sequence for multidimensional indexing is deprecated; use `arr[tuple(seq)]` instead of `arr[seq]`. In the future this will be interpreted as an array index, `arr[np.array(seq)]`, which will result either in an error or a different result.\n",
      "  return self._function(self._data[view])\n",
      "/lustre/naasc/users/aginsbur/repos/spectral-cube/spectral_cube/masks.py:534: FutureWarning: Using a non-tuple sequence for multidimensional indexing is deprecated; use `arr[tuple(seq)]` instead of `arr[seq]`. In the future this will be interpreted as an array index, `arr[np.array(seq)]`, which will result either in an error or a different result.\n",
      "  result_mask = self._mask[view]\n"
     ]
    },
    {
     "name": "stdout",
     "output_type": "stream",
     "text": [
      "CPU times: user 923 ms, sys: 401 ms, total: 1.32 s\n",
      "Wall time: 817 ms\n"
     ]
    }
   ],
   "source": [
    "%%time\n",
    "med = scube.median(axis=0, iterate_rays=True)"
   ]
  },
  {
   "cell_type": "code",
   "execution_count": 33,
   "metadata": {},
   "outputs": [
    {
     "name": "stdout",
     "output_type": "stream",
     "text": [
      "CPU times: user 1.13 s, sys: 146 ms, total: 1.28 s\n",
      "Wall time: 1.32 s\n"
     ]
    }
   ],
   "source": [
    "%%time\n",
    "med = scube.apply_function_parallel_spectral(np.nanmedian)"
   ]
  },
  {
   "cell_type": "code",
   "execution_count": 34,
   "metadata": {},
   "outputs": [
    {
     "name": "stdout",
     "output_type": "stream",
     "text": [
      "CPU times: user 1.33 s, sys: 33.1 ms, total: 1.36 s\n",
      "Wall time: 1.48 s\n"
     ]
    }
   ],
   "source": [
    "%%time\n",
    "med = scube.apply_function_parallel_spectral(np.nanmedian, num_cores=4)"
   ]
  },
  {
   "cell_type": "code",
   "execution_count": null,
   "metadata": {},
   "outputs": [],
   "source": []
  }
 ],
 "metadata": {
  "kernelspec": {
   "display_name": "Python 3",
   "language": "python",
   "name": "python3"
  },
  "language_info": {
   "codemirror_mode": {
    "name": "ipython",
    "version": 3
   },
   "file_extension": ".py",
   "mimetype": "text/x-python",
   "name": "python",
   "nbconvert_exporter": "python",
   "pygments_lexer": "ipython3",
   "version": "3.6.8"
  }
 },
 "nbformat": 4,
 "nbformat_minor": 2
}
