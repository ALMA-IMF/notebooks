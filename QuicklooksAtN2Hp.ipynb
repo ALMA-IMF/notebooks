{
 "cells": [
  {
   "cell_type": "code",
   "execution_count": 15,
   "metadata": {},
   "outputs": [
    {
     "data": {
      "application/vnd.jupyter.widget-view+json": {
       "model_id": "77530c8e169b4a4ab82590e0e5387200",
       "version_major": 2,
       "version_minor": 0
      },
      "text/plain": [
       "Canvas(toolbar=Toolbar(toolitems=[('Home', 'Reset original view', 'home', 'home'), ('Back', 'Back to previous …"
      ]
     },
     "metadata": {},
     "output_type": "display_data"
    },
    {
     "data": {
      "text/plain": [
       "[<matplotlib.lines.Line2D at 0x2ba1b0ec1518>]"
      ]
     },
     "execution_count": 15,
     "metadata": {},
     "output_type": "execute_result"
    }
   ],
   "source": [
    "%matplotlib widget\n",
    "import pylab as pl\n",
    "\n",
    "import pylab as pl\n",
    "pl.plot([0,1])"
   ]
  },
  {
   "cell_type": "code",
   "execution_count": 1,
   "metadata": {},
   "outputs": [],
   "source": [
    "import casatasks\n",
    "import casatools"
   ]
  },
  {
   "cell_type": "code",
   "execution_count": 2,
   "metadata": {},
   "outputs": [],
   "source": [
    "import casatools\n",
    "ia = casatools.image()"
   ]
  },
  {
   "cell_type": "code",
   "execution_count": 3,
   "metadata": {},
   "outputs": [
    {
     "name": "stderr",
     "output_type": "stream",
     "text": [
      "WARNING: AstropyDeprecationWarning: astropy.extern.six will be removed in 4.0, use the six module directly if it is still needed [astropy.extern.six]\n"
     ]
    }
   ],
   "source": [
    "import pyspeckit\n",
    "import spectral_cube\n",
    "from spectral_cube import SpectralCube"
   ]
  },
  {
   "cell_type": "code",
   "execution_count": 4,
   "metadata": {},
   "outputs": [
    {
     "name": "stdout",
     "output_type": "stream",
     "text": [
      "['/home/adamginsburg/.local/lib/python3.6/site-packages/spectral_cube']\n"
     ]
    }
   ],
   "source": [
    "import spectral_cube\n",
    "print(spectral_cube.__path__)"
   ]
  },
  {
   "cell_type": "markdown",
   "metadata": {},
   "source": [
    "%%bash\n",
    "fgrep casatools /home/adamginsburg/.local/lib/python3.6/site-packages/spectral_cube/io/*py"
   ]
  },
  {
   "cell_type": "markdown",
   "metadata": {},
   "source": [
    "%%bash\n",
    "rm -r /home/adamginsburg/.local/lib/python3.6/site-packages/spectral_cube"
   ]
  },
  {
   "cell_type": "markdown",
   "metadata": {},
   "source": [
    "import subprocess\n",
    "import sys\n",
    "subprocess.check_call([sys.executable, '-m', 'pip', 'install', '--editable', '--user', 'https://github.com/radio-astro-tools/spectral-cube/archive/master.zip'])"
   ]
  },
  {
   "cell_type": "markdown",
   "metadata": {},
   "source": [
    "import subprocess\n",
    "import sys\n",
    "subprocess.check_call([sys.executable, '-m', 'pip', 'install', '--editable', '--user', '/orange/adamginsburg/repos/spectral-cube'])"
   ]
  },
  {
   "cell_type": "markdown",
   "metadata": {},
   "source": [
    "%%bash\n",
    "pip install --user https://github.com/radio-astro-tools/spectral-cube/archive/master.zip"
   ]
  },
  {
   "cell_type": "markdown",
   "metadata": {},
   "source": [
    "%%bash\n",
    "cd /orange/adamginsburg/repos/spectral-cube\n",
    "python setup.py develop --user"
   ]
  },
  {
   "cell_type": "code",
   "execution_count": 5,
   "metadata": {},
   "outputs": [
    {
     "name": "stdout",
     "output_type": "stream",
     "text": [
      "/orange/adamginsburg/ALMA_IMF/2017.1.01355.L/imaging_results/n2hp_sep10\n"
     ]
    }
   ],
   "source": [
    "cd /orange/adamginsburg/ALMA_IMF/2017.1.01355.L/imaging_results/n2hp_sep10/"
   ]
  },
  {
   "cell_type": "code",
   "execution_count": 6,
   "metadata": {},
   "outputs": [
    {
     "name": "stdout",
     "output_type": "stream",
     "text": [
      "/orange/adamginsburg/ALMA_IMF/2017.1.01355.L/imaging_results\n"
     ]
    }
   ],
   "source": [
    "cd /orange/adamginsburg/ALMA_IMF/2017.1.01355.L/imaging_results/"
   ]
  },
  {
   "cell_type": "code",
   "execution_count": 7,
   "metadata": {},
   "outputs": [
    {
     "name": "stdout",
     "output_type": "stream",
     "text": [
      "\u001b[0m\u001b[01;34mG008.67_B3_spw0_12M_n2hp.contsub.image\u001b[0m/\n",
      "\u001b[01;34mG008.67_B3_spw0_12M_n2hp.image\u001b[0m/\n",
      "\u001b[01;34mG010.62_B3_spw0_12M_n2hp.contsub.image\u001b[0m/\n",
      "\u001b[01;34mG010.62_B3_spw0_12M_n2hp.image\u001b[0m/\n",
      "\u001b[01;34mG012.80_B3_spw0_12M_n2hp.contsub.image\u001b[0m/\n",
      "\u001b[01;34mG012.80_B3_spw0_12M_n2hp.image\u001b[0m/\n",
      "\u001b[01;34mG327.29_B3_spw0_12M_n2hp.contsub.image\u001b[0m/\n",
      "\u001b[01;34mG327.29_B3_spw0_12M_n2hp.image\u001b[0m/\n",
      "\u001b[01;34mG327.29_B3_spw0_7M12M_n2hp.contsub.image\u001b[0m/\n",
      "\u001b[01;34mG327.29_B3_spw0_7M12M_n2hp.image\u001b[0m/\n",
      "\u001b[01;34mG328.25_B3_spw0_12M_n2hp.contsub.image\u001b[0m/\n",
      "\u001b[01;34mG328.25_B3_spw0_12M_n2hp.image\u001b[0m/\n",
      "\u001b[01;34mG333.60_B3_spw0_12M_n2hp.contsub.image\u001b[0m/\n",
      "\u001b[01;34mG333.60_B3_spw0_12M_n2hp.image\u001b[0m/\n",
      "\u001b[01;34mG337.92_B3_spw0_12M_n2hp.contsub.image\u001b[0m/\n",
      "\u001b[01;34mG337.92_B3_spw0_12M_n2hp.image\u001b[0m/\n",
      "\u001b[01;34mG338.93_B3_spw0_12M_n2hp.contsub.image\u001b[0m/\n",
      "\u001b[01;34mG338.93_B3_spw0_12M_n2hp.image\u001b[0m/\n",
      "\u001b[01;34mG351.77_B3_spw0_12M_n2hp.contsub.image\u001b[0m/\n",
      "\u001b[01;34mG351.77_B3_spw0_12M_n2hp.image\u001b[0m/\n",
      "\u001b[01;34mG353.41_B3_spw0_12M_n2hp.contsub.image\u001b[0m/\n",
      "\u001b[01;34mG353.41_B3_spw0_12M_n2hp.image\u001b[0m/\n",
      "\u001b[01;34mW43-MM1_B3_spw0_12M_n2hp.image\u001b[0m/\n",
      "\u001b[01;34mW43-MM2_B3_spw0_12M_n2hp.contsub.image\u001b[0m/\n",
      "\u001b[01;34mW43-MM2_B3_spw0_12M_n2hp.image\u001b[0m/\n",
      "\u001b[01;34mW43-MM3_B3_spw0_12M_n2hp.contsub.image\u001b[0m/\n",
      "\u001b[01;34mW43-MM3_B3_spw0_12M_n2hp.image\u001b[0m/\n",
      "\u001b[01;34mW51-E_B3_spw0_12M_n2hp.image\u001b[0m/\n",
      "\u001b[01;34mW51-IRS2_B3_spw0_12M_n2hp.contsub.image\u001b[0m/\n",
      "\u001b[01;34mW51-IRS2_B3_spw0_12M_n2hp.image\u001b[0m/\n"
     ]
    }
   ],
   "source": [
    "%ls -d *n2hp*image"
   ]
  },
  {
   "cell_type": "code",
   "execution_count": 8,
   "metadata": {},
   "outputs": [
    {
     "name": "stderr",
     "output_type": "stream",
     "text": [
      "Cube is a Stokes cube, returning spectral cube for I component\n",
      "No beam information found in CASA image.\n",
      "Cube is a Stokes cube, returning spectral cube for I component\n"
     ]
    }
   ],
   "source": [
    "imcube = cube = spectral_cube.SpectralCube.read('W51-E_B3_spw0_12M_n2hp.image', format='casa_image')\n",
    "residcube =  spectral_cube.SpectralCube.read('W51-E_B3_spw0_12M_n2hp.residual', format='casa_image')"
   ]
  },
  {
   "cell_type": "markdown",
   "metadata": {},
   "source": [
    "m0 = cube.moment0(axis=0)\n",
    "m0.quicklook()"
   ]
  },
  {
   "cell_type": "markdown",
   "metadata": {},
   "source": [
    "mx = cube.max(axis=0)\n",
    "mx.quicklook()"
   ]
  },
  {
   "cell_type": "markdown",
   "metadata": {},
   "source": [
    "pl.figure()\n",
    "m0.quicklook()"
   ]
  },
  {
   "cell_type": "code",
   "execution_count": 9,
   "metadata": {},
   "outputs": [],
   "source": [
    ">>> from glue_jupyter import jglue\n",
    ">>> app = jglue()"
   ]
  },
  {
   "cell_type": "code",
   "execution_count": 10,
   "metadata": {},
   "outputs": [],
   "source": [
    "from glue.plugins.data_factories.spectral_cube.spectral_cube import spectral_cube_to_data, coordinates_from_wcs\n",
    "from glue.core import Data"
   ]
  },
  {
   "cell_type": "code",
   "execution_count": 11,
   "metadata": {},
   "outputs": [
    {
     "data": {
      "text/plain": [
       "[Data (label: residcube)]"
      ]
     },
     "execution_count": 11,
     "metadata": {},
     "output_type": "execute_result"
    }
   ],
   "source": [
    "result = Data()\n",
    "result.coords = coordinates_from_wcs(cube.wcs)\n",
    "result.add_component(imcube.unmasked_data[...], label='n2hp_cube')\n",
    "app.add_data(imcube=result)\n",
    "result.add_component(residcube.unmasked_data[...], label='residual')\n",
    "app.add_data(residcube=result)"
   ]
  },
  {
   "cell_type": "code",
   "execution_count": 12,
   "metadata": {},
   "outputs": [
    {
     "data": {
      "application/vnd.jupyter.widget-view+json": {
       "model_id": "245a889af5c749478426663969fea307",
       "version_major": 2,
       "version_minor": 0
      },
      "text/plain": [
       "VBox(children=(HBox(children=(BasicJupyterToolbar(children=[ToggleButton(children=[Image(value=b'<?xml version…"
      ]
     },
     "metadata": {},
     "output_type": "display_data"
    }
   ],
   "source": [
    "imshow_widget = app.imshow(widget='matplotlib')"
   ]
  },
  {
   "cell_type": "code",
   "execution_count": 13,
   "metadata": {},
   "outputs": [
    {
     "data": {
      "application/vnd.jupyter.widget-view+json": {
       "model_id": "46aad11d58a14e75b32985d43258c13e",
       "version_major": 2,
       "version_minor": 0
      },
      "text/plain": [
       "VBox(children=(HTML(value='<style> .output_wrapper .ui-dialog-titlebar { display: none; } </style>'), Canvas(t…"
      ]
     },
     "metadata": {},
     "output_type": "display_data"
    }
   ],
   "source": [
    "imshow_widget.figure_widget"
   ]
  },
  {
   "cell_type": "code",
   "execution_count": 14,
   "metadata": {},
   "outputs": [
    {
     "data": {
      "text/plain": [
       "VaryingResolutionSpectralCube with shape=(260, 2016, 2016) and unit=Jy / beam:\n",
       " n_x:   2016  type_x: RA---SIN  unit_x: deg    range:   290.905157 deg:  290.962981 deg\n",
       " n_y:   2016  type_y: DEC--SIN  unit_y: deg    range:    14.480220 deg:   14.536193 deg\n",
       " n_s:    260  type_s: FREQ      unit_s: Hz     range: 93147344668.008 Hz:93165858667.144 Hz"
      ]
     },
     "execution_count": 14,
     "metadata": {},
     "output_type": "execute_result"
    }
   ],
   "source": [
    "cube"
   ]
  },
  {
   "cell_type": "code",
   "execution_count": null,
   "metadata": {},
   "outputs": [],
   "source": []
  }
 ],
 "metadata": {
  "kernelspec": {
   "display_name": "CASA6: Python 3.6",
   "language": "python",
   "name": "casa6_py36"
  },
  "language_info": {
   "codemirror_mode": {
    "name": "ipython",
    "version": 3
   },
   "file_extension": ".py",
   "mimetype": "text/x-python",
   "name": "python",
   "nbconvert_exporter": "python",
   "pygments_lexer": "ipython3",
   "version": "3.6.9"
  }
 },
 "nbformat": 4,
 "nbformat_minor": 4
}
