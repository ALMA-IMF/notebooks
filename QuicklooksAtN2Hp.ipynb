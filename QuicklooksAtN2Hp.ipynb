{
 "cells": [
  {
   "cell_type": "code",
   "execution_count": 2,
   "metadata": {},
   "outputs": [
    {
     "data": {
      "application/vnd.jupyter.widget-view+json": {
       "model_id": "ad0d67d6d1b7496db9d6f6b5fadef1a8",
       "version_major": 2,
       "version_minor": 0
      },
      "text/plain": [
       "Canvas(toolbar=Toolbar(toolitems=[('Home', 'Reset original view', 'home', 'home'), ('Back', 'Back to previous …"
      ]
     },
     "metadata": {},
     "output_type": "display_data"
    },
    {
     "data": {
      "text/plain": [
       "[<matplotlib.lines.Line2D at 0x2b30cf0350b8>]"
      ]
     },
     "execution_count": 2,
     "metadata": {},
     "output_type": "execute_result"
    }
   ],
   "source": [
    "%matplotlib widget\n",
    "import pylab as pl\n",
    "\n",
    "import pylab as pl\n",
    "pl.plot([0,1])"
   ]
  },
  {
   "cell_type": "code",
   "execution_count": 1,
   "metadata": {},
   "outputs": [],
   "source": [
    "import casatasks\n",
    "import casatools"
   ]
  },
  {
   "cell_type": "code",
   "execution_count": 2,
   "metadata": {},
   "outputs": [],
   "source": [
    "import casatools\n",
    "ia = casatools.image()"
   ]
  },
  {
   "cell_type": "code",
   "execution_count": 3,
   "metadata": {},
   "outputs": [
    {
     "name": "stderr",
     "output_type": "stream",
     "text": [
      "WARNING: AstropyDeprecationWarning: astropy.extern.six will be removed in 4.0, use the six module directly if it is still needed [astropy.extern.six]\n"
     ]
    }
   ],
   "source": [
    "import pyspeckit\n",
    "import spectral_cube\n",
    "from spectral_cube import SpectralCube"
   ]
  },
  {
   "cell_type": "code",
   "execution_count": 4,
   "metadata": {},
   "outputs": [
    {
     "name": "stdout",
     "output_type": "stream",
     "text": [
      "['/home/adamginsburg/.local/lib/python3.6/site-packages/spectral_cube']\n"
     ]
    }
   ],
   "source": [
    "import spectral_cube\n",
    "print(spectral_cube.__path__)"
   ]
  },
  {
   "cell_type": "markdown",
   "metadata": {},
   "source": [
    "%%bash\n",
    "fgrep casatools /home/adamginsburg/.local/lib/python3.6/site-packages/spectral_cube/io/*py"
   ]
  },
  {
   "cell_type": "markdown",
   "metadata": {},
   "source": [
    "%%bash\n",
    "rm -r /home/adamginsburg/.local/lib/python3.6/site-packages/spectral_cube"
   ]
  },
  {
   "cell_type": "markdown",
   "metadata": {},
   "source": [
    "import subprocess\n",
    "import sys\n",
    "subprocess.check_call([sys.executable, '-m', 'pip', 'install', '--editable', '--user', 'https://github.com/radio-astro-tools/spectral-cube/archive/master.zip'])"
   ]
  },
  {
   "cell_type": "markdown",
   "metadata": {},
   "source": [
    "import subprocess\n",
    "import sys\n",
    "subprocess.check_call([sys.executable, '-m', 'pip', 'install', '--editable', '--user', '/orange/adamginsburg/repos/spectral-cube'])"
   ]
  },
  {
   "cell_type": "markdown",
   "metadata": {},
   "source": [
    "%%bash\n",
    "pip install --user https://github.com/radio-astro-tools/spectral-cube/archive/master.zip"
   ]
  },
  {
   "cell_type": "markdown",
   "metadata": {},
   "source": [
    "%%bash\n",
    "cd /orange/adamginsburg/repos/spectral-cube\n",
    "python setup.py develop --user"
   ]
  },
  {
   "cell_type": "code",
   "execution_count": 5,
   "metadata": {},
   "outputs": [
    {
     "name": "stdout",
     "output_type": "stream",
     "text": [
      "/orange/adamginsburg/ALMA_IMF/2017.1.01355.L/imaging_results/n2hp_sep10\n"
     ]
    }
   ],
   "source": [
    "cd /orange/adamginsburg/ALMA_IMF/2017.1.01355.L/imaging_results/n2hp_sep10/"
   ]
  },
  {
   "cell_type": "code",
   "execution_count": 3,
   "metadata": {},
   "outputs": [
    {
     "name": "stdout",
     "output_type": "stream",
     "text": [
      "/orange/adamginsburg/ALMA_IMF/2017.1.01355.L/RestructuredImagingResults/W51-IRS2/B3/linecubes_12m\n"
     ]
    }
   ],
   "source": [
    "cd /orange/adamginsburg/ALMA_IMF/2017.1.01355.L/RestructuredImagingResults/W51-IRS2/B3/linecubes_12m/"
   ]
  },
  {
   "cell_type": "code",
   "execution_count": 4,
   "metadata": {},
   "outputs": [
    {
     "name": "stdout",
     "output_type": "stream",
     "text": [
      "\u001b[0m\u001b[01;36mW51-IRS2_B3_spw0_12M_n2hp.contsub.image\u001b[0m@  \u001b[01;36mW51-IRS2_B3_spw0_12M_n2hp.image\u001b[0m@\n"
     ]
    }
   ],
   "source": [
    "%ls -d *n2hp*image"
   ]
  },
  {
   "cell_type": "code",
   "execution_count": 6,
   "metadata": {},
   "outputs": [],
   "source": [
    "import spectral_cube\n",
    "from spectral_cube import SpectralCube"
   ]
  },
  {
   "cell_type": "code",
   "execution_count": 7,
   "metadata": {},
   "outputs": [
    {
     "name": "stderr",
     "output_type": "stream",
     "text": [
      "/home/adamginsburg/.local/lib/python3.6/site-packages/casa_formats_io/casa_dask.py:232: RuntimeWarning: divide by zero encountered in long_scalars\n",
      "  factors = [f for f in range(stacks[dim] + 1) if stacks[dim] % f == 0]\n",
      "WARNING: StokesWarning: Cube is a Stokes cube, returning spectral cube for I component [spectral_cube.io.core]\n",
      "/home/adamginsburg/.local/lib/python3.6/site-packages/casa_formats_io/casa_dask.py:232: RuntimeWarning: divide by zero encountered in long_scalars\n",
      "  factors = [f for f in range(stacks[dim] + 1) if stacks[dim] % f == 0]\n",
      "WARNING: BeamWarning: No beam information found in CASA image. [spectral_cube.io.casa_image]\n",
      "WARNING: StokesWarning: Cube is a Stokes cube, returning spectral cube for I component [spectral_cube.io.core]\n"
     ]
    }
   ],
   "source": [
    "imcube = cube = spectral_cube.SpectralCube.read('W51-IRS2_B3_spw0_12M_n2hp.image', format='casa_image')\n",
    "residcube =  spectral_cube.SpectralCube.read('W51-IRS2_B3_spw0_12M_n2hp.residual', format='casa_image')"
   ]
  },
  {
   "cell_type": "markdown",
   "metadata": {},
   "source": [
    "m0 = cube.moment0(axis=0)\n",
    "m0.quicklook()"
   ]
  },
  {
   "cell_type": "markdown",
   "metadata": {},
   "source": [
    "mx = cube.max(axis=0)\n",
    "mx.quicklook()"
   ]
  },
  {
   "cell_type": "markdown",
   "metadata": {},
   "source": [
    "pl.figure()\n",
    "m0.quicklook()"
   ]
  },
  {
   "cell_type": "code",
   "execution_count": 9,
   "metadata": {},
   "outputs": [],
   "source": [
    ">>> from glue_jupyter import jglue\n",
    ">>> app = jglue()"
   ]
  },
  {
   "cell_type": "code",
   "execution_count": 10,
   "metadata": {},
   "outputs": [],
   "source": [
    "from glue.plugins.data_factories.spectral_cube.spectral_cube import spectral_cube_to_data, coordinates_from_wcs\n",
    "from glue.core import Data"
   ]
  },
  {
   "cell_type": "code",
   "execution_count": 11,
   "metadata": {},
   "outputs": [
    {
     "data": {
      "text/plain": [
       "[Data (label: residcube)]"
      ]
     },
     "execution_count": 11,
     "metadata": {},
     "output_type": "execute_result"
    }
   ],
   "source": [
    "result = Data()\n",
    "result.coords = coordinates_from_wcs(cube.wcs)\n",
    "result.add_component(imcube.unmasked_data[...], label='n2hp_cube')\n",
    "app.add_data(imcube=result)\n",
    "result.add_component(residcube.unmasked_data[...], label='residual')\n",
    "app.add_data(residcube=result)"
   ]
  },
  {
   "cell_type": "code",
   "execution_count": 12,
   "metadata": {},
   "outputs": [
    {
     "data": {
      "application/vnd.jupyter.widget-view+json": {
       "model_id": "245a889af5c749478426663969fea307",
       "version_major": 2,
       "version_minor": 0
      },
      "text/plain": [
       "VBox(children=(HBox(children=(BasicJupyterToolbar(children=[ToggleButton(children=[Image(value=b'<?xml version…"
      ]
     },
     "metadata": {},
     "output_type": "display_data"
    }
   ],
   "source": [
    "imshow_widget = app.imshow(widget='matplotlib')"
   ]
  },
  {
   "cell_type": "code",
   "execution_count": 13,
   "metadata": {},
   "outputs": [
    {
     "data": {
      "application/vnd.jupyter.widget-view+json": {
       "model_id": "46aad11d58a14e75b32985d43258c13e",
       "version_major": 2,
       "version_minor": 0
      },
      "text/plain": [
       "VBox(children=(HTML(value='<style> .output_wrapper .ui-dialog-titlebar { display: none; } </style>'), Canvas(t…"
      ]
     },
     "metadata": {},
     "output_type": "display_data"
    }
   ],
   "source": [
    "imshow_widget.figure_widget"
   ]
  },
  {
   "cell_type": "code",
   "execution_count": 8,
   "metadata": {},
   "outputs": [
    {
     "data": {
      "text/plain": [
       "DaskVaryingResolutionSpectralCube with shape=(217, 2520, 2520) and unit=Jy / beam and chunk size (7, 630, 2520):\n",
       " n_x:   2520  type_x: RA---SIN  unit_x: deg    range:   290.886971 deg:  290.944802 deg\n",
       " n_y:   2520  type_y: DEC--SIN  unit_y: deg    range:    14.489637 deg:   14.545615 deg\n",
       " n_s:    217  type_s: FREQ      unit_s: Hz     range: 93148935933.332 Hz:93164376179.719 Hz"
      ]
     },
     "execution_count": 8,
     "metadata": {},
     "output_type": "execute_result"
    }
   ],
   "source": [
    "cube"
   ]
  },
  {
   "cell_type": "code",
   "execution_count": 15,
   "metadata": {},
   "outputs": [
    {
     "data": {
      "application/vnd.jupyter.widget-view+json": {
       "model_id": "b67d17e8eb124f4ba265ba20a0707683",
       "version_major": 2,
       "version_minor": 0
      },
      "text/plain": [
       "Canvas(toolbar=Toolbar(toolitems=[('Home', 'Reset original view', 'home', 'home'), ('Back', 'Back to previous …"
      ]
     },
     "metadata": {},
     "output_type": "display_data"
    },
    {
     "name": "stdout",
     "output_type": "stream",
     "text": [
      "INFO: Auto-setting vmin to -9.619e-03 [aplpy.core]\n",
      "INFO: Auto-setting vmax to  1.337e-02 [aplpy.core]\n"
     ]
    }
   ],
   "source": [
    "imcube[110].quicklook()"
   ]
  },
  {
   "cell_type": "code",
   "execution_count": 20,
   "metadata": {},
   "outputs": [
    {
     "name": "stderr",
     "output_type": "stream",
     "text": [
      "/orange/adamginsburg/repos/radio-beam/build/lib.linux-x86_64-3.6/radio_beam/multiple_beams.py:261: UserWarning: Do not use the average beam for convolution! Use the smallest common beam from `Beams.common_beam()`.\n",
      "  warnings.warn(\"Do not use the average beam for convolution! Use the\"\n",
      "WARNING: BeamAverageWarning: Arithmetic beam averaging is being performed.  This is not a mathematically robust operation, but is being permitted because the beams differ by <0.01 [spectral_cube.base_class]\n"
     ]
    }
   ],
   "source": [
    "cutout = imcube[:,600:1100,1300:1800].moment0(axis=0)"
   ]
  },
  {
   "cell_type": "code",
   "execution_count": 22,
   "metadata": {},
   "outputs": [
    {
     "data": {
      "application/vnd.jupyter.widget-view+json": {
       "model_id": "2c4bc325fe0842fdb815d1bc3f697b5a",
       "version_major": 2,
       "version_minor": 0
      },
      "text/plain": [
       "Canvas(toolbar=Toolbar(toolitems=[('Home', 'Reset original view', 'home', 'home'), ('Back', 'Back to previous …"
      ]
     },
     "metadata": {},
     "output_type": "display_data"
    },
    {
     "name": "stdout",
     "output_type": "stream",
     "text": [
      "INFO: Auto-setting vmin to -2.962e+04 [aplpy.core]\n",
      "INFO: Auto-setting vmax to  6.230e+04 [aplpy.core]\n"
     ]
    }
   ],
   "source": [
    "cutout.quicklook()"
   ]
  },
  {
   "cell_type": "code",
   "execution_count": 25,
   "metadata": {},
   "outputs": [],
   "source": [
    "imcube[:,600:1100,1300:1800].write('/orange/adamginsburg/web/secure/ALMA-IMF/n2hp/cutout_for_brian_2021_March_19.fits', overwrite=True)"
   ]
  },
  {
   "cell_type": "code",
   "execution_count": null,
   "metadata": {},
   "outputs": [],
   "source": []
  },
  {
   "cell_type": "code",
   "execution_count": null,
   "metadata": {},
   "outputs": [],
   "source": []
  }
 ],
 "metadata": {
  "kernelspec": {
   "display_name": "CASA6: Python 3.6",
   "language": "python",
   "name": "casa6_py36"
  },
  "language_info": {
   "codemirror_mode": {
    "name": "ipython",
    "version": 3
   },
   "file_extension": ".py",
   "mimetype": "text/x-python",
   "name": "python",
   "nbconvert_exporter": "python",
   "pygments_lexer": "ipython3",
   "version": "3.6.9"
  }
 },
 "nbformat": 4,
 "nbformat_minor": 4
}
