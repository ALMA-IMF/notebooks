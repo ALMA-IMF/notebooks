{
 "cells": [
  {
   "cell_type": "code",
   "execution_count": null,
   "metadata": {},
   "outputs": [],
   "source": [
    "print(\"Hi Luney\")"
   ]
  },
  {
   "cell_type": "code",
   "execution_count": 2,
   "metadata": {},
   "outputs": [
    {
     "name": "stdout",
     "output_type": "stream",
     "text": [
      "/orange/adamginsburg/ALMA_IMF/2017.1.01355.L/imaging_results\n"
     ]
    }
   ],
   "source": [
    "cd /orange/adamginsburg/ALMA_IMF/2017.1.01355.L/imaging_results/"
   ]
  },
  {
   "cell_type": "code",
   "execution_count": 4,
   "metadata": {},
   "outputs": [
    {
     "name": "stdout",
     "output_type": "stream",
     "text": [
      "W51-E_B3_spw0_12M_lines.image.fits\n",
      "W51-E_B3_spw1_12M_lines.contsub.image.fits\n",
      "W51-E_B3_spw1_12M_lines.image.fits\n",
      "W51-E_B3_spw2_12M_lines.image.fits\n",
      "W51-E_B3_spw3_12M_lines.image.fits\n",
      "W51-E_B6_spw0_12M_lines.contsub.image.fits\n",
      "W51-E_B6_spw0_12M_lines.image.fits\n",
      "W51-E_B6_spw1_12M_lines.contsub.image.fits\n",
      "W51-E_B6_spw1_12M_lines.image.fits\n",
      "W51-E_B6_spw2_12M_lines.contsub.image.fits\n",
      "W51-E_B6_spw2_12M_lines.image.fits\n",
      "W51-E_B6_spw3_12M_lines.contsub.image.fits\n",
      "W51-E_B6_spw3_12M_lines.image.fits\n",
      "W51-E_B6_spw4_12M_lines.contsub.image.fits\n",
      "W51-E_B6_spw4_12M_lines.image.fits\n",
      "W51-E_B6_spw5_12M_lines.contsub.image.fits\n",
      "W51-E_B6_spw5_12M_lines.image.fits\n",
      "W51-E_B6_spw6_12M_lines.contsub.image.fits\n",
      "W51-E_B6_spw6_12M_lines.image.fits\n",
      "W51-E_B6_spw7_12M_lines.contsub.image.fits\n",
      "W51-E_B6_spw7_12M_lines.image.fits\n"
     ]
    }
   ],
   "source": [
    "%ls *line*image.fits"
   ]
  },
  {
   "cell_type": "code",
   "execution_count": 7,
   "metadata": {},
   "outputs": [],
   "source": [
    "from spectral_cube import SpectralCube"
   ]
  },
  {
   "cell_type": "code",
   "execution_count": 8,
   "metadata": {},
   "outputs": [
    {
     "name": "stderr",
     "output_type": "stream",
     "text": [
      "WARNING: StokesWarning: Cube is a Stokes cube, returning spectral cube for I component [spectral_cube.spectral_cube]\n"
     ]
    }
   ],
   "source": [
    "cube = SpectralCube.read('W51-E_B6_spw0_12M_lines.image.fits')"
   ]
  },
  {
   "cell_type": "code",
   "execution_count": 14,
   "metadata": {},
   "outputs": [],
   "source": [
    "%%bash\n",
    "ls spectra"
   ]
  },
  {
   "cell_type": "code",
   "execution_count": null,
   "metadata": {},
   "outputs": [
    {
     "name": "stderr",
     "output_type": "stream",
     "text": [
      "/home/adamginsburg/.local/lib/python3.6/site-packages/radio_beam/multiple_beams.py:261: UserWarning: Do not use the average beam for convolution! Use the smallest common beam from `Beams.common_beam()`.\n",
      "  warnings.warn(\"Do not use the average beam for convolution! Use the\"\n",
      "WARNING: BeamAverageWarning: Arithmetic beam averaging is being performed.  This is not a mathematically robust operation, but is being permitted because the beams differ by <0.5 [spectral_cube.base_class]\n",
      "/apps/python3/3.6.5/lib/python3.6/site-packages/numpy/lib/nanfunctions.py:994: RuntimeWarning: All-NaN slice encountered\n",
      "  result = np.apply_along_axis(_nanmedian1d, axis, a, overwrite_input)\n"
     ]
    }
   ],
   "source": [
    "cube.beam_threshold = 0.5\n",
    "cube = cube.mask_out_bad_beams(0.1)\n",
    "cube.beam_threshold = 0.5\n",
    "medspec = cube.median(axis=0)\n",
    "medspec.quicklook()"
   ]
  },
  {
   "cell_type": "code",
   "execution_count": null,
   "metadata": {},
   "outputs": [],
   "source": [
    "#cube.beam_threshold = 0.5\n",
    "#cube = cube.mask_out_bad_beams(0.1)\n",
    "#cube.beam_threshold = 0.5\n",
    "medspec = cube.median(axis=(1,2))\n",
    "medspec.quicklook()"
   ]
  },
  {
   "cell_type": "code",
   "execution_count": null,
   "metadata": {},
   "outputs": [],
   "source": [
    "cube.beams"
   ]
  },
  {
   "cell_type": "code",
   "execution_count": null,
   "metadata": {},
   "outputs": [],
   "source": [
    "medspec.write(\"spectra/W51-E_B6_spw0_12M_lines.image.medspec.fits\")"
   ]
  },
  {
   "cell_type": "code",
   "execution_count": null,
   "metadata": {},
   "outputs": [],
   "source": []
  }
 ],
 "metadata": {
  "kernelspec": {
   "display_name": "CASA6: Python 3.6",
   "language": "python",
   "name": "casa6_py36"
  },
  "language_info": {
   "codemirror_mode": {
    "name": "ipython",
    "version": 3
   },
   "file_extension": ".py",
   "mimetype": "text/x-python",
   "name": "python",
   "nbconvert_exporter": "python",
   "pygments_lexer": "ipython3",
   "version": "3.6.9"
  }
 },
 "nbformat": 4,
 "nbformat_minor": 4
}
