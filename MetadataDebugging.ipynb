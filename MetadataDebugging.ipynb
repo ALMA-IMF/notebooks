{
 "cells": [
  {
   "cell_type": "code",
   "execution_count": 1,
   "metadata": {},
   "outputs": [],
   "source": [
    "import os\n",
    "#from casatools import msmdtool\n",
    "from casatools import quanta as qatool, table as tbtool, msmetadata as msmdtool, synthesisutils, ms as mstool\n",
    "msmd = msmdtool()\n",
    "tb = tbtool()"
   ]
  },
  {
   "cell_type": "code",
   "execution_count": 2,
   "metadata": {},
   "outputs": [],
   "source": [
    "from casatasks import casalog\n",
    "import casatools"
   ]
  },
  {
   "cell_type": "code",
   "execution_count": 3,
   "metadata": {},
   "outputs": [],
   "source": [
    "from casatasks import clearstat"
   ]
  },
  {
   "cell_type": "code",
   "execution_count": 4,
   "metadata": {},
   "outputs": [],
   "source": [
    "clearstat()"
   ]
  },
  {
   "cell_type": "code",
   "execution_count": 5,
   "metadata": {},
   "outputs": [
    {
     "data": {
      "text/plain": [
       "'/lustre/lard/projects/ALMA_IMF/2017.1.01355.L/imaging_results/notebooks/casa-20190722-161314.log'"
      ]
     },
     "execution_count": 5,
     "metadata": {},
     "output_type": "execute_result"
    }
   ],
   "source": [
    "casalog.logfile()"
   ]
  },
  {
   "cell_type": "code",
   "execution_count": 6,
   "metadata": {},
   "outputs": [],
   "source": [
    "os.chdir('/lustre/cv/projects/ALMA_IMF/2017.1.01355.L')"
   ]
  },
  {
   "cell_type": "code",
   "execution_count": 21,
   "metadata": {},
   "outputs": [
    {
     "name": "stdout",
     "output_type": "stream",
     "text": [
      "successes: 137 failures: 0 nremoved table locks: 137\n"
     ]
    }
   ],
   "source": [
    "msmd.close()\n",
    "clearstat()\n",
    "successes = []\n",
    "failures = {}\n",
    "nremoved = 0\n",
    "for dirpath, dirnames, filenames in os.walk('.'):\n",
    "    for fn in dirnames:\n",
    "        if (fn.endswith('ms') or fn.endswith('split')) and os.path.exists(os.path.join(dirpath, fn, \"ANTENNA\")):\n",
    "            clearstat()\n",
    "            tb.clearlocks()\n",
    "            ffn = os.path.join(dirpath, fn)\n",
    "            assert os.path.exists(os.path.join(ffn, 'ANTENNA'))\n",
    "            if os.path.exists(os.path.join(ffn, \"table.lock\")):\n",
    "                #os.remove(os.path.join(ffn, \"table.lock\"))\n",
    "                nremoved += 1\n",
    "            try:\n",
    "                tb.open(ffn)\n",
    "                successes.append(ffn)\n",
    "            except Exception as E:\n",
    "                #print(os.path.join(dirpath, fn))\n",
    "                failures[ffn] = str(E)\n",
    "            finally:\n",
    "                #msmd.close()\n",
    "                tb.close()\n",
    "                \n",
    "print(f\"successes: {len(successes)} failures: {len(failures)} nremoved table locks: {nremoved}\")"
   ]
  },
  {
   "cell_type": "code",
   "execution_count": 10,
   "metadata": {},
   "outputs": [
    {
     "name": "stdout",
     "output_type": "stream",
     "text": [
      "removed 199 lockfiles\n"
     ]
    }
   ],
   "source": [
    "nremoved = 0\n",
    "for dirpath, dirnames, filenames in os.walk('.'):\n",
    "    for fn in dirnames:\n",
    "        if fn.endswith('ms') or fn.endswith('split') and os.path.exists(os.path.join(dirpath, fn, \"ANTENNA\")):\n",
    "            clearstat()\n",
    "            ffn = os.path.join(dirpath, fn)\n",
    "            if os.path.exists(os.path.join(ffn, \"table.lock\")):\n",
    "                #os.remove(os.path.join(ffn, \"table.lock\"))\n",
    "                nremoved += 1\n",
    "print(f\"removed {nremoved} lockfiles\")"
   ]
  },
  {
   "cell_type": "code",
   "execution_count": 19,
   "metadata": {},
   "outputs": [],
   "source": [
    "import shutil"
   ]
  },
  {
   "cell_type": "code",
   "execution_count": 20,
   "metadata": {},
   "outputs": [
    {
     "name": "stdout",
     "output_type": "stream",
     "text": [
      "./science_goal.uid___A001_X1296_X105/group.uid___A001_X1296_X106/member.uid___A001_X1296_X109/calibrated/W51-E_B3_uid___A001_X1296_X109_continuum_merged.cal.ms\n",
      "./science_goal.uid___A001_X1296_X105/group.uid___A001_X1296_X106/member.uid___A001_X1296_X109/calibrated/W51-E_B3_uid___A001_X1296_X109_continuum_merged_7M.cal.ms\n",
      "./science_goal.uid___A001_X1296_X105/group.uid___A001_X1296_X106/member.uid___A001_X1296_X109/calibrated/W51-E_B3_uid___A001_X1296_X109_continuum_merged_12M.cal.ms\n",
      "./science_goal.uid___A001_X1296_X105/group.uid___A001_X1296_X106/member.uid___A001_X1296_X109/calibrated/uid___A002_Xcc626d_Xb34f_W51-E_B3_spw2.split\n",
      "./science_goal.uid___A001_X1296_X105/group.uid___A001_X1296_X106/member.uid___A001_X1296_X109/calibrated/W51-E_B3_uid___A001_X1296_X109_continuum_merged_bsens.cal.ms\n",
      "./science_goal.uid___A001_X1296_X105/group.uid___A001_X1296_X106/member.uid___A001_X1296_X109/calibrated/uid___A002_Xcc626d_Xb34f_W51-E_B3_spw0.split\n",
      "./science_goal.uid___A001_X1296_X105/group.uid___A001_X1296_X106/member.uid___A001_X1296_X109/calibrated/uid___A002_Xcc626d_Xb34f_W51-E_B3_spw3.split\n",
      "./science_goal.uid___A001_X1296_X105/group.uid___A001_X1296_X106/member.uid___A001_X1296_X109/calibrated/uid___A002_Xcc626d_Xb34f_W51-E_B3_spw1.split\n",
      "./science_goal.uid___A001_X1296_X105/group.uid___A001_X1296_X106/member.uid___A001_X1296_X107/calibrated/uid___A002_Xc8592e_X71c2_W51-E_B3_spw0.split\n",
      "./science_goal.uid___A001_X1296_X105/group.uid___A001_X1296_X106/member.uid___A001_X1296_X107/calibrated/uid___A002_Xc75eba_X4f72_W51-E_B3_spw1.split\n",
      "./science_goal.uid___A001_X1296_X105/group.uid___A001_X1296_X106/member.uid___A001_X1296_X107/calibrated/uid___A002_Xc77d4f_X370b_W51-E_B3_spw3.split\n",
      "./science_goal.uid___A001_X1296_X105/group.uid___A001_X1296_X106/member.uid___A001_X1296_X107/calibrated/uid___A002_Xc7cf4e_X57f0_W51-E_B3_spw3.split\n",
      "./science_goal.uid___A001_X1296_X105/group.uid___A001_X1296_X106/member.uid___A001_X1296_X107/calibrated/uid___A002_Xc8592e_X7966_W51-E_B3_spw0.split\n",
      "./science_goal.uid___A001_X1296_X105/group.uid___A001_X1296_X106/member.uid___A001_X1296_X107/calibrated/uid___A002_Xc75eba_X4f72_W51-E_B3_spw2.split\n",
      "./science_goal.uid___A001_X1296_X105/group.uid___A001_X1296_X106/member.uid___A001_X1296_X107/calibrated/uid___A002_Xc77d4f_X370b_W51-E_B3_spw2.split\n",
      "./science_goal.uid___A001_X1296_X105/group.uid___A001_X1296_X106/member.uid___A001_X1296_X107/calibrated/uid___A002_Xc7cf4e_X57f0_W51-E_B3_spw1.split\n",
      "./science_goal.uid___A001_X1296_X105/group.uid___A001_X1296_X106/member.uid___A001_X1296_X107/calibrated/uid___A002_Xc8592e_X7966_W51-E_B3_spw1.split\n",
      "./science_goal.uid___A001_X1296_X105/group.uid___A001_X1296_X106/member.uid___A001_X1296_X107/calibrated/uid___A002_Xc8592e_X71c2_W51-E_B3_spw1.split\n",
      "./science_goal.uid___A001_X1296_X105/group.uid___A001_X1296_X106/member.uid___A001_X1296_X107/calibrated/uid___A002_Xc7cf4e_X57f0_W51-E_B3_spw0.split\n",
      "./science_goal.uid___A001_X1296_X105/group.uid___A001_X1296_X106/member.uid___A001_X1296_X107/calibrated/uid___A002_Xc8592e_X71c2_W51-E_B3_spw2.split\n",
      "./science_goal.uid___A001_X1296_X105/group.uid___A001_X1296_X106/member.uid___A001_X1296_X107/calibrated/uid___A002_Xc75eba_X4f72_W51-E_B3_spw3.split\n",
      "./science_goal.uid___A001_X1296_X105/group.uid___A001_X1296_X106/member.uid___A001_X1296_X107/calibrated/uid___A002_Xc77d4f_X370b_W51-E_B3_spw1.split\n",
      "./science_goal.uid___A001_X1296_X105/group.uid___A001_X1296_X106/member.uid___A001_X1296_X107/calibrated/uid___A002_Xc7e4e4_X37e3_W51-E_B3_spw1.split\n",
      "./science_goal.uid___A001_X1296_X105/group.uid___A001_X1296_X106/member.uid___A001_X1296_X107/calibrated/uid___A002_Xc8592e_X7966_W51-E_B3_spw3.split\n",
      "./science_goal.uid___A001_X1296_X105/group.uid___A001_X1296_X106/member.uid___A001_X1296_X107/calibrated/uid___A002_Xc8592e_X7966_W51-E_B3_spw2.split\n",
      "./science_goal.uid___A001_X1296_X105/group.uid___A001_X1296_X106/member.uid___A001_X1296_X107/calibrated/uid___A002_Xc7e4e4_X37e3_W51-E_B3_spw3.split\n",
      "./science_goal.uid___A001_X1296_X105/group.uid___A001_X1296_X106/member.uid___A001_X1296_X107/calibrated/uid___A002_Xc8592e_X71c2_W51-E_B3_spw3.split\n",
      "./science_goal.uid___A001_X1296_X105/group.uid___A001_X1296_X106/member.uid___A001_X1296_X107/calibrated/uid___A002_Xc7e4e4_X37e3_W51-E_B3_spw0.split\n",
      "./science_goal.uid___A001_X1296_X105/group.uid___A001_X1296_X106/member.uid___A001_X1296_X107/calibrated/uid___A002_Xc7cf4e_X57f0_W51-E_B3_spw2.split\n",
      "./science_goal.uid___A001_X1296_X105/group.uid___A001_X1296_X106/member.uid___A001_X1296_X107/calibrated/uid___A002_Xc7e4e4_X37e3_W51-E_B3_spw2.split\n",
      "./science_goal.uid___A001_X1296_X105/group.uid___A001_X1296_X106/member.uid___A001_X1296_X107/calibrated/uid___A002_Xc75eba_X4f72_W51-E_B3_spw0.split\n",
      "./science_goal.uid___A001_X1296_X105/group.uid___A001_X1296_X106/member.uid___A001_X1296_X107/calibrated/uid___A002_Xc77d4f_X370b_W51-E_B3_spw0.split\n",
      "./science_goal.uid___A001_X1296_X105/group.uid___A001_X1296_X106/member.uid___A001_X1296_X107/calibrated/W51-E_B3_uid___A001_X1296_X107_continuum_merged_bsens.cal.ms\n",
      "./science_goal.uid___A001_X1296_X105/group.uid___A001_X1296_X106/member.uid___A001_X1296_X107/calibrated/W51-E_B3_uid___A001_X1296_X107_continuum_merged.cal.ms\n",
      "./science_goal.uid___A001_X1296_X211/group.uid___A001_X1296_X212/member.uid___A001_X1296_X215/calibrated/uid___A002_Xcf0c6b_X4bbc_W51-E_B6_spw7.split\n",
      "./science_goal.uid___A001_X1296_X211/group.uid___A001_X1296_X212/member.uid___A001_X1296_X215/calibrated/uid___A002_Xcf0c6b_X4bbc_W51-E_B6_spw6.split\n",
      "./science_goal.uid___A001_X1296_X211/group.uid___A001_X1296_X212/member.uid___A001_X1296_X215/calibrated/uid___A002_Xcf0c6b_X4bbc_W51-E_B6_spw3.split\n",
      "./science_goal.uid___A001_X1296_X211/group.uid___A001_X1296_X212/member.uid___A001_X1296_X215/calibrated/uid___A002_Xcf0c6b_X4bbc_W51-E_B6_spw0.split\n",
      "./science_goal.uid___A001_X1296_X211/group.uid___A001_X1296_X212/member.uid___A001_X1296_X215/calibrated/uid___A002_Xcf0c6b_X4bbc_W51-E_B6_spw2.split\n",
      "./science_goal.uid___A001_X1296_X211/group.uid___A001_X1296_X212/member.uid___A001_X1296_X215/calibrated/uid___A002_Xcf0c6b_X4bbc_W51-E_B6_spw5.split\n",
      "./science_goal.uid___A001_X1296_X211/group.uid___A001_X1296_X212/member.uid___A001_X1296_X215/calibrated/uid___A002_Xcf0c6b_X4bbc_W51-E_B6_spw4.split\n",
      "./science_goal.uid___A001_X1296_X211/group.uid___A001_X1296_X212/member.uid___A001_X1296_X213/calibrated/uid___A002_Xc96463_X6519_W51-E_B6_spw0.split\n",
      "./science_goal.uid___A001_X1296_X211/group.uid___A001_X1296_X212/member.uid___A001_X1296_X213/calibrated/uid___A002_Xc96463_X6519_W51-E_B6_spw5.split\n",
      "./science_goal.uid___A001_X1296_X211/group.uid___A001_X1296_X212/member.uid___A001_X1296_X213/calibrated/uid___A002_Xc96f17_X6e3d_W51-E_B6_spw2.split\n",
      "./science_goal.uid___A001_X1296_X211/group.uid___A001_X1296_X212/member.uid___A001_X1296_X213/calibrated/uid___A002_Xc96f17_X6e3d_W51-E_B6_spw6.split\n",
      "./science_goal.uid___A001_X1296_X211/group.uid___A001_X1296_X212/member.uid___A001_X1296_X213/calibrated/uid___A002_Xc96f17_X6e3d_W51-E_B6_spw0.split\n",
      "./science_goal.uid___A001_X1296_X211/group.uid___A001_X1296_X212/member.uid___A001_X1296_X213/calibrated/uid___A002_Xc96f17_X6e3d_W51-E_B6_spw7.split\n",
      "./science_goal.uid___A001_X1296_X211/group.uid___A001_X1296_X212/member.uid___A001_X1296_X213/calibrated/uid___A002_Xc96463_X6519_W51-E_B6_spw3.split\n",
      "./science_goal.uid___A001_X1296_X211/group.uid___A001_X1296_X212/member.uid___A001_X1296_X213/calibrated/uid___A002_Xc96463_X6519_W51-E_B6_spw2.split\n",
      "./science_goal.uid___A001_X1296_X211/group.uid___A001_X1296_X212/member.uid___A001_X1296_X213/calibrated/uid___A002_Xc96463_X6519_W51-E_B6_spw4.split\n",
      "./science_goal.uid___A001_X1296_X211/group.uid___A001_X1296_X212/member.uid___A001_X1296_X213/calibrated/uid___A002_Xc96463_X6519_W51-E_B6_spw6.split\n",
      "./science_goal.uid___A001_X1296_X211/group.uid___A001_X1296_X212/member.uid___A001_X1296_X213/calibrated/uid___A002_Xc96f17_X6e3d_W51-E_B6_spw4.split\n",
      "./science_goal.uid___A001_X1296_X211/group.uid___A001_X1296_X212/member.uid___A001_X1296_X213/calibrated/uid___A002_Xc96f17_X6e3d_W51-E_B6_spw5.split\n",
      "./science_goal.uid___A001_X1296_X211/group.uid___A001_X1296_X212/member.uid___A001_X1296_X213/calibrated/uid___A002_Xc96f17_X6e3d_W51-E_B6_spw1.split\n",
      "./science_goal.uid___A001_X1296_X211/group.uid___A001_X1296_X212/member.uid___A001_X1296_X213/calibrated/uid___A002_Xc96463_X6519_W51-E_B6_spw1.split\n",
      "./science_goal.uid___A001_X1296_X211/group.uid___A001_X1296_X212/member.uid___A001_X1296_X213/calibrated/uid___A002_Xc96463_X6519_W51-E_B6_spw7.split\n",
      "./science_goal.uid___A001_X1296_X211/group.uid___A001_X1296_X212/member.uid___A001_X1296_X213/calibrated/uid___A002_Xc96f17_X6e3d_W51-E_B6_spw3.split\n",
      "./science_goal.uid___A001_X1296_X211/group.uid___A001_X1296_X212/member.uid___A001_X1296_X217/calibrated/W51-E_B6_uid___A001_X1296_X217_continuum_merged.cal.ms\n",
      "./science_goal.uid___A001_X1296_X211/group.uid___A001_X1296_X212/member.uid___A001_X1296_X217/calibrated/W51-E_B6_uid___A001_X1296_X217_continuum_merged_12M.cal.ms\n",
      "./science_goal.uid___A001_X1296_X211/group.uid___A001_X1296_X212/member.uid___A001_X1296_X217/calibrated/W51-E_B6_uid___A001_X1296_X217_continuum_merged_7M.cal.ms\n",
      "./science_goal.uid___A001_X1296_X211/group.uid___A001_X1296_X212/member.uid___A001_X1296_X217/calibrated/W51-E_B6_uid___A001_X1296_X217_continuum_merged_bsens.cal.ms\n"
     ]
    }
   ],
   "source": [
    "for filename, exception in failures.items():\n",
    "    if \"expected 0\" in exception  and \"DataManager error\" in exception:\n",
    "        print(filename)\n",
    "        shutil.rmtree(filename)"
   ]
  },
  {
   "cell_type": "code",
   "execution_count": 16,
   "metadata": {},
   "outputs": [
    {
     "ename": "RuntimeError",
     "evalue": "Table DataManager error: Internal error: TiledStMan::headerFileGet: mismatch in #row; expected 0, found 2884620",
     "output_type": "error",
     "traceback": [
      "\u001b[0;31m---------------------------------------------------------------------------\u001b[0m",
      "\u001b[0;31mRuntimeError\u001b[0m                              Traceback (most recent call last)",
      "\u001b[0;32m<ipython-input-16-c2c36a10e5bb>\u001b[0m in \u001b[0;36m<module>\u001b[0;34m\u001b[0m\n\u001b[0;32m----> 1\u001b[0;31m \u001b[0mtb\u001b[0m\u001b[0;34m.\u001b[0m\u001b[0mopen\u001b[0m\u001b[0;34m(\u001b[0m\u001b[0mfailures\u001b[0m\u001b[0;34m[\u001b[0m\u001b[0;36m0\u001b[0m\u001b[0;34m]\u001b[0m\u001b[0;34m)\u001b[0m\u001b[0;34m\u001b[0m\u001b[0;34m\u001b[0m\u001b[0m\n\u001b[0m",
      "\u001b[0;32m/lustre/naasc/users/aginsbur/anaconda/lib/python3.6/site-packages/casatools/table.py\u001b[0m in \u001b[0;36mopen\u001b[0;34m(self, tablename, lockoptions, nomodify)\u001b[0m\n\u001b[1;32m    316\u001b[0m         \u001b[0mdoc\u001b[0m \u001b[0;34m=\u001b[0m \u001b[0;34m{\u001b[0m\u001b[0;34m'tablename'\u001b[0m\u001b[0;34m:\u001b[0m \u001b[0mtablename\u001b[0m\u001b[0;34m,\u001b[0m \u001b[0;34m'lockoptions'\u001b[0m\u001b[0;34m:\u001b[0m \u001b[0mlockoptions\u001b[0m\u001b[0;34m,\u001b[0m \u001b[0;34m'nomodify'\u001b[0m\u001b[0;34m:\u001b[0m \u001b[0mnomodify\u001b[0m\u001b[0;34m}\u001b[0m\u001b[0;34m\u001b[0m\u001b[0;34m\u001b[0m\u001b[0m\n\u001b[1;32m    317\u001b[0m         \u001b[0;32massert\u001b[0m \u001b[0m_pc\u001b[0m\u001b[0;34m.\u001b[0m\u001b[0mvalidate\u001b[0m\u001b[0;34m(\u001b[0m\u001b[0mdoc\u001b[0m\u001b[0;34m,\u001b[0m\u001b[0mschema\u001b[0m\u001b[0;34m)\u001b[0m\u001b[0;34m,\u001b[0m \u001b[0mstr\u001b[0m\u001b[0;34m(\u001b[0m\u001b[0m_pc\u001b[0m\u001b[0;34m.\u001b[0m\u001b[0merrors\u001b[0m\u001b[0;34m)\u001b[0m\u001b[0;34m\u001b[0m\u001b[0;34m\u001b[0m\u001b[0m\n\u001b[0;32m--> 318\u001b[0;31m         \u001b[0m_open_result\u001b[0m \u001b[0;34m=\u001b[0m \u001b[0mself\u001b[0m\u001b[0;34m.\u001b[0m\u001b[0m_swigobj\u001b[0m\u001b[0;34m.\u001b[0m\u001b[0mopen\u001b[0m\u001b[0;34m(\u001b[0m\u001b[0m_str_ec\u001b[0m\u001b[0;34m(\u001b[0m\u001b[0m_pc\u001b[0m\u001b[0;34m.\u001b[0m\u001b[0mdocument\u001b[0m\u001b[0;34m[\u001b[0m\u001b[0;34m'tablename'\u001b[0m\u001b[0;34m]\u001b[0m\u001b[0;34m)\u001b[0m\u001b[0;34m,\u001b[0m \u001b[0m_dict_ec\u001b[0m\u001b[0;34m(\u001b[0m\u001b[0m_pc\u001b[0m\u001b[0;34m.\u001b[0m\u001b[0mdocument\u001b[0m\u001b[0;34m[\u001b[0m\u001b[0;34m'lockoptions'\u001b[0m\u001b[0;34m]\u001b[0m\u001b[0;34m)\u001b[0m\u001b[0;34m,\u001b[0m \u001b[0m_pc\u001b[0m\u001b[0;34m.\u001b[0m\u001b[0mdocument\u001b[0m\u001b[0;34m[\u001b[0m\u001b[0;34m'nomodify'\u001b[0m\u001b[0;34m]\u001b[0m\u001b[0;34m)\u001b[0m\u001b[0;34m\u001b[0m\u001b[0;34m\u001b[0m\u001b[0m\n\u001b[0m\u001b[1;32m    319\u001b[0m         \u001b[0;32mreturn\u001b[0m \u001b[0m_open_result\u001b[0m\u001b[0;34m\u001b[0m\u001b[0;34m\u001b[0m\u001b[0m\n\u001b[1;32m    320\u001b[0m \u001b[0;34m\u001b[0m\u001b[0m\n",
      "\u001b[0;32m/lustre/naasc/users/aginsbur/anaconda/lib/python3.6/site-packages/casatools/__casac__/table.py\u001b[0m in \u001b[0;36mopen\u001b[0;34m(self, *args, **kwargs)\u001b[0m\n\u001b[1;32m    444\u001b[0m \u001b[0;34m\u001b[0m\u001b[0m\n\u001b[1;32m    445\u001b[0m         \"\"\"\n\u001b[0;32m--> 446\u001b[0;31m         \u001b[0;32mreturn\u001b[0m \u001b[0m_table\u001b[0m\u001b[0;34m.\u001b[0m\u001b[0mtable_open\u001b[0m\u001b[0;34m(\u001b[0m\u001b[0mself\u001b[0m\u001b[0;34m,\u001b[0m \u001b[0;34m*\u001b[0m\u001b[0margs\u001b[0m\u001b[0;34m,\u001b[0m \u001b[0;34m**\u001b[0m\u001b[0mkwargs\u001b[0m\u001b[0;34m)\u001b[0m\u001b[0;34m\u001b[0m\u001b[0;34m\u001b[0m\u001b[0m\n\u001b[0m\u001b[1;32m    447\u001b[0m \u001b[0;34m\u001b[0m\u001b[0m\n\u001b[1;32m    448\u001b[0m \u001b[0;34m\u001b[0m\u001b[0m\n",
      "\u001b[0;31mRuntimeError\u001b[0m: Table DataManager error: Internal error: TiledStMan::headerFileGet: mismatch in #row; expected 0, found 2884620"
     ]
    }
   ],
   "source": [
    "tb.open(failures[0])"
   ]
  },
  {
   "cell_type": "code",
   "execution_count": 8,
   "metadata": {},
   "outputs": [
    {
     "data": {
      "text/plain": [
       "True"
      ]
     },
     "execution_count": 8,
     "metadata": {},
     "output_type": "execute_result"
    }
   ],
   "source": [
    "tb.open('W51-E_B3_uid___A001_X1296_X109_continuum_merged_7M_selfcal.ms/HISTORY')"
   ]
  },
  {
   "cell_type": "code",
   "execution_count": 53,
   "metadata": {},
   "outputs": [
    {
     "data": {
      "text/plain": [
       "False"
      ]
     },
     "execution_count": 53,
     "metadata": {},
     "output_type": "execute_result"
    }
   ],
   "source": [
    "tb.clearlocks()\n",
    "tb.unlock()"
   ]
  },
  {
   "cell_type": "code",
   "execution_count": null,
   "metadata": {},
   "outputs": [],
   "source": [
    "ls W51-E_B3_uid___A001_X1296_X109_continuum_merged_7M_selfcal.ms/table.lock"
   ]
  },
  {
   "cell_type": "code",
   "execution_count": 7,
   "metadata": {},
   "outputs": [
    {
     "ename": "RuntimeError",
     "evalue": "Table /lustre/cv/projects/ALMA_IMF/2017.1.01355.L/science_goal.uid___A001_X1296_X211/group.uid___A001_X1296_X212/member.uid___A001_X1296_X215/calibrated/uid___A002_Xcf0c6b_X4bbc_W51-E_B6_spw1.split does not exist",
     "output_type": "error",
     "traceback": [
      "\u001b[0;31m---------------------------------------------------------------------------\u001b[0m",
      "\u001b[0;31mRuntimeError\u001b[0m                              Traceback (most recent call last)",
      "\u001b[0;32m<ipython-input-7-4ab16c4b294d>\u001b[0m in \u001b[0;36m<module>\u001b[0;34m\u001b[0m\n\u001b[0;32m----> 1\u001b[0;31m \u001b[0mmsmd\u001b[0m\u001b[0;34m.\u001b[0m\u001b[0mopen\u001b[0m\u001b[0;34m(\u001b[0m\u001b[0;34m'./science_goal.uid___A001_X1296_X211/group.uid___A001_X1296_X212/member.uid___A001_X1296_X215/calibrated/uid___A002_Xcf0c6b_X4bbc_W51-E_B6_spw1.split'\u001b[0m\u001b[0;34m)\u001b[0m\u001b[0;34m\u001b[0m\u001b[0;34m\u001b[0m\u001b[0m\n\u001b[0m",
      "\u001b[0;32m/lustre/naasc/users/aginsbur/anaconda/lib/python3.6/site-packages/casatools/msmetadata.py\u001b[0m in \u001b[0;36mopen\u001b[0;34m(self, msfile, maxcache)\u001b[0m\n\u001b[1;32m    603\u001b[0m         \u001b[0mdoc\u001b[0m \u001b[0;34m=\u001b[0m \u001b[0;34m{\u001b[0m\u001b[0;34m'msfile'\u001b[0m\u001b[0;34m:\u001b[0m \u001b[0mmsfile\u001b[0m\u001b[0;34m,\u001b[0m \u001b[0;34m'maxcache'\u001b[0m\u001b[0;34m:\u001b[0m \u001b[0mmaxcache\u001b[0m\u001b[0;34m}\u001b[0m\u001b[0;34m\u001b[0m\u001b[0;34m\u001b[0m\u001b[0m\n\u001b[1;32m    604\u001b[0m         \u001b[0;32massert\u001b[0m \u001b[0m_pc\u001b[0m\u001b[0;34m.\u001b[0m\u001b[0mvalidate\u001b[0m\u001b[0;34m(\u001b[0m\u001b[0mdoc\u001b[0m\u001b[0;34m,\u001b[0m\u001b[0mschema\u001b[0m\u001b[0;34m)\u001b[0m\u001b[0;34m,\u001b[0m \u001b[0mstr\u001b[0m\u001b[0;34m(\u001b[0m\u001b[0m_pc\u001b[0m\u001b[0;34m.\u001b[0m\u001b[0merrors\u001b[0m\u001b[0;34m)\u001b[0m\u001b[0;34m\u001b[0m\u001b[0;34m\u001b[0m\u001b[0m\n\u001b[0;32m--> 605\u001b[0;31m         \u001b[0m_open_result\u001b[0m \u001b[0;34m=\u001b[0m \u001b[0mself\u001b[0m\u001b[0;34m.\u001b[0m\u001b[0m_swigobj\u001b[0m\u001b[0;34m.\u001b[0m\u001b[0mopen\u001b[0m\u001b[0;34m(\u001b[0m\u001b[0m_str_ec\u001b[0m\u001b[0;34m(\u001b[0m\u001b[0m_pc\u001b[0m\u001b[0;34m.\u001b[0m\u001b[0mdocument\u001b[0m\u001b[0;34m[\u001b[0m\u001b[0;34m'msfile'\u001b[0m\u001b[0;34m]\u001b[0m\u001b[0;34m)\u001b[0m\u001b[0;34m,\u001b[0m \u001b[0m_pc\u001b[0m\u001b[0;34m.\u001b[0m\u001b[0mdocument\u001b[0m\u001b[0;34m[\u001b[0m\u001b[0;34m'maxcache'\u001b[0m\u001b[0;34m]\u001b[0m\u001b[0;34m)\u001b[0m\u001b[0;34m\u001b[0m\u001b[0;34m\u001b[0m\u001b[0m\n\u001b[0m\u001b[1;32m    606\u001b[0m         \u001b[0;32mreturn\u001b[0m \u001b[0m_open_result\u001b[0m\u001b[0;34m\u001b[0m\u001b[0;34m\u001b[0m\u001b[0m\n\u001b[1;32m    607\u001b[0m \u001b[0;34m\u001b[0m\u001b[0m\n",
      "\u001b[0;32m/lustre/naasc/users/aginsbur/anaconda/lib/python3.6/site-packages/casatools/__casac__/msmetadata.py\u001b[0m in \u001b[0;36mopen\u001b[0;34m(self, *args, **kwargs)\u001b[0m\n\u001b[1;32m   1962\u001b[0m \u001b[0;34m\u001b[0m\u001b[0m\n\u001b[1;32m   1963\u001b[0m         \"\"\"\n\u001b[0;32m-> 1964\u001b[0;31m         \u001b[0;32mreturn\u001b[0m \u001b[0m_msmetadata\u001b[0m\u001b[0;34m.\u001b[0m\u001b[0mmsmetadata_open\u001b[0m\u001b[0;34m(\u001b[0m\u001b[0mself\u001b[0m\u001b[0;34m,\u001b[0m \u001b[0;34m*\u001b[0m\u001b[0margs\u001b[0m\u001b[0;34m,\u001b[0m \u001b[0;34m**\u001b[0m\u001b[0mkwargs\u001b[0m\u001b[0;34m)\u001b[0m\u001b[0;34m\u001b[0m\u001b[0;34m\u001b[0m\u001b[0m\n\u001b[0m\u001b[1;32m   1965\u001b[0m \u001b[0;34m\u001b[0m\u001b[0m\n\u001b[1;32m   1966\u001b[0m \u001b[0;34m\u001b[0m\u001b[0m\n",
      "\u001b[0;31mRuntimeError\u001b[0m: Table /lustre/cv/projects/ALMA_IMF/2017.1.01355.L/science_goal.uid___A001_X1296_X211/group.uid___A001_X1296_X212/member.uid___A001_X1296_X215/calibrated/uid___A002_Xcf0c6b_X4bbc_W51-E_B6_spw1.split does not exist"
     ]
    }
   ],
   "source": [
    "msmd.open('./science_goal.uid___A001_X1296_X211/group.uid___A001_X1296_X212/member.uid___A001_X1296_X215/calibrated/uid___A002_Xcf0c6b_X4bbc_W51-E_B6_spw1.split')"
   ]
  },
  {
   "cell_type": "code",
   "execution_count": null,
   "metadata": {},
   "outputs": [],
   "source": []
  }
 ],
 "metadata": {
  "kernelspec": {
   "display_name": "Python 3",
   "language": "python",
   "name": "python3"
  },
  "language_info": {
   "codemirror_mode": {
    "name": "ipython",
    "version": 3
   },
   "file_extension": ".py",
   "mimetype": "text/x-python",
   "name": "python",
   "nbconvert_exporter": "python",
   "pygments_lexer": "ipython3",
   "version": "3.6.8"
  }
 },
 "nbformat": 4,
 "nbformat_minor": 2
}
