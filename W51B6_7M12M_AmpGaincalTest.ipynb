{
 "cells": [
  {
   "cell_type": "markdown",
   "metadata": {},
   "source": [
    "# Is amplitude self-calibration viable and necessary?\n",
    "\n",
    "This test run on W51-E B6, which looks quite bad even after phase self-calibration and a reasonably deep masked clean."
   ]
  },
  {
   "cell_type": "code",
   "execution_count": 1,
   "metadata": {},
   "outputs": [],
   "source": [
    "%matplotlib inline"
   ]
  },
  {
   "cell_type": "code",
   "execution_count": 2,
   "metadata": {},
   "outputs": [],
   "source": [
    "import numpy as np\n",
    "from astropy import units as u"
   ]
  },
  {
   "cell_type": "code",
   "execution_count": 3,
   "metadata": {},
   "outputs": [],
   "source": [
    "import pylab as pl\n",
    "pl.rcParams['figure.figsize'] = (20,8)"
   ]
  },
  {
   "cell_type": "code",
   "execution_count": 4,
   "metadata": {},
   "outputs": [],
   "source": [
    "import sys\n",
    "sys.path.append('/lustre/naasc/users/aginsbur/repos/reduction/reduction/')\n",
    "import imp, diagnostic_images\n",
    "imp.reload(diagnostic_images)\n",
    "from diagnostic_images import load_images, show\n",
    "from spectral_cube import SpectralCube"
   ]
  },
  {
   "cell_type": "code",
   "execution_count": 5,
   "metadata": {},
   "outputs": [],
   "source": [
    "import os\n",
    "os.chdir(\"/lustre/naasc/projects/ALMA_IMF/2017.1.01355.L/\")"
   ]
  },
  {
   "cell_type": "code",
   "execution_count": 6,
   "metadata": {},
   "outputs": [],
   "source": [
    "from casatasks import gaincal"
   ]
  },
  {
   "cell_type": "code",
   "execution_count": 7,
   "metadata": {},
   "outputs": [],
   "source": [
    "import selfcal_heuristics"
   ]
  },
  {
   "cell_type": "code",
   "execution_count": 8,
   "metadata": {},
   "outputs": [],
   "source": [
    "caltable = 'W51-E_B6_uid___A001_X1296_X215_continuum_merged_7M12M_amp5_inf.cal/'\n",
    "msfile = 'W51-E_B6_uid___A001_X1296_X215_continuum_merged_7M12M_selfcal.ms/'\n",
    "if not os.path.exists(caltable):\n",
    "    gaincal(vis=msfile,\n",
    "            caltable=caltable,\n",
    "            solint='inf',\n",
    "            calmode='ap',)"
   ]
  },
  {
   "cell_type": "code",
   "execution_count": 9,
   "metadata": {},
   "outputs": [
    {
     "name": "stdout",
     "output_type": "stream",
     "text": [
      "[7, 17, 18, 21, 22, 23, 25, 26, 27, 30, 31, 32] [1, 2, 3, 4, 5, 6, 8, 9, 10, 11, 12, 13, 14, 15, 16, 19, 20, 24, 28, 29, 33, 34, 35, 36, 37]\n"
     ]
    }
   ],
   "source": [
    "okfields,notokfields = selfcal_heuristics.goodenough_field_solutions(caltable,\n",
    "                                                                     minsnr=5)\n",
    "print(okfields, notokfields)"
   ]
  },
  {
   "cell_type": "code",
   "execution_count": 10,
   "metadata": {},
   "outputs": [],
   "source": [
    "import casatools\n",
    "tb = casatools.table()\n",
    "\n",
    "# this creates a \"context manager\" for the table tool that automatically handles tb.open/tb.close operations\n",
    "class CasaTable(object):\n",
    "    def __init__(self, file_name):\n",
    "        self.tb = tb\n",
    "        self.file_obj = tb.open(file_name)\n",
    "    def __enter__(self):\n",
    "        return self.tb\n",
    "    def __exit__(self, type, value, traceback):\n",
    "        self.tb.close()"
   ]
  },
  {
   "cell_type": "code",
   "execution_count": 11,
   "metadata": {},
   "outputs": [],
   "source": [
    "msmd = casatools.msmetadata()"
   ]
  },
  {
   "cell_type": "code",
   "execution_count": 12,
   "metadata": {},
   "outputs": [
    {
     "name": "stdout",
     "output_type": "stream",
     "text": [
      "['TIME', 'FIELD_ID', 'SPECTRAL_WINDOW_ID', 'ANTENNA1', 'ANTENNA2', 'INTERVAL', 'SCAN_NUMBER', 'OBSERVATION_ID', 'CPARAM', 'PARAMERR', 'FLAG', 'SNR', 'WEIGHT']\n"
     ]
    }
   ],
   "source": [
    "with CasaTable(caltable) as tb:\n",
    "    print(tb.colnames())\n",
    "    data = tb.getcol('CPARAM')\n",
    "    amp = np.abs(data)\n",
    "    angle = np.angle(data)\n",
    "    time = tb.getcol('TIME')\n",
    "    snr = tb.getcol('SNR') \n",
    "    antenna1 = tb.getcol('ANTENNA1')\n",
    "    antenna2 = tb.getcol('ANTENNA2')\n",
    "    obsid = tb.getcol('OBSERVATION_ID')\n",
    "    spwid = tb.getcol('SPECTRAL_WINDOW_ID')\n",
    "    fieldid = tb.getcol('FIELD_ID')\n",
    "    data = {col: tb.getcol(col) for col in tb.colnames() if col not in (\"WEIGHT\",)}\n",
    "data['ANGLE'] = angle\n",
    "data['AMP'] = amp"
   ]
  },
  {
   "cell_type": "code",
   "execution_count": 13,
   "metadata": {},
   "outputs": [
    {
     "name": "stdout",
     "output_type": "stream",
     "text": [
      "[ 1  2  3  4  5  6  7  8  9 10 11 12 13 14 15 16 17 18 19 20 21 22 23 24 25\n",
      " 26 27 28 29 30 31 32 33 34 35 36 37]\n"
     ]
    }
   ],
   "source": [
    "fids = np.unique(data['FIELD_ID'])\n",
    "print(fids)"
   ]
  },
  {
   "cell_type": "code",
   "execution_count": 14,
   "metadata": {},
   "outputs": [
    {
     "name": "stdout",
     "output_type": "stream",
     "text": [
      "[ 0  1  2  3  4  5  6  7  8  9 10 11 12]\n"
     ]
    }
   ],
   "source": [
    "oids = np.unique(data['OBSERVATION_ID'])\n",
    "print(oids)"
   ]
  },
  {
   "cell_type": "code",
   "execution_count": 15,
   "metadata": {},
   "outputs": [
    {
     "name": "stdout",
     "output_type": "stream",
     "text": [
      "[ 0  1  2  3  4  5  6  7  8  9 10 11 12 13 14 15 16 17 18 19 20 21 22 23 24\n",
      " 25 26 27 28 29 30 31 32 33 34 35 36 37 38 39 40 41 42 43 44 45 46 47 48 49\n",
      " 50 51 52 53 54 55 56 57 58 59 60 61 62 63 64 65 66 67 68 69 70 71 72 73 74\n",
      " 75 76 77]\n"
     ]
    }
   ],
   "source": [
    "spwids = np.unique(data['SPECTRAL_WINDOW_ID'])\n",
    "print(spwids)"
   ]
  },
  {
   "cell_type": "code",
   "execution_count": 16,
   "metadata": {},
   "outputs": [
    {
     "name": "stdout",
     "output_type": "stream",
     "text": [
      "OID 0 has fields [1, 2, 3, 4, 5, 6, 7, 8, 9, 10]\n",
      "OID 1 has fields [1, 2, 3, 4, 5, 6, 7, 8, 9, 10]\n",
      "OID 2 has fields [11, 12, 13, 14, 15, 16, 17, 18, 19, 20, 21, 22, 23, 24, 25, 26, 27, 28, 29, 30, 31, 32, 33, 34, 35, 36, 37]\n",
      "OID 3 has fields [11, 12, 13, 14, 15, 16, 17, 18, 19, 20, 21, 22, 23, 24, 25, 26, 27, 28, 29, 30, 31, 32, 33, 34, 35, 36, 37]\n",
      "OID 4 has fields [1, 2, 3, 4, 5, 6, 7, 8, 9, 10]\n",
      "OID 5 has fields [1, 2, 3, 4, 5, 6, 7, 8, 9, 10]\n",
      "OID 6 has fields [1, 2, 3, 4, 5, 6, 7, 8, 9, 10]\n",
      "OID 7 has fields [1, 2, 3, 4, 5, 6, 7, 8, 9, 10]\n",
      "OID 8 has fields [1, 2, 3, 4, 5, 6, 7, 8, 9, 10]\n",
      "OID 9 has fields [1, 2, 3, 4, 5, 6, 7, 8, 9, 10]\n",
      "OID 10 has fields [1, 2, 3, 4, 5, 6, 7, 8, 9, 10]\n",
      "OID 11 has fields [1, 2, 3, 4, 5, 6, 7, 8, 9, 10]\n",
      "OID 12 has fields [11, 12, 13, 14, 15, 16, 17, 18, 19, 20, 21, 22, 23, 24, 25, 26, 27, 28, 29, 30, 31, 32, 33, 34, 35, 36, 37]\n"
     ]
    }
   ],
   "source": [
    "# which observations contain which fields?\n",
    "for oid in oids:\n",
    "    oid_match = data['OBSERVATION_ID'] == oid\n",
    "    has_fid = [fid for fid in fids if np.any((data['FIELD_ID'] == fid) & oid_match)]\n",
    "    print(f\"OID {oid} has fields {has_fid}\")"
   ]
  },
  {
   "cell_type": "code",
   "execution_count": 17,
   "metadata": {},
   "outputs": [
    {
     "name": "stdout",
     "output_type": "stream",
     "text": [
      "fid=11  mean=1.5066666611517519  median=1.4091010441724454  rms=0.3980314974749133\n",
      "fid=12  mean=2.1109338179539447  median=2.0007352818254494  rms=1.0559493761561918\n",
      "fid=13  mean=1.5999030766302877  median=1.5292568347597175  rms=0.3636494359956338\n",
      "fid=15  mean=1.0776146907334516  median=0.9274913182195478  rms=0.5262248399098479\n",
      "fid=16  mean=1.3165798474490293  median=1.2774995153051436  rms=0.49415717465041786\n",
      "fid=17  mean=1.1376403670245188  median=1.076909974875429  rms=0.31822634296114743\n",
      "fid=18  mean=1.0512533421494679  median=1.0003705687113977  rms=0.3700720670483723\n",
      "fid=19  mean=3.136254630048467  median=1.7127455439701433  rms=3.221962191079505\n",
      "fid=20  mean=1.0928698334563922  median=1.0446252183502676  rms=0.35331022995428535\n",
      "fid=21  mean=1.0413745717930527  median=0.9834366308287744  rms=0.3354775851966515\n",
      "fid=22  mean=0.9782680601929673  median=0.8895665038115488  rms=0.3696936521562569\n",
      "fid=23  mean=1.0172418338542084  median=0.9379816183319213  rms=0.36246327339030915\n",
      "fid=25  mean=1.173501110595563  median=1.0287550243464945  rms=0.4562176495441638\n",
      "fid=26  mean=1.1560487951592022  median=1.0224014208413073  rms=0.4266545471548936\n",
      "fid=27  mean=1.042820136467461  median=0.9469054068259778  rms=0.42404163943544476\n",
      "fid=28  mean=1.1027051015230604  median=1.0482524153786459  rms=0.47299900694226704\n",
      "fid=29  mean=1.1349735419458609  median=1.1217870178957647  rms=0.34054427127190423\n",
      "fid=30  mean=1.060584373817021  median=0.9520501742553802  rms=0.4044343996030391\n",
      "fid=31  mean=1.0638371238868254  median=1.0042975249575663  rms=0.286475978072566\n",
      "fid=32  mean=1.017315323141604  median=0.9471024507476509  rms=0.3313622299019702\n",
      "fid=33  mean=0.30000001192092896  median=0.30000001192092896  rms=0.0\n",
      "fid=34  mean=1.1021688964003422  median=1.1912394975948657  rms=0.5757136026672202\n",
      "fid=35  mean=1.0156400082929806  median=0.9356561836702242  rms=0.3168378100151851\n",
      "fid=36  mean=1.1516739590787648  median=1.1069631852526003  rms=0.3405436117024397\n",
      "fid=37  mean=0.30000001192092896  median=0.30000001192092896  rms=0.0\n"
     ]
    },
    {
     "data": {
      "text/plain": [
       "<matplotlib.legend.Legend at 0x7fa59ae62128>"
      ]
     },
     "execution_count": 17,
     "metadata": {},
     "output_type": "execute_result"
    },
    {
     "data": {
      "image/png": "[encoded data removed]",
      "text/plain": [
       "<matplotlib.figure.Figure at 0x7fa59aeabcc0>"
      ]
     },
     "metadata": {
      "needs_background": "light"
     },
     "output_type": "display_data"
    }
   ],
   "source": [
    "pl.clf()\n",
    "fldstats = {}\n",
    "for ii,fid in enumerate(np.unique(fieldid[obsid==2])):\n",
    "    msk = (obsid==2) & (spwid == 16) & (fieldid==fid)\n",
    "    if np.any(msk):\n",
    "        dd = amp[0,0,msk]\n",
    "        ok = (dd!=0) & (dd!=1)\n",
    "        pl.hist(dd[ok], bins=np.linspace(0,5), histtype='step', label=f\"{fid}\")\n",
    "        print(f\"fid={fid}  mean={dd[ok].mean()}  median={np.median(dd[ok])}  rms={dd[ok].std()}\")\n",
    "        fldstats[fid] = [dd[ok].mean(), np.median(dd[ok]), dd[ok].std()]\n",
    "pl.legend(loc='best')"
   ]
  },
  {
   "cell_type": "code",
   "execution_count": 18,
   "metadata": {},
   "outputs": [],
   "source": [
    "fieldOKmask = np.isin(data['FIELD_ID'], okfields)"
   ]
  },
  {
   "cell_type": "code",
   "execution_count": 19,
   "metadata": {},
   "outputs": [
    {
     "data": {
      "image/png": "[encoded data removed]",
      "text/plain": [
       "<matplotlib.figure.Figure at 0x7fa5fe273320>"
      ]
     },
     "metadata": {
      "needs_background": "light"
     },
     "output_type": "display_data"
    }
   ],
   "source": [
    "OK = data['SNR'] != 0\n",
    "\n",
    "toplot = [data['SNR'][0,0, fieldOKmask & (OK[0,0,:]) & (data['ANTENNA1'] == ant)]\n",
    "          for ant in np.unique(data['ANTENNA1'])]\n",
    "toplot = [x for x in toplot if len(x) > 0]\n",
    "\n",
    "_ = pl.boxplot(toplot)"
   ]
  },
  {
   "cell_type": "code",
   "execution_count": 20,
   "metadata": {},
   "outputs": [
    {
     "data": {
      "text/plain": [
       "[<matplotlib.lines.Line2D at 0x7fa5832d6400>]"
      ]
     },
     "execution_count": 20,
     "metadata": {},
     "output_type": "execute_result"
    },
    {
     "data": {
      "image/png": "[encoded data removed]",
      "text/plain": [
       "<matplotlib.figure.Figure at 0x7fa583356588>"
      ]
     },
     "metadata": {
      "needs_background": "light"
     },
     "output_type": "display_data"
    }
   ],
   "source": [
    "pl.plot(data['SNR'][0,0,:], data['AMP'][0,0,:], ',')"
   ]
  },
  {
   "cell_type": "code",
   "execution_count": 21,
   "metadata": {},
   "outputs": [
    {
     "name": "stdout",
     "output_type": "stream",
     "text": [
      "0 (-548.91486467752088, 8.5623289140286687)\n",
      "1 (-548.91486467752088, 8.5623289140286687)\n",
      "2 (-669.19146495239022, 36.965444670852847)\n",
      "3 (-716.00474893953617, 37.764400862761519)\n",
      "4 (-547.23154852781931, 9.5137001124720832)\n",
      "5 (-549.96290716449869, 7.4930404402901063)\n",
      "6 (-547.96892682463579, 8.1983687033505976)\n",
      "7 (-549.96290716449869, 7.4930404402901063)\n",
      "8 (-549.96290716449869, 7.4930404402901063)\n",
      "9 (-549.47660534550891, 9.2764176760223389)\n",
      "10 (-553.03430134639711, 9.7178709631026212)\n",
      "11 (-549.93042133846939, 9.7802891867571766)\n",
      "12 (-708.34688825572312, 22.236483871868082)\n"
     ]
    }
   ],
   "source": [
    "msmd.open(msfile)\n",
    "antobs = {}\n",
    "obsid = data['OBSERVATION_ID']\n",
    "for oid in np.unique(obsid):\n",
    "    antids = np.unique(data['ANTENNA1'][(obsid==oid) & (OK[0,0,:])])\n",
    "    antnames = {k:v for k,v in zip(antids, msmd.antennanames(antids))}\n",
    "\n",
    "    center = (np.mean([msmd.antennaoffset(k)['latitude offset']['value'] for k in antnames]),\n",
    "              np.mean([msmd.antennaoffset(k)['longitude offset']['value'] for k in antnames]),)\n",
    "    print(oid, center)\n",
    "    \n",
    "    antdist = {k:((msmd.antennaoffset(k)['latitude offset']['value']-center[0])**2 + (msmd.antennaoffset(k)['longitude offset']['value']-center[1])**2)**0.5\n",
    "               for k in antnames}\n",
    "    antloc = {k:(msmd.antennaoffset(k)['latitude offset']['value'], msmd.antennaoffset(k)['longitude offset']['value'])\n",
    "               for k in antnames}\n",
    "\n",
    "    antobs[oid] = {'antnames': antnames,\n",
    "                   'antdist': antdist,\n",
    "                   'antloc': antloc}\n",
    "msmd.close()\n",
    "antdist = {(ant,oid): antobs[oid]['antdist'][ant] for oid in antobs for ant in antobs[oid]['antnames']}\n",
    "antnames = {(ant,oid): antobs[oid]['antnames'][ant] for oid in antobs for ant in antobs[oid]['antnames']}"
   ]
  },
  {
   "cell_type": "code",
   "execution_count": 22,
   "metadata": {},
   "outputs": [
    {
     "name": "stdout",
     "output_type": "stream",
     "text": [
      "antenna=CM01 oid=0 dist=  21.1 mean=     47.52 median=     46.76 std=      6.88 amp mean=      1.07 amp std=      0.09 angle_rms=      0.35\n",
      "antenna=CM02 oid=0 dist=   6.5 mean=     47.78 median=     45.26 std=     10.35 amp mean=      0.97 amp std=      0.11 angle_rms=      0.43\n",
      "antenna=CM04 oid=0 dist=  26.9 mean=     37.35 median=     35.97 std=      5.50 amp mean=      1.01 amp std=      0.08 angle_rms=      0.32\n",
      "antenna=CM06 oid=0 dist=  20.6 mean=     34.48 median=     34.31 std=      7.91 amp mean=      0.97 amp std=      0.08 angle_rms=      0.81\n",
      "antenna=CM07 oid=0 dist=  20.6 mean=     44.33 median=     43.42 std=      7.18 amp mean=      1.00 amp std=      0.07 angle_rms=      0.80\n",
      "antenna=CM08 oid=0 dist=  17.5 mean=     45.79 median=     45.44 std=     11.06 amp mean=      0.92 amp std=      0.10 angle_rms=      0.81\n",
      "antenna=CM09 oid=0 dist=  22.7 mean=     44.40 median=     44.80 std=     10.53 amp mean=      1.04 amp std=      0.09 angle_rms=      0.80\n",
      "antenna=CM10 oid=0 dist=   3.7 mean=     52.09 median=     51.11 std=     12.99 amp mean=      0.98 amp std=      0.09 angle_rms=      0.79\n",
      "antenna=CM11 oid=0 dist=  24.6 mean=     37.04 median=     36.40 std=      7.85 amp mean=      0.97 amp std=      0.10 angle_rms=      0.74\n",
      "antenna=CM12 oid=0 dist=  13.7 mean=     51.15 median=     48.92 std=     10.96 amp mean=      0.97 amp std=      0.09 angle_rms=      0.77\n",
      "antenna=CM01 oid=1 dist=  21.1 mean=     39.38 median=     38.52 std=      9.68 amp mean=      1.02 amp std=      0.09 angle_rms=      0.49\n",
      "antenna=CM02 oid=1 dist=   6.5 mean=     36.39 median=     34.39 std=     10.10 amp mean=      0.94 amp std=      0.08 angle_rms=      0.56\n",
      "antenna=CM04 oid=1 dist=  26.9 mean=     32.03 median=     31.29 std=      9.15 amp mean=      1.04 amp std=      0.08 angle_rms=      0.47\n",
      "antenna=CM06 oid=1 dist=  20.6 mean=     29.83 median=     28.57 std=      8.72 amp mean=      0.93 amp std=      0.10 angle_rms=      0.92\n",
      "antenna=CM07 oid=1 dist=  20.6 mean=     39.31 median=     37.54 std=     10.30 amp mean=      1.02 amp std=      0.08 angle_rms=      0.96\n",
      "antenna=CM08 oid=1 dist=  17.5 mean=     38.63 median=     36.31 std=     11.88 amp mean=      0.90 amp std=      0.08 angle_rms=      0.96\n",
      "antenna=CM09 oid=1 dist=  22.7 mean=     41.57 median=     39.52 std=     10.56 amp mean=      1.01 amp std=      0.10 angle_rms=      0.94\n",
      "antenna=CM10 oid=1 dist=   3.7 mean=     46.13 median=     43.49 std=     13.81 amp mean=      1.02 amp std=      0.09 angle_rms=      0.94\n",
      "antenna=CM11 oid=1 dist=  24.6 mean=     33.59 median=     32.00 std=      9.07 amp mean=      0.98 amp std=      0.08 angle_rms=      0.84\n",
      "antenna=CM12 oid=1 dist=  13.7 mean=     42.11 median=     39.37 std=     13.19 amp mean=      0.97 amp std=      0.11 angle_rms=      0.96\n",
      "antenna=DA41 oid=2 dist=  43.6 mean=     24.32 median=     23.19 std=     10.86 amp mean=      0.96 amp std=      0.17 angle_rms=      4.05\n",
      "antenna=DA42 oid=2 dist=  30.6 mean=     26.15 median=     24.57 std=     11.16 amp mean=      0.92 amp std=      0.17 angle_rms=      5.58\n",
      "antenna=DA43 oid=2 dist= 159.7 mean=     16.33 median=     15.61 std=      7.53 amp mean=      0.98 amp std=      0.21 angle_rms=      7.47\n",
      "antenna=DA44 oid=2 dist=  54.6 mean=     18.48 median=     18.38 std=      9.36 amp mean=      0.97 amp std=      0.18 angle_rms=      4.44\n",
      "antenna=DA45 oid=2 dist= 517.6 mean=      3.40 median=      3.85 std=      1.82 amp mean=      1.28 amp std=      0.23 angle_rms=      3.19\n",
      "antenna=DA47 oid=2 dist=  37.9 mean=     24.11 median=     23.76 std=     10.40 amp mean=      0.89 amp std=      0.20 angle_rms=      4.96\n",
      "antenna=DA48 oid=2 dist= 255.6 mean=      4.33 median=      4.57 std=      3.33 amp mean=      1.44 amp std=      0.40 angle_rms=      4.75\n",
      "antenna=DA49 oid=2 dist=  53.5 mean=     22.22 median=     21.25 std=     10.09 amp mean=      0.92 amp std=      0.21 angle_rms=      4.99\n",
      "antenna=DA52 oid=2 dist= 174.5 mean=      8.69 median=      8.34 std=      5.71 amp mean=      1.24 amp std=      0.28 angle_rms=      4.36\n",
      "antenna=DA53 oid=2 dist= 107.4 mean=     28.17 median=     26.94 std=     10.17 amp mean=      1.00 amp std=      0.19 angle_rms=      6.59\n",
      "antenna=DA54 oid=2 dist= 187.6 mean=      9.01 median=      8.45 std=      5.08 amp mean=      1.44 amp std=      0.36 angle_rms=      7.37\n",
      "antenna=DA55 oid=2 dist= 517.2 mean=      1.53 median=      0.00 std=      1.82 amp mean=      1.48 amp std=      0.76 angle_rms=      5.41\n",
      "antenna=DA56 oid=2 dist= 321.6 mean=      5.21 median=      5.67 std=      3.28 amp mean=      1.94 amp std=      0.66 angle_rms=      6.34\n",
      "antenna=DA58 oid=2 dist= 359.9 mean=      3.10 median=      3.86 std=      2.79 amp mean=      1.83 amp std=      0.70 angle_rms=      2.39\n",
      "antenna=DA59 oid=2 dist= 242.5 mean=     10.63 median=     10.79 std=      5.49 amp mean=      1.18 amp std=      0.29 angle_rms=      5.19\n",
      "antenna=DA60 oid=2 dist=  86.8 mean=     14.06 median=     13.80 std=      8.01 amp mean=      0.93 amp std=      0.22 angle_rms=      6.48\n",
      "antenna=DA61 oid=2 dist= 398.3 mean=      3.83 median=      4.55 std=      3.28 amp mean=      2.06 amp std=      0.83 angle_rms=      3.35\n",
      "antenna=DA62 oid=2 dist= 549.5 mean=      1.47 median=      0.00 std=      1.93 amp mean=      1.42 amp std=      0.54 angle_rms=      5.34\n",
      "antenna=DA63 oid=2 dist= 260.7 mean=      4.56 median=      5.32 std=      3.43 amp mean=      1.43 amp std=      0.39 angle_rms=      5.75\n",
      "antenna=DA64 oid=2 dist=  43.1 mean=     21.36 median=     19.93 std=      9.53 amp mean=      0.87 amp std=      0.16 angle_rms=      4.96\n",
      "antenna=DV01 oid=2 dist= 107.0 mean=     32.96 median=     31.63 std=     11.87 amp mean=      0.93 amp std=      0.18 angle_rms=      5.81\n",
      "antenna=DV03 oid=2 dist= 591.1 mean=      3.34 median=      3.76 std=      2.57 amp mean=      2.99 amp std=      1.55 angle_rms=      1.49\n",
      "antenna=DV04 oid=2 dist= 265.9 mean=      5.42 median=      5.26 std=      3.54 amp mean=      1.39 amp std=      0.36 angle_rms=      4.30\n",
      "antenna=DV05 oid=2 dist=  39.0 mean=     24.56 median=     22.41 std=     11.28 amp mean=      0.86 amp std=      0.17 angle_rms=      6.05\n",
      "antenna=DV06 oid=2 dist=  92.1 mean=     29.51 median=     27.80 std=     12.24 amp mean=      0.94 amp std=      0.16 angle_rms=      6.05\n",
      "antenna=DV07 oid=2 dist=  27.4 mean=     24.26 median=     22.90 std=     11.34 amp mean=      0.87 amp std=      0.16 angle_rms=      5.19\n",
      "antenna=DV09 oid=2 dist= 202.5 mean=      6.83 median=      6.73 std=      4.17 amp mean=      1.36 amp std=      0.43 angle_rms=      6.32\n",
      "antenna=DV10 oid=2 dist= 152.1 mean=     21.68 median=     20.49 std=      9.09 amp mean=      0.97 amp std=      0.25 angle_rms=      6.75\n",
      "antenna=DV11 oid=2 dist= 109.1 mean=     31.53 median=     30.92 std=     11.39 amp mean=      0.93 amp std=      0.18 angle_rms=      5.70\n",
      "antenna=DV14 oid=2 dist= 419.4 mean=      2.05 median=      3.31 std=      1.68 amp mean=      1.85 amp std=      0.66 angle_rms=      2.48\n",
      "antenna=DV15 oid=2 dist= 106.0 mean=     22.22 median=     21.99 std=      9.19 amp mean=      0.88 amp std=      0.19 angle_rms=      6.75\n",
      "antenna=DV16 oid=2 dist= 171.3 mean=     15.93 median=     15.13 std=      7.03 amp mean=      1.14 amp std=      0.29 angle_rms=      6.07\n",
      "antenna=DV17 oid=2 dist= 175.0 mean=     10.64 median=     10.14 std=      5.71 amp mean=      1.14 amp std=      0.27 angle_rms=      6.48\n",
      "antenna=DV20 oid=2 dist= 141.4 mean=     10.55 median=     10.83 std=      5.70 amp mean=      1.09 amp std=      0.19 angle_rms=      3.77\n",
      "antenna=DV22 oid=2 dist= 149.1 mean=      8.96 median=      8.77 std=      5.16 amp mean=      1.12 amp std=      0.27 angle_rms=      3.80\n",
      "antenna=DV23 oid=2 dist=  42.3 mean=     25.10 median=     24.30 std=     11.19 amp mean=      0.94 amp std=      0.17 angle_rms=      3.51\n",
      "antenna=DV24 oid=2 dist= 242.9 mean=      5.23 median=      5.18 std=      3.57 amp mean=      1.33 amp std=      0.45 angle_rms=      5.59\n",
      "antenna=DV25 oid=2 dist= 303.1 mean=      5.77 median=      5.58 std=      3.45 amp mean=      1.70 amp std=      0.63 angle_rms=      6.01\n",
      "antenna=PM03 oid=2 dist= 105.9 mean=     10.86 median=      9.78 std=      6.38 amp mean=      1.13 amp std=      0.33 angle_rms=      3.81\n",
      "antenna=DA41 oid=3 dist=  78.2 mean=     25.45 median=     24.33 std=      9.12 amp mean=      0.93 amp std=      0.12 angle_rms=      2.95\n",
      "antenna=DA42 oid=3 dist=  56.8 mean=     28.81 median=     27.59 std=     10.55 amp mean=      0.94 amp std=      0.13 angle_rms=      4.79\n",
      "antenna=DA43 oid=3 dist= 113.8 mean=     21.31 median=     21.12 std=      7.74 amp mean=      0.97 amp std=      0.17 angle_rms=      5.49\n",
      "antenna=DA44 oid=3 dist= 101.4 mean=     17.35 median=     17.92 std=      8.71 amp mean=      1.00 amp std=      0.14 angle_rms=      3.93\n",
      "antenna=DA47 oid=3 dist=  10.8 mean=     26.94 median=     24.65 std=     10.86 amp mean=      0.94 amp std=      0.14 angle_rms=      3.90\n",
      "antenna=DA48 oid=3 dist= 291.1 mean=      3.26 median=      4.33 std=      2.62 amp mean=      1.47 amp std=      0.42 angle_rms=      5.38\n",
      "antenna=DA49 oid=3 dist=  74.2 mean=     22.93 median=     22.20 std=     10.21 amp mean=      0.94 amp std=      0.16 angle_rms=      3.55\n",
      "antenna=DA51 oid=3 dist= 611.0 mean=      0.00 median=      0.00 std=      0.00 amp mean=      1.10 amp std=      0.00 angle_rms=      0.00\n",
      "antenna=DA52 oid=3 dist= 220.4 mean=      9.52 median=      9.50 std=      5.61 amp mean=      1.18 amp std=      0.27 angle_rms=      3.92\n",
      "antenna=DA53 oid=3 dist=  87.4 mean=     28.55 median=     27.50 std=      9.54 amp mean=      1.02 amp std=      0.14 angle_rms=      3.72\n",
      "antenna=DA54 oid=3 dist= 185.1 mean=     10.97 median=     11.02 std=      4.62 amp mean=      1.34 amp std=      0.25 angle_rms=      4.52\n",
      "antenna=DA55 oid=3 dist= 550.2 mean=      2.93 median=      2.06 std=      3.10 amp mean=      1.97 amp std=      1.14 angle_rms=      2.59\n",
      "antenna=DA56 oid=3 dist= 340.7 mean=      5.25 median=      5.20 std=      2.44 amp mean=      1.69 amp std=      0.48 angle_rms=      5.36\n",
      "antenna=DA58 oid=3 dist= 374.4 mean=      1.45 median=      0.00 std=      2.48 amp mean=      1.54 amp std=      0.86 angle_rms=      2.74\n",
      "antenna=DA59 oid=3 dist= 203.0 mean=     11.17 median=     11.70 std=      4.04 amp mean=      1.20 amp std=      0.18 angle_rms=      4.41\n",
      "antenna=DA60 oid=3 dist=  48.7 mean=     15.70 median=     15.23 std=      8.18 amp mean=      1.03 amp std=      0.18 angle_rms=      4.16\n",
      "antenna=DA61 oid=3 dist= 353.2 mean=      3.12 median=      4.09 std=      2.68 amp mean=      1.64 amp std=      0.59 angle_rms=      3.22\n",
      "antenna=DA63 oid=3 dist= 297.2 mean=      4.96 median=      5.09 std=      2.53 amp mean=      1.26 amp std=      0.22 angle_rms=      5.65\n",
      "antenna=DA64 oid=3 dist=  81.9 mean=     22.02 median=     21.57 std=      9.12 amp mean=      0.92 amp std=      0.16 angle_rms=      4.86\n",
      "antenna=DV01 oid=3 dist=  67.2 mean=     37.15 median=     37.35 std=     11.56 amp mean=      0.91 amp std=      0.15 angle_rms=      4.00\n",
      "antenna=DV03 oid=3 dist= 545.4 mean=      4.26 median=      4.26 std=      0.37 amp mean=      2.66 amp std=      0.65 angle_rms=      3.88\n",
      "antenna=DV04 oid=3 dist= 312.2 mean=      5.65 median=      6.46 std=      3.57 amp mean=      1.26 amp std=      0.24 angle_rms=      4.12\n",
      "antenna=DV05 oid=3 dist=  50.2 mean=     29.32 median=     28.12 std=     10.06 amp mean=      0.99 amp std=      0.14 angle_rms=      4.79\n",
      "antenna=DV06 oid=3 dist=  73.6 mean=     31.64 median=     29.88 std=     10.90 amp mean=      0.97 amp std=      0.14 angle_rms=      3.74\n",
      "antenna=DV07 oid=3 dist=  26.4 mean=     27.73 median=     25.48 std=     11.38 amp mean=      0.92 amp std=      0.14 angle_rms=      4.18\n",
      "antenna=DV09 oid=3 dist= 167.5 mean=      7.60 median=      7.77 std=      4.55 amp mean=      1.24 amp std=      0.27 angle_rms=      5.51\n",
      "antenna=DV10 oid=3 dist= 110.7 mean=     24.88 median=     24.24 std=      8.23 amp mean=      0.88 amp std=      0.13 angle_rms=      4.49\n",
      "antenna=DV11 oid=3 dist=  74.8 mean=     36.08 median=     35.77 std=     11.43 amp mean=      0.90 amp std=      0.17 angle_rms=      3.70\n",
      "antenna=DV14 oid=3 dist= 377.3 mean=      3.13 median=      3.97 std=      2.44 amp mean=      1.59 amp std=      0.44 angle_rms=      5.07\n",
      "antenna=DV15 oid=3 dist=  59.2 mean=     25.35 median=     24.91 std=      9.27 amp mean=      0.98 amp std=      0.18 angle_rms=      4.90\n",
      "antenna=DV16 oid=3 dist= 149.4 mean=     15.35 median=     15.83 std=      6.78 amp mean=      0.97 amp std=      0.18 angle_rms=      4.81\n",
      "antenna=DV17 oid=3 dist= 128.4 mean=     14.88 median=     14.20 std=      5.84 amp mean=      1.06 amp std=      0.17 angle_rms=      5.85\n",
      "antenna=DV20 oid=3 dist= 174.1 mean=      8.38 median=      8.91 std=      5.46 amp mean=      1.11 amp std=      0.15 angle_rms=      3.33\n",
      "antenna=DV22 oid=3 dist= 131.3 mean=     10.00 median=      9.75 std=      5.17 amp mean=      1.33 amp std=      0.29 angle_rms=      4.35\n",
      "antenna=DV23 oid=3 dist=  85.9 mean=     26.07 median=     25.02 std=      9.83 amp mean=      0.91 amp std=      0.12 angle_rms=      3.77\n",
      "antenna=DV24 oid=3 dist= 232.6 mean=      5.55 median=      5.93 std=      3.57 amp mean=      1.50 amp std=      0.46 angle_rms=      5.36\n",
      "antenna=DV25 oid=3 dist= 274.7 mean=      6.64 median=      6.96 std=      3.38 amp mean=      1.40 amp std=      0.38 angle_rms=      5.02\n",
      "antenna=PM03 oid=3 dist= 147.1 mean=     13.59 median=     14.52 std=      6.82 amp mean=      1.04 amp std=      0.18 angle_rms=      3.91\n",
      "antenna=CM01 oid=4 dist=  19.4 mean=     52.25 median=     48.80 std=     17.28 amp mean=      1.06 amp std=      0.10 angle_rms=      0.43\n",
      "antenna=CM02 oid=4 dist=   7.7 mean=     57.96 median=     54.64 std=     19.06 amp mean=      1.08 amp std=      0.07 angle_rms=      0.43\n",
      "antenna=CM03 oid=4 dist=   7.8 mean=     54.80 median=     51.86 std=     17.99 amp mean=      1.01 amp std=      0.07 angle_rms=      0.41\n",
      "antenna=CM04 oid=4 dist=  28.6 mean=     32.91 median=     28.27 std=     12.35 amp mean=      1.00 amp std=      0.07 angle_rms=      0.41\n",
      "antenna=CM06 oid=4 dist=  21.6 mean=     39.69 median=     34.79 std=     14.19 amp mean=      1.00 amp std=      0.06 angle_rms=      0.41\n",
      "antenna=CM07 oid=4 dist=  18.7 mean=     43.02 median=     41.11 std=     13.93 amp mean=      0.94 amp std=      0.06 angle_rms=      0.48\n",
      "antenna=CM08 oid=4 dist=  17.7 mean=     47.86 median=     43.87 std=     16.37 amp mean=      0.97 amp std=      0.04 angle_rms=      0.43\n",
      "antenna=CM09 oid=4 dist=  21.6 mean=     48.30 median=     44.71 std=     15.98 amp mean=      1.02 amp std=      0.09 angle_rms=      0.43\n",
      "antenna=CM10 oid=4 dist=   1.8 mean=     55.55 median=     53.64 std=     17.96 amp mean=      1.00 amp std=      0.08 angle_rms=      0.44\n",
      "antenna=CM12 oid=4 dist=  13.0 mean=     51.40 median=     49.51 std=     16.94 amp mean=      0.96 amp std=      0.05 angle_rms=      0.46\n",
      "antenna=CM01 oid=5 dist=  22.1 mean=     52.15 median=     47.73 std=     18.93 amp mean=      1.04 amp std=      0.09 angle_rms=      0.58\n",
      "antenna=CM02 oid=5 dist=   5.4 mean=     66.84 median=     60.18 std=     24.02 amp mean=      1.18 amp std=      0.11 angle_rms=      0.56\n",
      "antenna=CM03 oid=5 dist=   5.4 mean=     60.44 median=     53.59 std=     21.69 amp mean=      1.06 amp std=      0.08 angle_rms=      0.53\n",
      "antenna=CM04 oid=5 dist=  26.0 mean=     43.30 median=     39.20 std=     16.88 amp mean=      1.06 amp std=      0.07 angle_rms=      0.56\n",
      "antenna=CM06 oid=5 dist=  20.3 mean=     45.60 median=     40.97 std=     17.45 amp mean=      1.00 amp std=      0.07 angle_rms=      0.60\n",
      "antenna=CM07 oid=5 dist=  22.1 mean=     47.22 median=     43.58 std=     17.24 amp mean=      1.00 amp std=      0.07 angle_rms=      0.64\n",
      "antenna=CM08 oid=5 dist=  17.0 mean=     51.33 median=     45.00 std=     19.26 amp mean=      1.02 amp std=      0.06 angle_rms=      0.57\n",
      "antenna=CM09 oid=5 dist=  23.3 mean=     48.48 median=     44.61 std=     17.72 amp mean=      1.03 amp std=      0.05 angle_rms=      0.59\n",
      "antenna=CM10 oid=5 dist=   5.2 mean=     60.52 median=     54.32 std=     21.78 amp mean=      1.05 amp std=      0.06 angle_rms=      0.59\n",
      "antenna=CM11 oid=5 dist=  23.3 mean=     46.98 median=     43.46 std=     18.28 amp mean=      1.01 amp std=      0.07 angle_rms=      0.60\n",
      "antenna=CM12 oid=5 dist=  14.7 mean=     55.27 median=     48.97 std=     20.09 amp mean=      1.00 amp std=      0.06 angle_rms=      0.61\n",
      "antenna=CM05 oid=5 dist=  13.6 mean=     53.28 median=     47.84 std=     19.64 amp mean=      1.02 amp std=      0.07 angle_rms=      0.53\n",
      "antenna=CM01 oid=6 dist=  20.1 mean=     49.42 median=     45.22 std=     17.01 amp mean=      1.10 amp std=      0.10 angle_rms=      0.43\n",
      "antenna=CM02 oid=6 dist=   6.3 mean=     58.23 median=     53.53 std=     20.48 amp mean=      1.08 amp std=      0.09 angle_rms=      0.40\n",
      "antenna=CM03 oid=6 dist=   7.2 mean=     56.90 median=     52.31 std=     19.36 amp mean=      0.99 amp std=      0.09 angle_rms=      0.39\n",
      "antenna=CM04 oid=6 dist=  27.9 mean=     31.98 median=     28.66 std=     12.50 amp mean=      0.96 amp std=      0.07 angle_rms=      0.44\n",
      "antenna=CM06 oid=6 dist=  21.6 mean=     38.26 median=     33.96 std=     14.40 amp mean=      0.94 amp std=      0.06 angle_rms=      0.42\n",
      "antenna=CM07 oid=6 dist=  20.1 mean=     41.48 median=     38.14 std=     14.28 amp mean=      0.95 amp std=      0.06 angle_rms=      0.46\n",
      "antenna=CM08 oid=6 dist=  16.8 mean=     51.56 median=     45.65 std=     18.48 amp mean=      1.08 amp std=      0.08 angle_rms=      0.42\n",
      "antenna=CM09 oid=6 dist=  21.7 mean=     46.35 median=     42.32 std=     15.90 amp mean=      1.06 amp std=      0.09 angle_rms=      0.42\n",
      "antenna=CM10 oid=6 dist=   3.1 mean=     54.67 median=     50.62 std=     18.92 amp mean=      1.04 amp std=      0.08 angle_rms=      0.44\n",
      "antenna=CM12 oid=6 dist=  14.2 mean=     48.46 median=     44.45 std=     17.13 amp mean=      0.99 amp std=      0.08 angle_rms=      0.48\n",
      "antenna=CM05 oid=6 dist=  15.1 mean=     48.83 median=     43.93 std=     18.04 amp mean=      1.11 amp std=      0.09 angle_rms=      0.40\n",
      "antenna=CM01 oid=7 dist=  22.1 mean=     56.99 median=     55.02 std=     21.88 amp mean=      1.12 amp std=      0.08 angle_rms=      0.45\n",
      "antenna=CM02 oid=7 dist=   5.4 mean=     60.18 median=     57.15 std=     23.37 amp mean=      1.10 amp std=      0.10 angle_rms=      0.42\n",
      "antenna=CM03 oid=7 dist=   5.4 mean=     62.43 median=     58.06 std=     23.45 amp mean=      1.03 amp std=      0.07 angle_rms=      0.41\n",
      "antenna=CM04 oid=7 dist=  26.0 mean=     44.91 median=     42.48 std=     18.41 amp mean=      1.05 amp std=      0.07 angle_rms=      0.41\n",
      "antenna=CM06 oid=7 dist=  20.3 mean=     45.50 median=     44.43 std=     18.75 amp mean=      1.00 amp std=      0.06 angle_rms=      0.47\n",
      "antenna=CM07 oid=7 dist=  22.1 mean=     48.62 median=     47.19 std=     18.48 amp mean=      1.01 amp std=      0.04 angle_rms=      0.49\n",
      "antenna=CM08 oid=7 dist=  17.0 mean=     52.53 median=     49.03 std=     20.73 amp mean=      1.04 amp std=      0.07 angle_rms=      0.45\n",
      "antenna=CM09 oid=7 dist=  23.3 mean=     53.03 median=     51.64 std=     20.42 amp mean=      1.06 amp std=      0.08 angle_rms=      0.44\n",
      "antenna=CM10 oid=7 dist=   5.2 mean=     58.82 median=     54.96 std=     22.53 amp mean=      1.08 amp std=      0.07 angle_rms=      0.47\n",
      "antenna=CM11 oid=7 dist=  23.3 mean=     48.26 median=     46.96 std=     19.75 amp mean=      1.06 amp std=      0.07 angle_rms=      0.44\n",
      "antenna=CM12 oid=7 dist=  14.7 mean=     52.29 median=     49.15 std=     20.39 amp mean=      1.01 amp std=      0.06 angle_rms=      0.49\n",
      "antenna=CM05 oid=7 dist=  13.6 mean=     50.72 median=     49.33 std=     20.40 amp mean=      1.06 amp std=      0.08 angle_rms=      0.37\n",
      "antenna=CM01 oid=8 dist=  22.1 mean=     55.99 median=     54.28 std=     20.65 amp mean=      1.06 amp std=      0.07 angle_rms=      0.38\n",
      "antenna=CM02 oid=8 dist=   5.4 mean=     67.97 median=     64.04 std=     24.80 amp mean=      1.11 amp std=      0.10 angle_rms=      0.36\n",
      "antenna=CM03 oid=8 dist=   5.4 mean=     63.11 median=     58.94 std=     23.03 amp mean=      1.03 amp std=      0.09 angle_rms=      0.34\n",
      "antenna=CM04 oid=8 dist=  26.0 mean=     46.06 median=     43.67 std=     18.18 amp mean=      1.05 amp std=      0.06 angle_rms=      0.35\n",
      "antenna=CM06 oid=8 dist=  20.3 mean=     48.18 median=     45.75 std=     18.68 amp mean=      0.99 amp std=      0.06 angle_rms=      0.41\n",
      "antenna=CM07 oid=8 dist=  22.1 mean=     48.05 median=     46.87 std=     17.61 amp mean=      0.96 amp std=      0.04 angle_rms=      0.42\n",
      "antenna=CM08 oid=8 dist=  17.0 mean=     56.62 median=     53.32 std=     21.74 amp mean=      1.07 amp std=      0.06 angle_rms=      0.39\n",
      "antenna=CM09 oid=8 dist=  23.3 mean=     51.78 median=     50.67 std=     19.23 amp mean=      1.02 amp std=      0.07 angle_rms=      0.37\n",
      "antenna=CM10 oid=8 dist=   5.2 mean=     63.59 median=     59.33 std=     23.43 amp mean=      1.08 amp std=      0.09 angle_rms=      0.40\n",
      "antenna=CM11 oid=8 dist=  23.3 mean=     49.85 median=     49.05 std=     19.64 amp mean=      1.05 amp std=      0.07 angle_rms=      0.37\n",
      "antenna=CM12 oid=8 dist=  14.7 mean=     57.05 median=     53.14 std=     21.17 amp mean=      0.99 amp std=      0.05 angle_rms=      0.44\n",
      "antenna=CM05 oid=8 dist=  13.6 mean=     56.35 median=     52.84 std=     21.28 amp mean=      1.03 amp std=      0.05 angle_rms=      0.35\n",
      "antenna=CM01 oid=9 dist=  21.6 mean=     59.18 median=     59.34 std=     23.44 amp mean=      1.16 amp std=      0.06 angle_rms=      0.35\n",
      "antenna=CM03 oid=9 dist=   5.6 mean=     43.06 median=     40.67 std=     17.29 amp mean=      1.03 amp std=      0.07 angle_rms=      0.44\n",
      "antenna=CM04 oid=9 dist=  26.4 mean=     46.35 median=     44.70 std=     20.01 amp mean=      1.10 amp std=      0.06 angle_rms=      0.33\n",
      "antenna=CM06 oid=9 dist=  19.8 mean=     42.06 median=     40.90 std=     17.04 amp mean=      1.03 amp std=      0.06 angle_rms=      0.43\n",
      "antenna=CM07 oid=9 dist=  20.6 mean=     45.21 median=     42.86 std=     17.65 amp mean=      1.00 amp std=      0.07 angle_rms=      0.40\n",
      "antenna=CM08 oid=9 dist=  18.4 mean=     48.66 median=     48.75 std=     18.78 amp mean=      1.01 amp std=      0.07 angle_rms=      0.42\n",
      "antenna=CM09 oid=9 dist=  23.5 mean=     49.00 median=     45.66 std=     19.85 amp mean=      1.03 amp std=      0.07 angle_rms=      0.40\n",
      "antenna=CM10 oid=9 dist=   4.1 mean=     55.26 median=     55.43 std=     20.56 amp mean=      1.08 amp std=      0.10 angle_rms=      0.43\n",
      "antenna=CM11 oid=9 dist=  24.4 mean=     42.16 median=     39.04 std=     18.51 amp mean=      1.03 amp std=      0.07 angle_rms=      0.46\n",
      "antenna=CM12 oid=9 dist=  12.9 mean=     53.20 median=     52.71 std=     19.83 amp mean=      1.04 amp std=      0.08 angle_rms=      0.42\n",
      "antenna=CM01 oid=10 dist=  25.2 mean=     49.48 median=     45.46 std=     19.95 amp mean=      1.02 amp std=      0.07 angle_rms=      0.40\n",
      "antenna=CM02 oid=10 dist=   8.4 mean=     49.79 median=     47.40 std=     20.19 amp mean=      0.99 amp std=      0.09 angle_rms=      0.47\n",
      "antenna=CM03 oid=10 dist=   2.1 mean=     63.63 median=     57.45 std=     25.04 amp mean=      1.01 amp std=      0.05 angle_rms=      0.51\n",
      "antenna=CM04 oid=10 dist=  22.8 mean=     44.39 median=     38.99 std=     18.29 amp mean=      0.96 amp std=      0.11 angle_rms=      0.44\n",
      "antenna=CM06 oid=10 dist=  16.5 mean=     45.82 median=     41.39 std=     19.41 amp mean=      0.90 amp std=      0.06 angle_rms=      0.51\n",
      "antenna=CM07 oid=10 dist=  23.4 mean=     47.36 median=     42.87 std=     18.73 amp mean=      1.05 amp std=      0.08 angle_rms=      0.38\n",
      "antenna=CM10 oid=10 dist=   7.5 mean=     45.25 median=     41.43 std=     18.30 amp mean=      0.98 amp std=      0.06 angle_rms=      0.51\n",
      "antenna=CM11 oid=10 dist=  21.3 mean=     47.76 median=     42.24 std=     19.65 amp mean=      0.97 amp std=      0.07 angle_rms=      0.48\n",
      "antenna=CM12 oid=10 dist=  12.8 mean=      8.92 median=      8.06 std=      4.15 amp mean=      0.43 amp std=      0.07 angle_rms=      0.71\n",
      "antenna=CM05 oid=10 dist=  14.9 mean=     48.13 median=     45.71 std=     19.99 amp mean=      0.98 amp std=      0.06 angle_rms=      0.43\n",
      "antenna=CM01 oid=11 dist=  22.1 mean=     33.14 median=     31.59 std=     13.22 amp mean=      1.09 amp std=      0.09 angle_rms=      0.49\n",
      "antenna=CM02 oid=11 dist=   7.7 mean=     37.06 median=     36.84 std=     11.22 amp mean=      0.99 amp std=      0.11 angle_rms=      0.56\n",
      "antenna=CM06 oid=11 dist=  19.1 mean=     36.05 median=     36.24 std=     11.58 amp mean=      0.99 amp std=      0.09 angle_rms=      0.57\n",
      "antenna=CM07 oid=11 dist=  20.7 mean=     37.76 median=     38.04 std=     11.39 amp mean=      1.02 amp std=      0.09 angle_rms=      0.51\n",
      "antenna=CM10 oid=11 dist=   4.4 mean=     33.26 median=     32.37 std=     10.30 amp mean=      1.06 amp std=      0.11 angle_rms=      0.55\n",
      "antenna=CM11 oid=11 dist=  24.2 mean=     28.48 median=     26.52 std=      9.50 amp mean=      1.01 amp std=      0.10 angle_rms=      0.56\n",
      "antenna=CM12 oid=11 dist=  12.4 mean=      9.30 median=      9.14 std=      2.75 amp mean=      0.44 amp std=      0.08 angle_rms=      0.66\n",
      "antenna=CM05 oid=11 dist=  15.7 mean=     37.96 median=     37.74 std=     11.92 amp mean=      1.03 amp std=      0.10 angle_rms=      0.57\n",
      "antenna=DA41 oid=12 dist=  64.6 mean=     39.35 median=     38.54 std=     10.09 amp mean=      1.08 amp std=      0.10 angle_rms=      2.22\n",
      "antenna=DA42 oid=12 dist=  60.9 mean=     47.92 median=     46.28 std=     10.58 amp mean=      1.06 amp std=      0.10 angle_rms=      3.13\n",
      "antenna=DA43 oid=12 dist= 119.1 mean=     19.29 median=     20.42 std=      6.49 amp mean=      1.13 amp std=      0.08 angle_rms=      8.25\n",
      "antenna=DA44 oid=12 dist=  95.0 mean=     25.34 median=     25.62 std=     10.70 amp mean=      1.13 amp std=      0.07 angle_rms=      2.97\n",
      "antenna=DA49 oid=12 dist=  57.8 mean=     37.83 median=     36.88 std=     10.87 amp mean=      1.06 amp std=      0.07 angle_rms=      2.91\n",
      "antenna=DA53 oid=12 dist=  74.8 mean=     44.65 median=     44.19 std=      8.69 amp mean=      1.07 amp std=      0.07 angle_rms=      4.48\n",
      "antenna=DA60 oid=12 dist=  65.7 mean=     47.59 median=     46.93 std=     11.54 amp mean=      1.05 amp std=      0.09 angle_rms=      3.87\n",
      "antenna=DA64 oid=12 dist=  82.6 mean=     36.07 median=     36.16 std=      9.47 amp mean=      1.07 amp std=      0.08 angle_rms=      3.77\n",
      "antenna=DV01 oid=12 dist=  65.2 mean=     47.29 median=     46.09 std=     11.06 amp mean=      1.03 amp std=      0.09 angle_rms=      4.55\n",
      "antenna=DV06 oid=12 dist=  60.1 mean=     41.90 median=     40.93 std=     10.55 amp mean=      1.06 amp std=      0.08 angle_rms=      3.99\n",
      "antenna=DV07 oid=12 dist=  15.1 mean=     52.47 median=     51.95 std=     14.26 amp mean=      1.06 amp std=      0.09 angle_rms=      2.76\n",
      "antenna=DV10 oid=12 dist= 110.3 mean=     31.22 median=     30.80 std=      7.42 amp mean=      1.10 amp std=      0.09 angle_rms=      5.87\n",
      "antenna=DV11 oid=12 dist=  68.8 mean=     48.97 median=     47.60 std=     11.97 amp mean=      1.07 amp std=      0.10 angle_rms=      4.49\n",
      "antenna=DV15 oid=12 dist=  68.8 mean=     42.59 median=     41.43 std=     10.44 amp mean=      1.06 amp std=      0.10 angle_rms=      3.76\n",
      "antenna=DV16 oid=12 dist= 138.3 mean=     14.76 median=     16.18 std=      5.32 amp mean=      1.17 amp std=      0.06 angle_rms=      2.59\n",
      "antenna=DV17 oid=12 dist= 138.6 mean=      7.01 median=      8.35 std=      5.93 amp mean=      1.16 amp std=      0.11 angle_rms=      6.04\n",
      "antenna=DV20 oid=12 dist= 178.7 mean=      0.00 median=      0.00 std=      0.00 amp mean=      1.05 amp std=      0.07 angle_rms=      0.00\n",
      "antenna=DV23 oid=12 dist=  75.4 mean=     48.30 median=     47.30 std=     10.67 amp mean=      1.07 amp std=      0.09 angle_rms=      3.08\n",
      "antenna=DA45 oid=12 dist=  27.7 mean=     45.75 median=     44.37 std=     12.16 amp mean=      1.03 amp std=      0.07 angle_rms=      2.96\n",
      "antenna=DA46 oid=12 dist=  25.8 mean=     53.52 median=     51.29 std=     12.23 amp mean=      1.03 amp std=      0.08 angle_rms=      2.84\n",
      "antenna=DA48 oid=12 dist=  68.4 mean=     41.39 median=     40.48 std=     10.24 amp mean=      1.12 amp std=      0.09 angle_rms=      3.33\n",
      "antenna=DA50 oid=12 dist=  75.6 mean=     42.74 median=     42.39 std=     12.36 amp mean=      1.03 amp std=      0.07 angle_rms=      3.34\n",
      "antenna=DA51 oid=12 dist=  50.6 mean=     45.21 median=     46.28 std=     15.99 amp mean=      1.00 amp std=      0.09 angle_rms=      4.05\n",
      "antenna=DA52 oid=12 dist=  30.7 mean=     55.94 median=     53.85 std=     12.55 amp mean=      1.04 amp std=      0.08 angle_rms=      2.66\n",
      "antenna=DA54 oid=12 dist=  34.5 mean=     43.24 median=     43.78 std=     15.08 amp mean=      1.08 amp std=      0.09 angle_rms=      4.16\n",
      "antenna=DA55 oid=12 dist=  42.2 mean=     48.18 median=     46.83 std=     11.60 amp mean=      1.08 amp std=      0.10 angle_rms=      3.16\n",
      "antenna=DA56 oid=12 dist=  51.7 mean=     50.78 median=     49.47 std=     11.57 amp mean=      1.04 amp std=      0.09 angle_rms=      2.75\n",
      "antenna=DA58 oid=12 dist=  21.9 mean=     46.88 median=     46.68 std=     14.52 amp mean=      1.05 amp std=      0.10 angle_rms=      2.85\n",
      "antenna=DA61 oid=12 dist=  57.1 mean=     44.75 median=     43.73 std=     11.36 amp mean=      1.03 amp std=      0.08 angle_rms=      3.52\n",
      "antenna=DA62 oid=12 dist=  70.2 mean=     44.49 median=     43.54 std=      9.91 amp mean=      1.06 amp std=      0.09 angle_rms=      4.05\n",
      "antenna=DA63 oid=12 dist=  84.9 mean=     42.72 median=     41.97 std=      9.18 amp mean=      1.08 amp std=      0.09 angle_rms=      3.05\n",
      "antenna=DA65 oid=12 dist= 129.7 mean=      0.44 median=      0.00 std=      1.90 amp mean=      1.10 amp std=      0.08 angle_rms=      0.81\n",
      "antenna=DV02 oid=12 dist=  53.8 mean=     50.44 median=     49.17 std=     11.16 amp mean=      1.08 amp std=      0.13 angle_rms=      3.19\n",
      "antenna=DV03 oid=12 dist=  80.7 mean=     44.70 median=     43.86 std=     10.36 amp mean=      1.08 amp std=      0.08 angle_rms=      4.19\n",
      "antenna=DV04 oid=12 dist= 112.6 mean=     18.34 median=     18.18 std=     10.52 amp mean=      1.12 amp std=      0.09 angle_rms=      2.35\n",
      "antenna=DV08 oid=12 dist=  52.2 mean=     52.41 median=     50.53 std=     13.28 amp mean=      1.04 amp std=      0.10 angle_rms=      3.63\n",
      "antenna=DV12 oid=12 dist=  38.1 mean=     47.04 median=     45.33 std=     12.33 amp mean=      1.04 amp std=      0.09 angle_rms=      2.77\n",
      "antenna=DV13 oid=12 dist=   5.7 mean=     47.38 median=     46.73 std=     16.73 amp mean=      1.08 amp std=      0.11 angle_rms=      3.05\n",
      "antenna=DV14 oid=12 dist=  51.9 mean=     54.20 median=     53.61 std=     11.22 amp mean=      1.03 amp std=      0.09 angle_rms=      4.22\n",
      "antenna=DV19 oid=12 dist=  52.5 mean=     49.96 median=     49.13 std=     10.25 amp mean=      1.04 amp std=      0.08 angle_rms=      3.87\n",
      "antenna=DV21 oid=12 dist=  74.1 mean=     40.50 median=     40.82 std=     12.29 amp mean=      1.09 amp std=      0.07 angle_rms=      3.88\n",
      "antenna=DV22 oid=12 dist=  58.3 mean=     53.12 median=     52.20 std=     10.67 amp mean=      1.04 amp std=      0.08 angle_rms=      4.42\n",
      "antenna=DV24 oid=12 dist=  44.5 mean=     45.51 median=     43.02 std=     12.04 amp mean=      1.00 amp std=      0.08 angle_rms=      2.93\n",
      "antenna=DV25 oid=12 dist=  63.3 mean=     41.24 median=     41.20 std=     13.65 amp mean=      1.10 amp std=      0.10 angle_rms=      3.82\n"
     ]
    }
   ],
   "source": [
    "antstats = {}\n",
    "for oid in np.unique(data['OBSERVATION_ID']):\n",
    "    for antid in np.unique(data['ANTENNA1']):\n",
    "        msk = (data['ANTENNA1'] == antid) & (OK[0,0,:]) & fieldOKmask & (data['OBSERVATION_ID'] == oid)\n",
    "        if np.any(msk) and (antid, oid) in antnames:\n",
    "            dat = data['SNR'][1,0, msk]\n",
    "            ang = data['ANGLE'][1,0, msk]\n",
    "            amp = data['AMP'][1,0, msk]\n",
    "            print(f\"antenna={antnames[(antid,oid)]} oid={oid} dist={antdist[(antid,oid)]:6.1f} \"\n",
    "                  f\"mean={dat.mean():10.2f} median={np.median(dat):10.2f} \"\n",
    "                  f\"std={dat.std():10.2f} amp mean={amp.mean():10.2f} \"\n",
    "                  f\"amp std={amp.std():10.2f} angle_rms={ang.std()*180/np.pi:10.2f}\")\n",
    "            antstats[(antid,oid)] = {'mean':dat.mean(),\n",
    "                               'median':np.median(dat),\n",
    "                               'std': dat.std(),\n",
    "                               'angle_rms': ang.std(),\n",
    "                               'amp_mean': amp.mean(),\n",
    "                               'amp_std': amp.std(),\n",
    "                              }"
   ]
  },
  {
   "cell_type": "code",
   "execution_count": 24,
   "metadata": {},
   "outputs": [
    {
     "data": {
      "text/plain": [
       "<matplotlib.text.Text at 0x7fa583167d30>"
      ]
     },
     "execution_count": 24,
     "metadata": {},
     "output_type": "execute_result"
    },
    {
     "data": {
      "image/png": "[encoded data removed]",
      "text/plain": [
       "<matplotlib.figure.Figure at 0x7fa583351c18>"
      ]
     },
     "metadata": {
      "needs_background": "light"
     },
     "output_type": "display_data"
    }
   ],
   "source": [
    "uoids = np.unique(data['OBSERVATION_ID'])\n",
    "for oid in uoids:\n",
    "    pl.plot([antdist[(ant,oid)] for ant,_ in antstats  if (ant,oid) in antstats],\n",
    "            [antstats[(ant,oid)]['mean'] for ant,_ in antstats  if (ant,oid) in antstats],\n",
    "            'o')\n",
    "pl.xlabel(\"Distance from array center (m)\")\n",
    "pl.ylabel(\"Gaincal SNR\")    "
   ]
  },
  {
   "cell_type": "code",
   "execution_count": 25,
   "metadata": {},
   "outputs": [
    {
     "data": {
      "text/plain": [
       "<matplotlib.text.Text at 0x7fa5830a39e8>"
      ]
     },
     "execution_count": 25,
     "metadata": {},
     "output_type": "execute_result"
    },
    {
     "data": {
      "image/png": "[encoded data removed]",
      "text/plain": [
       "<matplotlib.figure.Figure at 0x7fa583167908>"
      ]
     },
     "metadata": {
      "needs_background": "light"
     },
     "output_type": "display_data"
    }
   ],
   "source": [
    "uoids = np.unique(data['OBSERVATION_ID'])\n",
    "for oid in uoids:\n",
    "    pl.plot([antdist[(ant,oid)] for ant,_ in antstats  if (ant,oid) in antstats],\n",
    "            [antstats[(ant,oid)]['amp_mean'] for ant,_ in antstats  if (ant,oid) in antstats],\n",
    "            'o')\n",
    "pl.xlabel(\"Distance from array center (m)\")\n",
    "pl.ylabel(\"Mean amplitude correction\")"
   ]
  },
  {
   "cell_type": "code",
   "execution_count": 26,
   "metadata": {},
   "outputs": [],
   "source": [
    "\n",
    "with CasaTable(caltable) as tb:\n",
    "    amp = np.abs(tb.getcol('CPARAM'))\n",
    "    angle = np.angle(tb.getcol('CPARAM'))\n",
    "    data6 = {col: tb.getcol(col) for col in tb.colnames() if col not in (\"WEIGHT\",)}\n",
    "data6['ANGLE'] = angle\n",
    "data6['AMP'] = amp"
   ]
  },
  {
   "cell_type": "code",
   "execution_count": null,
   "metadata": {},
   "outputs": [],
   "source": [
    "data=data6\n",
    "fieldOKmask = np.isin(data['FIELD_ID'], okfields)\n",
    "OK = data['SNR'] != 0\n",
    "antstats = {}\n",
    "for oid in np.unique(data['OBSERVATION_ID']):\n",
    "    for antid in np.unique(data['ANTENNA1']):\n",
    "        msk = (data['ANTENNA1'] == antid) & (OK[0,0,:]) & fieldOKmask & (data['OBSERVATION_ID'] == oid)\n",
    "        if np.any(msk) and (antid, oid) in antnames:\n",
    "            dat = data['SNR'][1,0, msk]\n",
    "            ang = data['ANGLE'][1,0, msk]\n",
    "            amp = data['AMP'][1,0, msk]\n",
    "            print(f\"antenna={antnames[(antid,oid)]} oid={oid} dist={antdist[(antid,oid)]:6.1f} \"\n",
    "                  f\"mean={dat.mean():10.2f} median={np.median(dat):10.2f} \"\n",
    "                  f\"std={dat.std():10.2f} amp mean={amp.mean():10.2f} \"\n",
    "                  f\"amp std={amp.std():10.2f} angle_rms={ang.std()*180/np.pi:10.2f}\")\n",
    "            antstats[(antid,oid)] = {'mean':dat.mean(),\n",
    "                               'median':np.median(dat),\n",
    "                               'std': dat.std(),\n",
    "                               'angle_rms': ang.std(),\n",
    "                               'amp_mean': amp.mean(),\n",
    "                               'amp_std': amp.std(),\n",
    "                              }"
   ]
  },
  {
   "cell_type": "code",
   "execution_count": null,
   "metadata": {},
   "outputs": [],
   "source": [
    "uoids = np.unique(data6['OBSERVATION_ID'])\n",
    "for oid in uoids:\n",
    "    pl.plot([antdist[(ant,oid)] for ant,_ in antstats  if (ant,oid) in antstats],\n",
    "            [antstats[(ant,oid)]['amp_mean'] for ant,_ in antstats  if (ant,oid) in antstats],\n",
    "            'o')\n",
    "pl.xlabel(\"Distance from array center (m)\")\n",
    "pl.ylabel(\"Mean amplitude correction\")"
   ]
  },
  {
   "cell_type": "code",
   "execution_count": null,
   "metadata": {},
   "outputs": [],
   "source": []
  },
  {
   "cell_type": "code",
   "execution_count": null,
   "metadata": {},
   "outputs": [],
   "source": []
  },
  {
   "cell_type": "code",
   "execution_count": null,
   "metadata": {},
   "outputs": [],
   "source": []
  }
 ],
 "metadata": {
  "kernelspec": {
   "display_name": "Python 3",
   "language": "python",
   "name": "python3"
  },
  "language_info": {
   "codemirror_mode": {
    "name": "ipython",
    "version": 3
   },
   "file_extension": ".py",
   "mimetype": "text/x-python",
   "name": "python",
   "nbconvert_exporter": "python",
   "pygments_lexer": "ipython3",
   "version": "3.6.0"
  }
 },
 "nbformat": 4,
 "nbformat_minor": 2
}
