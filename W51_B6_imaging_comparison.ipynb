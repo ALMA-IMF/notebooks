{
 "cells": [
  {
   "cell_type": "code",
   "execution_count": 1,
   "metadata": {},
   "outputs": [],
   "source": [
    "%matplotlib inline"
   ]
  },
  {
   "cell_type": "code",
   "execution_count": 2,
   "metadata": {},
   "outputs": [],
   "source": [
    "import numpy as np\n",
    "from astropy import units as u"
   ]
  },
  {
   "cell_type": "code",
   "execution_count": 3,
   "metadata": {},
   "outputs": [],
   "source": [
    "import pylab as pl\n",
    "pl.rcParams['figure.figsize'] = (16,8)"
   ]
  },
  {
   "cell_type": "code",
   "execution_count": 4,
   "metadata": {},
   "outputs": [],
   "source": [
    "import sys\n",
    "import glob\n",
    "sys.path.append('/lustre/naasc/users/aginsbur/repos/reduction/reduction/')\n",
    "import imp, diagnostic_images\n",
    "imp.reload(diagnostic_images)\n",
    "from diagnostic_images import load_images, show\n",
    "from spectral_cube import SpectralCube"
   ]
  },
  {
   "cell_type": "code",
   "execution_count": 5,
   "metadata": {},
   "outputs": [],
   "source": [
    "import os\n",
    "os.chdir(\"/lustre/naasc/projects/ALMA_IMF/2017.1.01355.L/imaging_results\")"
   ]
  },
  {
   "cell_type": "code",
   "execution_count": 6,
   "metadata": {},
   "outputs": [],
   "source": [
    "import nbformat as nbf\n",
    "import textwrap\n",
    "nb = nbf.v4.new_notebook()\n",
    "\n",
    "cells = []\n",
    "\n",
    "cells.append(nbf.v4.new_markdown_cell('''# Quicklooks of W51-E B6 images\n",
    "\n",
    "This notebook contains images of each of the images of W51-E B6 so far produced.  This notebook is generated and should not be edited.'''))\n",
    "\n",
    "with open('notebooks/preamble.py', 'r') as fh:\n",
    "    preamble = fh.read()\n",
    "    cells.append(nbf.v4.new_code_cell(preamble))\n",
    "\n",
    "# this cell is in the preamble, but apparently it needs to be done twice...\n",
    "cells.append(nbf.v4.new_code_cell(\"pl.rcParams['figure.figsize'] = (16,8)\"))\n",
    "cells.append(nbf.v4.new_code_cell(\"import warnings; warnings.filterwarnings(action='ignore', category=spectral_cube.utils.StokesWarning)\"))\n",
    "cells.append(nbf.v4.new_code_cell(\"import warnings; warnings.filterwarnings(action='ignore', category=spectral_cube.utils.BeamWarning)\"))\n",
    "\n",
    "    \n",
    "for fn in glob.glob(\"W51-E_B6*.image.tt0.pbcor\"):\n",
    "    basename = fn[:-16]\n",
    "    if os.path.exists(fn) and os.path.exists(basename+\".image.tt0\") and os.path.exists(basename+\".model.tt0\") and os.path.exists(basename+\".residual.tt0\"):\n",
    "        text = f\"\"\"\n",
    "        imgs, cubes = load_images(\"{basename}\")\n",
    "        print(\"{basename}\")\n",
    "        show(imgs, vmin=-0.001, vmax=0.01)\n",
    "        \"\"\"\n",
    "        cells.append(nbf.v4.new_code_cell(textwrap.dedent(text).strip()))\n",
    "\n",
    "nb['cells'] = cells\n",
    "nbf.write(nb, 'notebooks/W51_B6_quicklooks.ipynb')"
   ]
  },
  {
   "cell_type": "code",
   "execution_count": null,
   "metadata": {},
   "outputs": [],
   "source": []
  }
 ],
 "metadata": {
  "kernelspec": {
   "display_name": "Python 3",
   "language": "python",
   "name": "python3"
  },
  "language_info": {
   "codemirror_mode": {
    "name": "ipython",
    "version": 3
   },
   "file_extension": ".py",
   "mimetype": "text/x-python",
   "name": "python",
   "nbconvert_exporter": "python",
   "pygments_lexer": "ipython3",
   "version": "3.6.0"
  }
 },
 "nbformat": 4,
 "nbformat_minor": 2
}
