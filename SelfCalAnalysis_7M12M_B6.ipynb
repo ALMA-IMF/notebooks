{
 "cells": [
  {
   "cell_type": "code",
   "execution_count": 1,
   "metadata": {},
   "outputs": [],
   "source": [
    "\n",
    "%matplotlib notebook"
   ]
  },
  {
   "cell_type": "code",
   "execution_count": 2,
   "metadata": {},
   "outputs": [],
   "source": [
    "import pylab as pl\n",
    "import numpy as np"
   ]
  },
  {
   "cell_type": "markdown",
   "metadata": {},
   "source": [
    "### this code snippet will load the next cell with the global preamble\n",
    "\n",
    "```\n",
    "with open('preamble.py', 'r') as fh:\n",
    "    preamble = fh.read()\n",
    "get_ipython().set_next_input(preamble)\n",
    "```"
   ]
  },
  {
   "cell_type": "code",
   "execution_count": 3,
   "metadata": {},
   "outputs": [],
   "source": [
    "%matplotlib inline\n",
    "import numpy as np\n",
    "from astropy import units as u\n",
    "import pylab as pl\n",
    "pl.rcParams['figure.figsize'] = (16,8)\n",
    "import sys\n",
    "import glob\n",
    "sys.path.append('/lustre/naasc/users/aginsbur/repos/reduction/reduction/')\n",
    "import imp, diagnostic_images\n",
    "imp.reload(diagnostic_images)\n",
    "from diagnostic_images import load_images, show\n",
    "from spectral_cube import SpectralCube\n",
    "import selfcal_heuristics\n",
    "import spectral_cube\n",
    "import os\n",
    "os.chdir(\"/lustre/naasc/projects/ALMA_IMF/2017.1.01355.L/imaging_results\")"
   ]
  },
  {
   "cell_type": "code",
   "execution_count": 4,
   "metadata": {},
   "outputs": [],
   "source": [
    "import casatools\n",
    "tb = casatools.table()\n",
    "msmd = casatools.msmetadata()\n",
    "ms = casatools.ms()"
   ]
  },
  {
   "cell_type": "code",
   "execution_count": 7,
   "metadata": {},
   "outputs": [
    {
     "data": {
      "text/plain": [
       "True"
      ]
     },
     "execution_count": 7,
     "metadata": {},
     "output_type": "execute_result"
    }
   ],
   "source": [
    "caltable = '../W51-E_B6_uid___A001_X1296_X215_continuum_merged_7M12M_phase2_int.cal/'\n",
    "tb.open(caltable)\n",
    "data = {col: tb.getcol(col) for col in tb.colnames() if col not in (\"WEIGHT\",)}\n",
    "data['ANGLE'] = np.angle(data['CPARAM'])\n",
    "tb.close()"
   ]
  },
  {
   "cell_type": "code",
   "execution_count": 8,
   "metadata": {},
   "outputs": [
    {
     "name": "stdout",
     "output_type": "stream",
     "text": [
      "[4, 6, 7, 17, 18, 32] [1, 2, 3, 5, 8, 9, 10, 11, 12, 13, 14, 15, 16, 19, 20, 21, 22, 23, 24, 25, 26, 27, 28, 29, 30, 31, 33, 34, 35, 36, 37]\n"
     ]
    }
   ],
   "source": [
    "okfields,notokfields = selfcal_heuristics.goodenough_field_solutions(caltable,\n",
    "                                                                     minsnr=5)\n",
    "print(okfields, notokfields)"
   ]
  },
  {
   "cell_type": "code",
   "execution_count": 9,
   "metadata": {},
   "outputs": [],
   "source": [
    "fieldOKmask = np.isin(data['FIELD_ID'], okfields)"
   ]
  },
  {
   "cell_type": "code",
   "execution_count": 10,
   "metadata": {},
   "outputs": [],
   "source": [
    "msfile = '../W51-E_B6_uid___A001_X1296_X215_continuum_merged_7M12M_selfcal.ms/'"
   ]
  },
  {
   "cell_type": "code",
   "execution_count": null,
   "metadata": {},
   "outputs": [],
   "source": []
  },
  {
   "cell_type": "code",
   "execution_count": null,
   "metadata": {},
   "outputs": [],
   "source": []
  },
  {
   "cell_type": "code",
   "execution_count": 11,
   "metadata": {},
   "outputs": [
    {
     "name": "stdout",
     "output_type": "stream",
     "text": [
      "[ 1  2  3  4  5  6  7  8  9 10 11 12 13 14 15 16 17 18 19 20 21 22 23 24 25\n",
      " 26 27 28 29 30 31 32 33 34 35 36 37]\n"
     ]
    }
   ],
   "source": [
    "fids = np.unique(data['FIELD_ID'])\n",
    "print(fids)"
   ]
  },
  {
   "cell_type": "code",
   "execution_count": 12,
   "metadata": {},
   "outputs": [
    {
     "name": "stdout",
     "output_type": "stream",
     "text": [
      "[ 0  1  2  3  4  5  6  7  8  9 10 11 12]\n"
     ]
    }
   ],
   "source": [
    "oids = np.unique(data['OBSERVATION_ID'])\n",
    "print(oids)"
   ]
  },
  {
   "cell_type": "code",
   "execution_count": 24,
   "metadata": {},
   "outputs": [],
   "source": [
    "uoids = np.unique(data['OBSERVATION_ID'])"
   ]
  },
  {
   "cell_type": "code",
   "execution_count": 13,
   "metadata": {},
   "outputs": [
    {
     "name": "stdout",
     "output_type": "stream",
     "text": [
      "[ 0  1  2  3  4  5  6  7  8  9 10 11 12 13 14 15 16 17 18 19 20 21 22 23 24\n",
      " 25 26 27 28 29 30 31 32 33 34 35 36 37 38 39 40 41 42 43 44 45 46 47 48 49\n",
      " 50 51 52 53 54 55 56 57 58 59 60 61 62 63 64 65 66 67 68 69 70 71 72 73 74\n",
      " 75 76 77]\n"
     ]
    }
   ],
   "source": [
    "spwids = np.unique(data['SPECTRAL_WINDOW_ID'])\n",
    "print(spwids)"
   ]
  },
  {
   "cell_type": "code",
   "execution_count": 14,
   "metadata": {},
   "outputs": [
    {
     "name": "stdout",
     "output_type": "stream",
     "text": [
      "OID 0 has fields [1, 2, 3, 4, 5, 6, 7, 8, 9, 10]\n",
      "OID 1 has fields [1, 2, 3, 4, 5, 6, 7, 8, 9, 10]\n",
      "OID 2 has fields [11, 12, 13, 14, 15, 16, 17, 18, 19, 20, 21, 22, 23, 24, 25, 26, 27, 28, 29, 30, 31, 32, 33, 34, 35, 36, 37]\n",
      "OID 3 has fields [11, 12, 13, 14, 15, 16, 17, 18, 19, 20, 21, 22, 23, 24, 25, 26, 27, 28, 29, 30, 31, 32, 33, 34, 35, 36, 37]\n",
      "OID 4 has fields [1, 2, 3, 4, 5, 6, 7, 8, 9, 10]\n",
      "OID 5 has fields [1, 2, 3, 4, 5, 6, 7, 8, 9, 10]\n",
      "OID 6 has fields [1, 2, 3, 4, 5, 6, 7, 8, 9, 10]\n",
      "OID 7 has fields [1, 2, 3, 4, 5, 6, 7, 8, 9, 10]\n",
      "OID 8 has fields [1, 2, 3, 4, 5, 6, 7, 8, 9, 10]\n",
      "OID 9 has fields [1, 2, 3, 4, 5, 6, 7, 8, 9, 10]\n",
      "OID 10 has fields [1, 2, 3, 4, 5, 6, 7, 8, 9, 10]\n",
      "OID 11 has fields [1, 2, 3, 4, 5, 6, 7, 8, 9, 10]\n",
      "OID 12 has fields [11, 12, 13, 14, 15, 16, 17, 18, 19, 20, 21, 22, 23, 24, 25, 26, 27, 28, 29, 30, 31, 32, 33, 34, 35, 36, 37]\n"
     ]
    }
   ],
   "source": [
    "# which observations contain which fields?\n",
    "for oid in oids:\n",
    "    oid_match = data['OBSERVATION_ID'] == oid\n",
    "    has_fid = [fid for fid in fids if np.any((data['FIELD_ID'] == fid) & oid_match)]\n",
    "    print(f\"OID {oid} has fields {has_fid}\")"
   ]
  },
  {
   "cell_type": "markdown",
   "metadata": {},
   "source": [
    "fids_12m = [14, 15, 16, 17, 18, 19, 20, 21, 22, 23, 24, 25, 26, 27, 28, 29, 30, 31, 32, 33, 34, 35, 36, 37, 38, 39, 40, 41, 42, 44]fids_7m = [0, 2, 4, 5, 6, 7, 8, 9, 10, 11, 12, 13, 15]\n"
   ]
  },
  {
   "cell_type": "code",
   "execution_count": 15,
   "metadata": {},
   "outputs": [],
   "source": [
    "fids_12m = [11, 12, 13, 14, 15, 16, 17, 18, 19, 20, 21, 22, 23, 24, 25, 26, 27, 28, 29, 30, 31, 32, 33, 34, 35, 36, 37]"
   ]
  },
  {
   "cell_type": "code",
   "execution_count": null,
   "metadata": {},
   "outputs": [],
   "source": [
    "fids_7m = [1,2,3,4,5,6,7,8,9,10]"
   ]
  },
  {
   "cell_type": "code",
   "execution_count": 16,
   "metadata": {},
   "outputs": [
    {
     "name": "stdout",
     "output_type": "stream",
     "text": [
      "{'TIME': (2038480,), 'FIELD_ID': (2038480,), 'SPECTRAL_WINDOW_ID': (2038480,), 'ANTENNA1': (2038480,), 'ANTENNA2': (2038480,), 'INTERVAL': (2038480,), 'SCAN_NUMBER': (2038480,), 'OBSERVATION_ID': (2038480,), 'CPARAM': (2, 1, 2038480), 'PARAMERR': (2, 1, 2038480), 'FLAG': (2, 1, 2038480), 'SNR': (2, 1, 2038480), 'ANGLE': (2, 1, 2038480)}\n"
     ]
    }
   ],
   "source": [
    "print({col: data[col].shape for col in data})"
   ]
  },
  {
   "cell_type": "code",
   "execution_count": 17,
   "metadata": {},
   "outputs": [
    {
     "data": {
      "image/png": "[encoded data removed]",
      "text/plain": [
       "<matplotlib.figure.Figure at 0x7fda80ebb208>"
      ]
     },
     "metadata": {
      "needs_background": "light"
     },
     "output_type": "display_data"
    }
   ],
   "source": [
    "OK = data['SNR'] != 0\n",
    "\n",
    "toplot = [data['SNR'][0,0, (data['FIELD_ID'] == 14) & (OK[0,0,:]) & (data['SPECTRAL_WINDOW_ID'] == spwid)]\n",
    "          for spwid in spwids]\n",
    "\n",
    "H,L,P = pl.hist(toplot, bins=50, stacked=True)"
   ]
  },
  {
   "cell_type": "code",
   "execution_count": 18,
   "metadata": {},
   "outputs": [
    {
     "data": {
      "image/png": "[encoded data removed]",
      "text/plain": [
       "<matplotlib.figure.Figure at 0x7fda82dd2da0>"
      ]
     },
     "metadata": {
      "needs_background": "light"
     },
     "output_type": "display_data"
    }
   ],
   "source": [
    "OK = data['SNR'] != 0\n",
    "fieldOKmask = np.isin(data['FIELD_ID'], okfields)\n",
    "fieldOKmask = True\n",
    "\n",
    "toplot = [data['SNR'][0,0, fieldOKmask & (OK[0,0,:]) & (data['ANTENNA1'] == ant)]\n",
    "          for ant in np.unique(data['ANTENNA1'])]\n",
    "toplot = [x for x in toplot if len(x) > 0]\n",
    "\n",
    "_ = pl.boxplot(toplot)"
   ]
  },
  {
   "cell_type": "code",
   "execution_count": 19,
   "metadata": {},
   "outputs": [
    {
     "data": {
      "image/png": "[encoded data removed]",
      "text/plain": [
       "<matplotlib.figure.Figure at 0x7fda73fc68d0>"
      ]
     },
     "metadata": {
      "needs_background": "light"
     },
     "output_type": "display_data"
    }
   ],
   "source": [
    "OK = data['SNR'] != 0\n",
    "\n",
    "toplot = [data['SNR'][0,0, (data['FIELD_ID'] == fid) & (OK[0,0,:])]\n",
    "          for fid in fids_12m]\n",
    "\n",
    "pl.subplot(1,2,1)\n",
    "H,L,P = pl.hist(toplot, bins=50, stacked=True)\n",
    "\n",
    "toplot = [data['SNR'][1,0, (data['FIELD_ID'] == fid) & (OK[0,0,:])]\n",
    "          for fid in fids_12m]\n",
    "\n",
    "pl.subplot(1,2,2)\n",
    "H,L,P = pl.hist(toplot, bins=50, stacked=True)"
   ]
  },
  {
   "cell_type": "markdown",
   "metadata": {},
   "source": [
    "Per-field stats:"
   ]
  },
  {
   "cell_type": "code",
   "execution_count": 20,
   "metadata": {},
   "outputs": [
    {
     "name": "stdout",
     "output_type": "stream",
     "text": [
      "fid=001 mean=     22.41 median=     22.05 std=      8.35 angle_mean=      0.54 angle_rms=     11.58\n",
      "fid=002 mean=     10.76 median=     10.64 std=      3.50 angle_mean=      2.66 angle_rms=     12.70\n",
      "fid=003 mean=     29.87 median=     29.48 std=      9.33 angle_mean=      2.27 angle_rms=      3.65\n",
      "fid=004 mean=     53.98 median=     52.96 std=     19.83 angle_mean=      0.96 angle_rms=      2.16\n",
      "fid=005 mean=     28.92 median=     28.05 std=     10.03 angle_mean=      1.14 angle_rms=      3.26\n",
      "fid=006 mean=     45.95 median=     44.03 std=     15.03 angle_mean=      1.10 angle_rms=      1.80\n",
      "fid=007 mean=     56.67 median=     53.49 std=     19.91 angle_mean=      0.20 angle_rms=      1.22\n",
      "fid=008 mean=     12.20 median=     12.02 std=      3.58 angle_mean=      2.32 angle_rms=      4.92\n",
      "fid=009 mean=     34.65 median=     33.27 std=     10.41 angle_mean=     -0.01 angle_rms=      1.56\n",
      "fid=010 mean=     26.05 median=     24.04 std=     11.36 angle_mean=     -0.99 angle_rms=      2.56\n",
      "fid=011 mean=      3.09 median=      3.05 std=      2.93 angle_mean=     -7.93 angle_rms=     66.83\n",
      "fid=012 mean=      3.80 median=      4.11 std=      3.15 angle_mean=     12.65 angle_rms=     56.03\n",
      "fid=013 mean=      4.56 median=      4.88 std=      3.46 angle_mean=     12.54 angle_rms=     35.45\n",
      "fid=014 mean=      1.48 median=      0.00 std=      1.98 angle_mean=      1.97 angle_rms=     35.54\n",
      "fid=015 mean=      4.13 median=      4.57 std=      2.95 angle_mean=      5.66 angle_rms=     69.14\n",
      "fid=016 mean=     13.97 median=     13.43 std=      7.99 angle_mean=     19.79 angle_rms=     65.27\n",
      "fid=017 mean=     29.30 median=     30.43 std=     14.99 angle_mean=     31.36 angle_rms=     64.77\n",
      "fid=018 mean=     22.21 median=     22.06 std=     12.37 angle_mean=     32.79 angle_rms=     63.28\n",
      "fid=019 mean=      1.51 median=      0.00 std=      2.16 angle_mean=      2.62 angle_rms=     38.10\n",
      "fid=020 mean=      8.98 median=      9.17 std=      4.85 angle_mean=     13.10 angle_rms=     96.35\n",
      "fid=021 mean=     41.71 median=     43.10 std=     24.01 angle_mean=     28.15 angle_rms=     85.85\n",
      "fid=022 mean=     44.01 median=     42.48 std=     27.89 angle_mean=     32.85 angle_rms=     79.24\n",
      "fid=023 mean=     28.59 median=     27.87 std=     16.40 angle_mean=     30.07 angle_rms=     76.70\n",
      "fid=024 mean=      0.83 median=      0.00 std=      1.32 angle_mean=     -1.01 angle_rms=     23.29\n",
      "fid=025 mean=     30.94 median=     32.94 std=     15.07 angle_mean=      9.84 angle_rms=    103.54\n",
      "fid=026 mean=     54.65 median=     55.75 std=     30.36 angle_mean=     27.27 angle_rms=     92.30\n",
      "fid=027 mean=     49.89 median=     50.98 std=     28.24 angle_mean=     33.89 angle_rms=     77.16\n",
      "fid=028 mean=     17.72 median=     16.15 std=     10.64 angle_mean=     15.18 angle_rms=     84.67\n",
      "fid=029 mean=      5.85 median=      6.05 std=      3.28 angle_mean=     -3.71 angle_rms=     71.33\n",
      "fid=030 mean=     31.75 median=     29.77 std=     20.27 angle_mean=     10.85 angle_rms=    102.44\n",
      "fid=031 mean=     49.10 median=     48.61 std=     28.72 angle_mean=     24.43 angle_rms=     84.38\n",
      "fid=032 mean=     28.31 median=     25.93 std=     19.10 angle_mean=     16.59 angle_rms=     73.24\n",
      "fid=033 mean=      0.83 median=      0.00 std=      1.34 angle_mean=     -0.07 angle_rms=     23.20\n",
      "fid=034 mean=      5.43 median=      5.75 std=      3.00 angle_mean=    -16.63 angle_rms=     57.17\n",
      "fid=035 mean=     13.55 median=     13.29 std=      8.30 angle_mean=      8.00 angle_rms=     93.33\n",
      "fid=036 mean=     12.49 median=     10.80 std=      9.87 angle_mean=     -0.56 angle_rms=     70.05\n",
      "fid=037 mean=      0.77 median=      0.00 std=      1.23 angle_mean=      0.11 angle_rms=     25.45\n"
     ]
    }
   ],
   "source": [
    "for fid in fids:\n",
    "    dat = data['SNR'][1,0, (data['FIELD_ID'] == fid) & (OK[0,0,:])]\n",
    "    ang = data['ANGLE'][1,0, (data['FIELD_ID'] == fid) & (OK[0,0,:])] * 180/np.pi\n",
    "    print(f\"fid={fid:03d} mean={dat.mean():10.2f} median={np.median(dat):10.2f} std={dat.std():10.2f} angle_mean={ang.mean():10.2f} angle_rms={ang.std():10.2f}\")"
   ]
  },
  {
   "cell_type": "code",
   "execution_count": 21,
   "metadata": {},
   "outputs": [
    {
     "data": {
      "text/plain": [
       "True"
      ]
     },
     "execution_count": 21,
     "metadata": {},
     "output_type": "execute_result"
    }
   ],
   "source": [
    "msmd.open(msfile)\n",
    "# assumption: np.unique(ant1) is an ordered 0...82 list\n",
    "antnames = {k:v for k,v in enumerate(msmd.antennanames(np.unique(data['ANTENNA1'])))}\n",
    "antdist = {k:(msmd.antennaoffset(k)['latitude offset']['value']**2 + msmd.antennaoffset(k)['longitude offset']['value']**2)**0.5\n",
    "           for k in antnames}\n",
    "msmd.close()"
   ]
  },
  {
   "cell_type": "code",
   "execution_count": null,
   "metadata": {},
   "outputs": [],
   "source": []
  },
  {
   "cell_type": "code",
   "execution_count": 22,
   "metadata": {},
   "outputs": [
    {
     "data": {
      "text/plain": [
       "(array([ 5600.,     0.,   360.,     0.,     0.,     0.,     0.,     0.,\n",
       "            0.,     0.,     0.,     0.,     0.,     0.,     0.,     0.,\n",
       "            0.,     0.,     0.,     0.,     0.,     0.,     0.,     0.,\n",
       "            0.,     0.,     0.,     0.,     0.,     0.,     0.,     0.,\n",
       "            0.,     0.,     0.,     0.,     0.,     0.,     0.,     0.,\n",
       "            0.,     0.,     0.,     0.,     0.,     0.,     0.,     0.,\n",
       "            0.,   560.]),\n",
       " array([  1.70861969e+01,   6.37955598e+07,   1.27591102e+08,\n",
       "          1.91386645e+08,   2.55182188e+08,   3.18977731e+08,\n",
       "          3.82773273e+08,   4.46568816e+08,   5.10364359e+08,\n",
       "          5.74159901e+08,   6.37955444e+08,   7.01750987e+08,\n",
       "          7.65546529e+08,   8.29342072e+08,   8.93137615e+08,\n",
       "          9.56933158e+08,   1.02072870e+09,   1.08452424e+09,\n",
       "          1.14831979e+09,   1.21211533e+09,   1.27591087e+09,\n",
       "          1.33970641e+09,   1.40350196e+09,   1.46729750e+09,\n",
       "          1.53109304e+09,   1.59488858e+09,   1.65868413e+09,\n",
       "          1.72247967e+09,   1.78627521e+09,   1.85007076e+09,\n",
       "          1.91386630e+09,   1.97766184e+09,   2.04145738e+09,\n",
       "          2.10525293e+09,   2.16904847e+09,   2.23284401e+09,\n",
       "          2.29663955e+09,   2.36043510e+09,   2.42423064e+09,\n",
       "          2.48802618e+09,   2.55182173e+09,   2.61561727e+09,\n",
       "          2.67941281e+09,   2.74320835e+09,   2.80700390e+09,\n",
       "          2.87079944e+09,   2.93459498e+09,   2.99839052e+09,\n",
       "          3.06218607e+09,   3.12598161e+09,   3.18977715e+09]),\n",
       " <a list of 50 Patch objects>)"
      ]
     },
     "execution_count": 22,
     "metadata": {},
     "output_type": "execute_result"
    },
    {
     "data": {
      "image/png": "[encoded data removed]",
      "text/plain": [
       "<matplotlib.figure.Figure at 0x7fda6d020358>"
      ]
     },
     "metadata": {
      "needs_background": "light"
     },
     "output_type": "display_data"
    }
   ],
   "source": [
    "ms.open(msfile)\n",
    "ms.selectinit(datadescid=0, reset=True)\n",
    "ms.select(items={'antenna1': 0})\n",
    "weights = ms.getdata(items=['WEIGHT'])['weight']\n",
    "ms.close()\n",
    "pl.hist(weights.ravel(), bins=50)"
   ]
  },
  {
   "cell_type": "code",
   "execution_count": null,
   "metadata": {},
   "outputs": [],
   "source": []
  },
  {
   "cell_type": "code",
   "execution_count": 47,
   "metadata": {},
   "outputs": [
    {
     "name": "stdout",
     "output_type": "stream",
     "text": [
      "Experiments with just one antenna\n"
     ]
    },
    {
     "data": {
      "text/plain": [
       "True"
      ]
     },
     "execution_count": 47,
     "metadata": {},
     "output_type": "execute_result"
    }
   ],
   "source": [
    "print(\"Experiments with just one antenna\")\n",
    "ms.open(msfile)\n",
    "\n",
    "ms.selectinit(oid, reset=True)\n",
    "ms.select(items={'antenna1': 0, 'spw': 0}, )\n",
    "msdata = ms.getdata(items=['WEIGHT', 'ANTENNA1', 'FLAG'])\n",
    "\n",
    "ms.close()"
   ]
  },
  {
   "cell_type": "code",
   "execution_count": 48,
   "metadata": {},
   "outputs": [
    {
     "data": {
      "text/plain": [
       "{'antenna1': (3260,), 'flag': (2, 2, 3260), 'weight': (2, 3260)}"
      ]
     },
     "execution_count": 48,
     "metadata": {},
     "output_type": "execute_result"
    }
   ],
   "source": [
    "{x:msdata[x].shape for x in msdata}"
   ]
  },
  {
   "cell_type": "code",
   "execution_count": 49,
   "metadata": {},
   "outputs": [
    {
     "data": {
      "text/plain": [
       "True"
      ]
     },
     "execution_count": 49,
     "metadata": {},
     "output_type": "execute_result"
    }
   ],
   "source": [
    "np.all(msdata['flag'][0,:,:,] == msdata['flag'][1,:,:])"
   ]
  },
  {
   "cell_type": "code",
   "execution_count": 50,
   "metadata": {},
   "outputs": [
    {
     "data": {
      "text/plain": [
       "True"
      ]
     },
     "execution_count": 50,
     "metadata": {},
     "output_type": "execute_result"
    }
   ],
   "source": [
    "np.all(msdata['flag'][:,0,:,] == msdata['flag'][:,1,:])"
   ]
  },
  {
   "cell_type": "markdown",
   "metadata": {},
   "source": [
    "raise \"TODO: figure out what the extra dimensions are in 'flag'.  Are weights applied per polarization or per spectral window?\"\n",
    "\n",
    "\n",
    "Still don't know..."
   ]
  },
  {
   "cell_type": "code",
   "execution_count": 53,
   "metadata": {},
   "outputs": [
    {
     "name": "stdout",
     "output_type": "stream",
     "text": [
      "TEST\n",
      "oid 0 ant 0:  {'flagfrac': 0.7294478527607362, 'mean': 49.523254512388959, 'median': 46.415332794189453, 'std': 16.367019681008614, 'mad': 14.581985307895764}\n",
      "oid 0 ant 1:  {'flagfrac': 0.647986577181208, 'mean': 36.991546772683201, 'median': 32.269645690917969, 'std': 14.111324582909816, 'mad': 12.750139278374311}\n",
      "oid 0 ant 2:  {'flagfrac': 1.0, 'mean': nan, 'median': nan, 'std': nan, 'mad': nan}\n",
      "oid 0 ant 3:  {'flagfrac': 0.73966942148760328, 'mean': 37.578599502926778, 'median': 36.068374633789062, 'std': 7.7668891961453959, 'mad': 7.582443912893881}\n",
      "oid 0 ant 4:  {'flagfrac': 0.25, 'mean': 40.487302478897234, 'median': 40.914077758789062, 'std': 11.833573039868678, 'mad': 12.582386194561236}\n",
      "oid 0 ant 5:  {'flagfrac': 0.33924731182795698, 'mean': 45.358709166940386, 'median': 45.808467864990234, 'std': 9.5717138482010284, 'mad': 10.298538329014667}\n",
      "oid 0 ant 6:  {'flagfrac': 0.31835443037974681, 'mean': 43.617806788827934, 'median': 38.229640960693359, 'std': 14.37049006236777, 'mad': 9.9427848318969012}\n",
      "oid 0 ant 7:  {'flagfrac': 0.38692307692307693, 'mean': 52.484710389428038, 'median': 51.562786102294922, 'std': 11.30885241534204, 'mad': 12.090540102595218}\n",
      "oid 0 ant 8:  {'flagfrac': 0.49313725490196081, 'mean': 52.75701343897925, 'median': 50.668846130371094, 'std': 11.570407425144733, 'mad': 11.859369894315806}\n"
     ]
    },
    {
     "name": "stderr",
     "output_type": "stream",
     "text": [
      "/lustre/naasc/users/aginsbur/anaconda/lib/python3.6/site-packages/ipykernel_launcher.py:17: RuntimeWarning: Mean of empty slice.\n",
      "/lustre/naasc/users/aginsbur/anaconda/lib/python3.6/site-packages/numpy/core/fromnumeric.py:2909: RuntimeWarning: Mean of empty slice.\n",
      "  out=out, **kwargs)\n",
      "/lustre/naasc/users/aginsbur/anaconda/lib/python3.6/site-packages/numpy/core/_methods.py:135: RuntimeWarning: Degrees of freedom <= 0 for slice\n",
      "  keepdims=keepdims)\n",
      "/lustre/naasc/users/aginsbur/anaconda/lib/python3.6/site-packages/numpy/core/_methods.py:105: RuntimeWarning: invalid value encountered in true_divide\n",
      "  arrmean, rcount, out=arrmean, casting='unsafe', subok=False)\n",
      "/lustre/naasc/users/aginsbur/anaconda/lib/python3.6/site-packages/numpy/core/_methods.py:127: RuntimeWarning: invalid value encountered in double_scalars\n",
      "  ret = ret.dtype.type(ret / rcount)\n"
     ]
    },
    {
     "name": "stdout",
     "output_type": "stream",
     "text": [
      "oid 0 ant 9:  {'flagfrac': 0.67972972972972978, 'mean': 55.286711125434202, 'median': 54.639305114746094, 'std': 6.9207293934241232, 'mad': 7.5730045852621757}\n",
      "oid 0 ant 10:  {'flagfrac': 1.0, 'mean': nan, 'median': nan, 'std': nan, 'mad': nan}\n",
      "oid 1 ant 0:  {'flagfrac': 0.7294478527607362, 'mean': 49.523254512388959, 'median': 46.415332794189453, 'std': 16.367019681008614, 'mad': 14.581985307895764}\n",
      "oid 1 ant 1:  {'flagfrac': 0.647986577181208, 'mean': 36.991546772683201, 'median': 32.269645690917969, 'std': 14.111324582909816, 'mad': 12.750139278374311}\n",
      "oid 1 ant 2:  {'flagfrac': 1.0, 'mean': nan, 'median': nan, 'std': nan, 'mad': nan}\n",
      "oid 1 ant 3:  {'flagfrac': 0.73966942148760328, 'mean': 37.578599502926778, 'median': 36.068374633789062, 'std': 7.7668891961453959, 'mad': 7.582443912893881}\n",
      "oid 1 ant 4:  {'flagfrac': 0.25, 'mean': 40.487302478897234, 'median': 40.914077758789062, 'std': 11.833573039868678, 'mad': 12.582386194561236}\n",
      "oid 1 ant 5:  {'flagfrac': 0.33924731182795698, 'mean': 45.358709166940386, 'median': 45.808467864990234, 'std': 9.5717138482010284, 'mad': 10.298538329014667}\n",
      "oid 1 ant 6:  {'flagfrac': 0.31835443037974681, 'mean': 43.617806788827934, 'median': 38.229640960693359, 'std': 14.37049006236777, 'mad': 9.9427848318969012}\n",
      "oid 1 ant 7:  {'flagfrac': 0.38692307692307693, 'mean': 52.484710389428038, 'median': 51.562786102294922, 'std': 11.30885241534204, 'mad': 12.090540102595218}\n",
      "oid 1 ant 8:  {'flagfrac': 0.49313725490196081, 'mean': 52.75701343897925, 'median': 50.668846130371094, 'std': 11.570407425144733, 'mad': 11.859369894315806}\n",
      "oid 1 ant 9:  {'flagfrac': 0.67972972972972978, 'mean': 55.286711125434202, 'median': 54.639305114746094, 'std': 6.9207293934241232, 'mad': 7.5730045852621757}\n",
      "oid 1 ant 10:  {'flagfrac': 1.0, 'mean': nan, 'median': nan, 'std': nan, 'mad': nan}\n",
      "oid 2 ant 0:  {'flagfrac': 0.7294478527607362, 'mean': 49.523254512388959, 'median': 46.415332794189453, 'std': 16.367019681008614, 'mad': 14.581985307895764}\n",
      "oid 2 ant 1:  {'flagfrac': 0.647986577181208, 'mean': 36.991546772683201, 'median': 32.269645690917969, 'std': 14.111324582909816, 'mad': 12.750139278374311}\n",
      "oid 2 ant 2:  {'flagfrac': 1.0, 'mean': nan, 'median': nan, 'std': nan, 'mad': nan}\n",
      "oid 2 ant 3:  {'flagfrac': 0.73966942148760328, 'mean': 37.578599502926778, 'median': 36.068374633789062, 'std': 7.7668891961453959, 'mad': 7.582443912893881}\n",
      "oid 2 ant 4:  {'flagfrac': 0.25, 'mean': 40.487302478897234, 'median': 40.914077758789062, 'std': 11.833573039868678, 'mad': 12.582386194561236}\n",
      "oid 2 ant 5:  {'flagfrac': 0.33924731182795698, 'mean': 45.358709166940386, 'median': 45.808467864990234, 'std': 9.5717138482010284, 'mad': 10.298538329014667}\n",
      "oid 2 ant 6:  {'flagfrac': 0.31835443037974681, 'mean': 43.617806788827934, 'median': 38.229640960693359, 'std': 14.37049006236777, 'mad': 9.9427848318969012}\n",
      "oid 2 ant 7:  {'flagfrac': 0.38692307692307693, 'mean': 52.484710389428038, 'median': 51.562786102294922, 'std': 11.30885241534204, 'mad': 12.090540102595218}\n",
      "oid 2 ant 8:  {'flagfrac': 0.49313725490196081, 'mean': 52.75701343897925, 'median': 50.668846130371094, 'std': 11.570407425144733, 'mad': 11.859369894315806}\n",
      "oid 2 ant 9:  {'flagfrac': 0.67972972972972978, 'mean': 55.286711125434202, 'median': 54.639305114746094, 'std': 6.9207293934241232, 'mad': 7.5730045852621757}\n",
      "oid 2 ant 10:  {'flagfrac': 1.0, 'mean': nan, 'median': nan, 'std': nan, 'mad': nan}\n",
      "oid 3 ant 0:  {'flagfrac': 0.7294478527607362, 'mean': 49.523254512388959, 'median': 46.415332794189453, 'std': 16.367019681008614, 'mad': 14.581985307895764}\n",
      "oid 3 ant 1:  {'flagfrac': 0.647986577181208, 'mean': 36.991546772683201, 'median': 32.269645690917969, 'std': 14.111324582909816, 'mad': 12.750139278374311}\n",
      "oid 3 ant 2:  {'flagfrac': 1.0, 'mean': nan, 'median': nan, 'std': nan, 'mad': nan}\n",
      "oid 3 ant 3:  {'flagfrac': 0.73966942148760328, 'mean': 37.578599502926778, 'median': 36.068374633789062, 'std': 7.7668891961453959, 'mad': 7.582443912893881}\n",
      "oid 3 ant 4:  {'flagfrac': 0.25, 'mean': 40.487302478897234, 'median': 40.914077758789062, 'std': 11.833573039868678, 'mad': 12.582386194561236}\n",
      "oid 3 ant 5:  {'flagfrac': 0.33924731182795698, 'mean': 45.358709166940386, 'median': 45.808467864990234, 'std': 9.5717138482010284, 'mad': 10.298538329014667}\n",
      "oid 3 ant 6:  {'flagfrac': 0.31835443037974681, 'mean': 43.617806788827934, 'median': 38.229640960693359, 'std': 14.37049006236777, 'mad': 9.9427848318969012}\n",
      "oid 3 ant 7:  {'flagfrac': 0.38692307692307693, 'mean': 52.484710389428038, 'median': 51.562786102294922, 'std': 11.30885241534204, 'mad': 12.090540102595218}\n",
      "oid 3 ant 8:  {'flagfrac': 0.49313725490196081, 'mean': 52.75701343897925, 'median': 50.668846130371094, 'std': 11.570407425144733, 'mad': 11.859369894315806}\n",
      "oid 3 ant 9:  {'flagfrac': 0.67972972972972978, 'mean': 55.286711125434202, 'median': 54.639305114746094, 'std': 6.9207293934241232, 'mad': 7.5730045852621757}\n",
      "oid 3 ant 10:  {'flagfrac': 1.0, 'mean': nan, 'median': nan, 'std': nan, 'mad': nan}\n",
      "oid 4 ant 0:  {'flagfrac': 0.7294478527607362, 'mean': 49.523254512388959, 'median': 46.415332794189453, 'std': 16.367019681008614, 'mad': 14.581985307895764}\n",
      "oid 4 ant 1:  {'flagfrac': 0.647986577181208, 'mean': 36.991546772683201, 'median': 32.269645690917969, 'std': 14.111324582909816, 'mad': 12.750139278374311}\n",
      "oid 4 ant 2:  {'flagfrac': 1.0, 'mean': nan, 'median': nan, 'std': nan, 'mad': nan}\n",
      "oid 4 ant 3:  {'flagfrac': 0.73966942148760328, 'mean': 37.578599502926778, 'median': 36.068374633789062, 'std': 7.7668891961453959, 'mad': 7.582443912893881}\n",
      "oid 4 ant 4:  {'flagfrac': 0.25, 'mean': 40.487302478897234, 'median': 40.914077758789062, 'std': 11.833573039868678, 'mad': 12.582386194561236}\n",
      "oid 4 ant 5:  {'flagfrac': 0.33924731182795698, 'mean': 45.358709166940386, 'median': 45.808467864990234, 'std': 9.5717138482010284, 'mad': 10.298538329014667}\n",
      "oid 4 ant 6:  {'flagfrac': 0.31835443037974681, 'mean': 43.617806788827934, 'median': 38.229640960693359, 'std': 14.37049006236777, 'mad': 9.9427848318969012}\n",
      "oid 4 ant 7:  {'flagfrac': 0.38692307692307693, 'mean': 52.484710389428038, 'median': 51.562786102294922, 'std': 11.30885241534204, 'mad': 12.090540102595218}\n",
      "oid 4 ant 8:  {'flagfrac': 0.49313725490196081, 'mean': 52.75701343897925, 'median': 50.668846130371094, 'std': 11.570407425144733, 'mad': 11.859369894315806}\n",
      "oid 4 ant 9:  {'flagfrac': 0.67972972972972978, 'mean': 55.286711125434202, 'median': 54.639305114746094, 'std': 6.9207293934241232, 'mad': 7.5730045852621757}\n",
      "oid 4 ant 10:  {'flagfrac': 1.0, 'mean': nan, 'median': nan, 'std': nan, 'mad': nan}\n",
      "oid 5 ant 0:  {'flagfrac': 0.7294478527607362, 'mean': 49.523254512388959, 'median': 46.415332794189453, 'std': 16.367019681008614, 'mad': 14.581985307895764}\n",
      "oid 5 ant 1:  {'flagfrac': 0.647986577181208, 'mean': 36.991546772683201, 'median': 32.269645690917969, 'std': 14.111324582909816, 'mad': 12.750139278374311}\n",
      "oid 5 ant 2:  {'flagfrac': 1.0, 'mean': nan, 'median': nan, 'std': nan, 'mad': nan}\n",
      "oid 5 ant 3:  {'flagfrac': 0.73966942148760328, 'mean': 37.578599502926778, 'median': 36.068374633789062, 'std': 7.7668891961453959, 'mad': 7.582443912893881}\n",
      "oid 5 ant 4:  {'flagfrac': 0.25, 'mean': 40.487302478897234, 'median': 40.914077758789062, 'std': 11.833573039868678, 'mad': 12.582386194561236}\n",
      "oid 5 ant 5:  {'flagfrac': 0.33924731182795698, 'mean': 45.358709166940386, 'median': 45.808467864990234, 'std': 9.5717138482010284, 'mad': 10.298538329014667}\n",
      "oid 5 ant 6:  {'flagfrac': 0.31835443037974681, 'mean': 43.617806788827934, 'median': 38.229640960693359, 'std': 14.37049006236777, 'mad': 9.9427848318969012}\n",
      "oid 5 ant 7:  {'flagfrac': 0.38692307692307693, 'mean': 52.484710389428038, 'median': 51.562786102294922, 'std': 11.30885241534204, 'mad': 12.090540102595218}\n",
      "oid 5 ant 8:  {'flagfrac': 0.49313725490196081, 'mean': 52.75701343897925, 'median': 50.668846130371094, 'std': 11.570407425144733, 'mad': 11.859369894315806}\n",
      "oid 5 ant 9:  {'flagfrac': 0.67972972972972978, 'mean': 55.286711125434202, 'median': 54.639305114746094, 'std': 6.9207293934241232, 'mad': 7.5730045852621757}\n",
      "oid 5 ant 10:  {'flagfrac': 1.0, 'mean': nan, 'median': nan, 'std': nan, 'mad': nan}\n",
      "oid 6 ant 0:  {'flagfrac': 0.7294478527607362, 'mean': 49.523254512388959, 'median': 46.415332794189453, 'std': 16.367019681008614, 'mad': 14.581985307895764}\n",
      "oid 6 ant 1:  {'flagfrac': 0.647986577181208, 'mean': 36.991546772683201, 'median': 32.269645690917969, 'std': 14.111324582909816, 'mad': 12.750139278374311}\n",
      "oid 6 ant 2:  {'flagfrac': 1.0, 'mean': nan, 'median': nan, 'std': nan, 'mad': nan}\n",
      "oid 6 ant 3:  {'flagfrac': 0.73966942148760328, 'mean': 37.578599502926778, 'median': 36.068374633789062, 'std': 7.7668891961453959, 'mad': 7.582443912893881}\n",
      "oid 6 ant 4:  {'flagfrac': 0.25, 'mean': 40.487302478897234, 'median': 40.914077758789062, 'std': 11.833573039868678, 'mad': 12.582386194561236}\n",
      "oid 6 ant 5:  {'flagfrac': 0.33924731182795698, 'mean': 45.358709166940386, 'median': 45.808467864990234, 'std': 9.5717138482010284, 'mad': 10.298538329014667}\n",
      "oid 6 ant 6:  {'flagfrac': 0.31835443037974681, 'mean': 43.617806788827934, 'median': 38.229640960693359, 'std': 14.37049006236777, 'mad': 9.9427848318969012}\n",
      "oid 6 ant 7:  {'flagfrac': 0.38692307692307693, 'mean': 52.484710389428038, 'median': 51.562786102294922, 'std': 11.30885241534204, 'mad': 12.090540102595218}\n",
      "oid 6 ant 8:  {'flagfrac': 0.49313725490196081, 'mean': 52.75701343897925, 'median': 50.668846130371094, 'std': 11.570407425144733, 'mad': 11.859369894315806}\n",
      "oid 6 ant 9:  {'flagfrac': 0.67972972972972978, 'mean': 55.286711125434202, 'median': 54.639305114746094, 'std': 6.9207293934241232, 'mad': 7.5730045852621757}\n",
      "oid 6 ant 10:  {'flagfrac': 1.0, 'mean': nan, 'median': nan, 'std': nan, 'mad': nan}\n",
      "oid 7 ant 0:  {'flagfrac': 0.7294478527607362, 'mean': 49.523254512388959, 'median': 46.415332794189453, 'std': 16.367019681008614, 'mad': 14.581985307895764}\n",
      "oid 7 ant 1:  {'flagfrac': 0.647986577181208, 'mean': 36.991546772683201, 'median': 32.269645690917969, 'std': 14.111324582909816, 'mad': 12.750139278374311}\n",
      "oid 7 ant 2:  {'flagfrac': 1.0, 'mean': nan, 'median': nan, 'std': nan, 'mad': nan}\n",
      "oid 7 ant 3:  {'flagfrac': 0.73966942148760328, 'mean': 37.578599502926778, 'median': 36.068374633789062, 'std': 7.7668891961453959, 'mad': 7.582443912893881}\n",
      "oid 7 ant 4:  {'flagfrac': 0.25, 'mean': 40.487302478897234, 'median': 40.914077758789062, 'std': 11.833573039868678, 'mad': 12.582386194561236}\n",
      "oid 7 ant 5:  {'flagfrac': 0.33924731182795698, 'mean': 45.358709166940386, 'median': 45.808467864990234, 'std': 9.5717138482010284, 'mad': 10.298538329014667}\n",
      "oid 7 ant 6:  {'flagfrac': 0.31835443037974681, 'mean': 43.617806788827934, 'median': 38.229640960693359, 'std': 14.37049006236777, 'mad': 9.9427848318969012}\n",
      "oid 7 ant 7:  {'flagfrac': 0.38692307692307693, 'mean': 52.484710389428038, 'median': 51.562786102294922, 'std': 11.30885241534204, 'mad': 12.090540102595218}\n",
      "oid 7 ant 8:  {'flagfrac': 0.49313725490196081, 'mean': 52.75701343897925, 'median': 50.668846130371094, 'std': 11.570407425144733, 'mad': 11.859369894315806}\n",
      "oid 7 ant 9:  {'flagfrac': 0.67972972972972978, 'mean': 55.286711125434202, 'median': 54.639305114746094, 'std': 6.9207293934241232, 'mad': 7.5730045852621757}\n",
      "oid 7 ant 10:  {'flagfrac': 1.0, 'mean': nan, 'median': nan, 'std': nan, 'mad': nan}\n",
      "oid 8 ant 0:  {'flagfrac': 0.7294478527607362, 'mean': 49.523254512388959, 'median': 46.415332794189453, 'std': 16.367019681008614, 'mad': 14.581985307895764}\n",
      "oid 8 ant 1:  {'flagfrac': 0.647986577181208, 'mean': 36.991546772683201, 'median': 32.269645690917969, 'std': 14.111324582909816, 'mad': 12.750139278374311}\n",
      "oid 8 ant 2:  {'flagfrac': 1.0, 'mean': nan, 'median': nan, 'std': nan, 'mad': nan}\n",
      "oid 8 ant 3:  {'flagfrac': 0.73966942148760328, 'mean': 37.578599502926778, 'median': 36.068374633789062, 'std': 7.7668891961453959, 'mad': 7.582443912893881}\n",
      "oid 8 ant 4:  {'flagfrac': 0.25, 'mean': 40.487302478897234, 'median': 40.914077758789062, 'std': 11.833573039868678, 'mad': 12.582386194561236}\n",
      "oid 8 ant 5:  {'flagfrac': 0.33924731182795698, 'mean': 45.358709166940386, 'median': 45.808467864990234, 'std': 9.5717138482010284, 'mad': 10.298538329014667}\n",
      "oid 8 ant 6:  {'flagfrac': 0.31835443037974681, 'mean': 43.617806788827934, 'median': 38.229640960693359, 'std': 14.37049006236777, 'mad': 9.9427848318969012}\n",
      "oid 8 ant 7:  {'flagfrac': 0.38692307692307693, 'mean': 52.484710389428038, 'median': 51.562786102294922, 'std': 11.30885241534204, 'mad': 12.090540102595218}\n",
      "oid 8 ant 8:  {'flagfrac': 0.49313725490196081, 'mean': 52.75701343897925, 'median': 50.668846130371094, 'std': 11.570407425144733, 'mad': 11.859369894315806}\n",
      "oid 8 ant 9:  {'flagfrac': 0.67972972972972978, 'mean': 55.286711125434202, 'median': 54.639305114746094, 'std': 6.9207293934241232, 'mad': 7.5730045852621757}\n",
      "oid 8 ant 10:  {'flagfrac': 1.0, 'mean': nan, 'median': nan, 'std': nan, 'mad': nan}\n",
      "oid 9 ant 0:  {'flagfrac': 0.7294478527607362, 'mean': 49.523254512388959, 'median': 46.415332794189453, 'std': 16.367019681008614, 'mad': 14.581985307895764}\n",
      "oid 9 ant 1:  {'flagfrac': 0.647986577181208, 'mean': 36.991546772683201, 'median': 32.269645690917969, 'std': 14.111324582909816, 'mad': 12.750139278374311}\n",
      "oid 9 ant 2:  {'flagfrac': 1.0, 'mean': nan, 'median': nan, 'std': nan, 'mad': nan}\n",
      "oid 9 ant 3:  {'flagfrac': 0.73966942148760328, 'mean': 37.578599502926778, 'median': 36.068374633789062, 'std': 7.7668891961453959, 'mad': 7.582443912893881}\n",
      "oid 9 ant 4:  {'flagfrac': 0.25, 'mean': 40.487302478897234, 'median': 40.914077758789062, 'std': 11.833573039868678, 'mad': 12.582386194561236}\n",
      "oid 9 ant 5:  {'flagfrac': 0.33924731182795698, 'mean': 45.358709166940386, 'median': 45.808467864990234, 'std': 9.5717138482010284, 'mad': 10.298538329014667}\n",
      "oid 9 ant 6:  {'flagfrac': 0.31835443037974681, 'mean': 43.617806788827934, 'median': 38.229640960693359, 'std': 14.37049006236777, 'mad': 9.9427848318969012}\n",
      "oid 9 ant 7:  {'flagfrac': 0.38692307692307693, 'mean': 52.484710389428038, 'median': 51.562786102294922, 'std': 11.30885241534204, 'mad': 12.090540102595218}\n",
      "oid 9 ant 8:  {'flagfrac': 0.49313725490196081, 'mean': 52.75701343897925, 'median': 50.668846130371094, 'std': 11.570407425144733, 'mad': 11.859369894315806}\n",
      "oid 9 ant 9:  {'flagfrac': 0.67972972972972978, 'mean': 55.286711125434202, 'median': 54.639305114746094, 'std': 6.9207293934241232, 'mad': 7.5730045852621757}\n",
      "oid 9 ant 10:  {'flagfrac': 1.0, 'mean': nan, 'median': nan, 'std': nan, 'mad': nan}\n",
      "oid 10 ant 0:  {'flagfrac': 0.7294478527607362, 'mean': 49.523254512388959, 'median': 46.415332794189453, 'std': 16.367019681008614, 'mad': 14.581985307895764}\n",
      "oid 10 ant 1:  {'flagfrac': 0.647986577181208, 'mean': 36.991546772683201, 'median': 32.269645690917969, 'std': 14.111324582909816, 'mad': 12.750139278374311}\n",
      "oid 10 ant 2:  {'flagfrac': 1.0, 'mean': nan, 'median': nan, 'std': nan, 'mad': nan}\n",
      "oid 10 ant 3:  {'flagfrac': 0.73966942148760328, 'mean': 37.578599502926778, 'median': 36.068374633789062, 'std': 7.7668891961453959, 'mad': 7.582443912893881}\n",
      "oid 10 ant 4:  {'flagfrac': 0.25, 'mean': 40.487302478897234, 'median': 40.914077758789062, 'std': 11.833573039868678, 'mad': 12.582386194561236}\n",
      "oid 10 ant 5:  {'flagfrac': 0.33924731182795698, 'mean': 45.358709166940386, 'median': 45.808467864990234, 'std': 9.5717138482010284, 'mad': 10.298538329014667}\n",
      "oid 10 ant 6:  {'flagfrac': 0.31835443037974681, 'mean': 43.617806788827934, 'median': 38.229640960693359, 'std': 14.37049006236777, 'mad': 9.9427848318969012}\n",
      "oid 10 ant 7:  {'flagfrac': 0.38692307692307693, 'mean': 52.484710389428038, 'median': 51.562786102294922, 'std': 11.30885241534204, 'mad': 12.090540102595218}\n",
      "oid 10 ant 8:  {'flagfrac': 0.49313725490196081, 'mean': 52.75701343897925, 'median': 50.668846130371094, 'std': 11.570407425144733, 'mad': 11.859369894315806}\n",
      "oid 10 ant 9:  {'flagfrac': 0.67972972972972978, 'mean': 55.286711125434202, 'median': 54.639305114746094, 'std': 6.9207293934241232, 'mad': 7.5730045852621757}\n",
      "oid 10 ant 10:  {'flagfrac': 1.0, 'mean': nan, 'median': nan, 'std': nan, 'mad': nan}\n",
      "oid 11 ant 0:  {'flagfrac': 0.7294478527607362, 'mean': 49.523254512388959, 'median': 46.415332794189453, 'std': 16.367019681008614, 'mad': 14.581985307895764}\n",
      "oid 11 ant 1:  {'flagfrac': 0.647986577181208, 'mean': 36.991546772683201, 'median': 32.269645690917969, 'std': 14.111324582909816, 'mad': 12.750139278374311}\n",
      "oid 11 ant 2:  {'flagfrac': 1.0, 'mean': nan, 'median': nan, 'std': nan, 'mad': nan}\n",
      "oid 11 ant 3:  {'flagfrac': 0.73966942148760328, 'mean': 37.578599502926778, 'median': 36.068374633789062, 'std': 7.7668891961453959, 'mad': 7.582443912893881}\n",
      "oid 11 ant 4:  {'flagfrac': 0.25, 'mean': 40.487302478897234, 'median': 40.914077758789062, 'std': 11.833573039868678, 'mad': 12.582386194561236}\n",
      "oid 11 ant 5:  {'flagfrac': 0.33924731182795698, 'mean': 45.358709166940386, 'median': 45.808467864990234, 'std': 9.5717138482010284, 'mad': 10.298538329014667}\n",
      "oid 11 ant 6:  {'flagfrac': 0.31835443037974681, 'mean': 43.617806788827934, 'median': 38.229640960693359, 'std': 14.37049006236777, 'mad': 9.9427848318969012}\n",
      "oid 11 ant 7:  {'flagfrac': 0.38692307692307693, 'mean': 52.484710389428038, 'median': 51.562786102294922, 'std': 11.30885241534204, 'mad': 12.090540102595218}\n",
      "oid 11 ant 8:  {'flagfrac': 0.49313725490196081, 'mean': 52.75701343897925, 'median': 50.668846130371094, 'std': 11.570407425144733, 'mad': 11.859369894315806}\n",
      "oid 11 ant 9:  {'flagfrac': 0.67972972972972978, 'mean': 55.286711125434202, 'median': 54.639305114746094, 'std': 6.9207293934241232, 'mad': 7.5730045852621757}\n",
      "oid 11 ant 10:  {'flagfrac': 1.0, 'mean': nan, 'median': nan, 'std': nan, 'mad': nan}\n",
      "oid 12 ant 0:  {'flagfrac': 0.7294478527607362, 'mean': 49.523254512388959, 'median': 46.415332794189453, 'std': 16.367019681008614, 'mad': 14.581985307895764}\n",
      "oid 12 ant 1:  {'flagfrac': 0.647986577181208, 'mean': 36.991546772683201, 'median': 32.269645690917969, 'std': 14.111324582909816, 'mad': 12.750139278374311}\n",
      "oid 12 ant 2:  {'flagfrac': 1.0, 'mean': nan, 'median': nan, 'std': nan, 'mad': nan}\n",
      "oid 12 ant 3:  {'flagfrac': 0.73966942148760328, 'mean': 37.578599502926778, 'median': 36.068374633789062, 'std': 7.7668891961453959, 'mad': 7.582443912893881}\n",
      "oid 12 ant 4:  {'flagfrac': 0.25, 'mean': 40.487302478897234, 'median': 40.914077758789062, 'std': 11.833573039868678, 'mad': 12.582386194561236}\n",
      "oid 12 ant 5:  {'flagfrac': 0.33924731182795698, 'mean': 45.358709166940386, 'median': 45.808467864990234, 'std': 9.5717138482010284, 'mad': 10.298538329014667}\n",
      "oid 12 ant 6:  {'flagfrac': 0.31835443037974681, 'mean': 43.617806788827934, 'median': 38.229640960693359, 'std': 14.37049006236777, 'mad': 9.9427848318969012}\n",
      "oid 12 ant 7:  {'flagfrac': 0.38692307692307693, 'mean': 52.484710389428038, 'median': 51.562786102294922, 'std': 11.30885241534204, 'mad': 12.090540102595218}\n",
      "oid 12 ant 8:  {'flagfrac': 0.49313725490196081, 'mean': 52.75701343897925, 'median': 50.668846130371094, 'std': 11.570407425144733, 'mad': 11.859369894315806}\n",
      "oid 12 ant 9:  {'flagfrac': 0.67972972972972978, 'mean': 55.286711125434202, 'median': 54.639305114746094, 'std': 6.9207293934241232, 'mad': 7.5730045852621757}\n",
      "oid 12 ant 10:  {'flagfrac': 1.0, 'mean': nan, 'median': nan, 'std': nan, 'mad': nan}\n"
     ]
    },
    {
     "data": {
      "text/plain": [
       "True"
      ]
     },
     "execution_count": 53,
     "metadata": {},
     "output_type": "execute_result"
    }
   ],
   "source": [
    "print(\"TEST\")\n",
    "from astropy import stats\n",
    "ms.open(msfile)\n",
    "antwts = {}\n",
    "\n",
    "for oid in uoids:\n",
    "\n",
    "    ms.selectinit(oid, reset=True)\n",
    "    msdata = ms.getdata(items=['WEIGHT', 'ANTENNA1', 'FLAG'])\n",
    "    for ant in np.unique(msdata['antenna1']):\n",
    "        selection = msdata['antenna1'] == ant\n",
    "        # the 'zero' here is a meaningless guess\n",
    "        flag = msdata['flag'][0,0,selection]\n",
    "        # True means bad\n",
    "        weights = msdata['weight'][:,selection]\n",
    "        antwts[(ant, oid)] = {'flagfrac':flag.sum()/flag.size,\n",
    "                              'mean': weights[:,~flag].mean(),\n",
    "                              'median': np.median(weights[:,~flag]),\n",
    "                              'std': weights[:,~flag].std(),\n",
    "                              'mad': stats.mad_std(weights[:,~flag]),\n",
    "                             }\n",
    "        if antwts[(ant,oid)][flagfrac] < 1:\n",
    "            print(f\"oid {oid} ant {ant}:  {antwts[(ant,oid)]}\")\n",
    "ms.close()"
   ]
  },
  {
   "cell_type": "code",
   "execution_count": 41,
   "metadata": {},
   "outputs": [
    {
     "name": "stdout",
     "output_type": "stream",
     "text": [
      "(2, 2, 20460) (2, 20460) (20460,)\n"
     ]
    }
   ],
   "source": [
    "print(msdata['flag'].shape, msdata['weight'].shape, msdata['antenna1'].shape)"
   ]
  },
  {
   "cell_type": "code",
   "execution_count": null,
   "metadata": {},
   "outputs": [],
   "source": [
    "msmd.open(msfile)\n",
    "antobs = {}\n",
    "for oid in np.unique(data['OBSERVATION_ID']):\n",
    "    antids = np.unique(data['ANTENNA1'][(data['OBSERVATION_ID']==oid) & (OK[0,0,:])])\n",
    "    antnames = {k:v for k,v in zip(antids, msmd.antennanames(antids))}\n",
    "\n",
    "    center = (np.mean([msmd.antennaoffset(k)['latitude offset']['value'] for k in antnames]),\n",
    "              np.mean([msmd.antennaoffset(k)['longitude offset']['value'] for k in antnames]),)\n",
    "    print(oid, center)\n",
    "    \n",
    "    antdist = {k:((msmd.antennaoffset(k)['latitude offset']['value']-center[0])**2 + (msmd.antennaoffset(k)['longitude offset']['value']-center[1])**2)**0.5\n",
    "               for k in antnames}\n",
    "    antloc = {k:(msmd.antennaoffset(k)['latitude offset']['value'], msmd.antennaoffset(k)['longitude offset']['value'])\n",
    "               for k in antnames}\n",
    "\n",
    "    antobs[oid] = {'antnames': antnames,\n",
    "                   'antdist': antdist,\n",
    "                   'antloc': antloc}\n",
    "msmd.close()\n",
    "antdist = {(ant,oid): antobs[oid]['antdist'][ant] for oid in antobs for ant in antobs[oid]['antnames']}\n",
    "antnames = {(ant,oid): antobs[oid]['antnames'][ant] for oid in antobs for ant in antobs[oid]['antnames']}"
   ]
  },
  {
   "cell_type": "code",
   "execution_count": null,
   "metadata": {},
   "outputs": [],
   "source": [
    "antstats = {}\n",
    "for oid in np.unique(data['OBSERVATION_ID']):\n",
    "    for antid in np.unique(data['ANTENNA1']):\n",
    "        msk = (data['ANTENNA1'] == antid) & (OK[0,0,:]) & fieldOKmask & (data['OBSERVATION_ID'] == oid)\n",
    "        if np.any(msk) and (antid, oid) in antnames:\n",
    "            dat = data['SNR'][1,0, msk]\n",
    "            ang = data['ANGLE'][1,0, msk]\n",
    "            print(f\"antenna={antnames[(antid,oid)]} oid={oid} dist={antdist[(antid,oid)]:6.1f} \"\n",
    "                  f\"mean={dat.mean():10.2f} median={np.median(dat):10.2f} \"\n",
    "                  f\"std={dat.std():10.2f}  angle_rms={ang.std()*180/np.pi:10.2f}\")\n",
    "            antstats[(antid,oid)] = {'mean':dat.mean(),\n",
    "                               'median':np.median(dat),\n",
    "                               'std': dat.std(),\n",
    "                               'angle_rms': ang.std(),\n",
    "\n",
    "                              }"
   ]
  },
  {
   "cell_type": "code",
   "execution_count": null,
   "metadata": {},
   "outputs": [],
   "source": [
    "uoids = np.unique(data['OBSERVATION_ID'])\n",
    "for oid in uoids:\n",
    "    pl.plot([antdist[(ant,oid)] for ant,_ in antstats  if (ant,oid) in antstats],\n",
    "            [antstats[(ant,oid)]['mean'] for ant,_ in antstats  if (ant,oid) in antstats],\n",
    "            'o')\n",
    "pl.xlabel(\"Distance from array center (m)\")\n",
    "pl.ylabel(\"Gaincal SNR\")    "
   ]
  },
  {
   "cell_type": "code",
   "execution_count": null,
   "metadata": {},
   "outputs": [],
   "source": [
    "fid = OKfields[0]\n",
    "nant = len(np.unique(data['ANTENNA1']))\n",
    "for pol in (0,1):\n",
    "    pl.figure()\n",
    "    cnt = 0\n",
    "\n",
    "    for ii,ant in enumerate(np.unique(data['ANTENNA1'])):\n",
    "        ax = pl.subplot(4, 4, cnt+1)\n",
    "        msk = (data['ANTENNA1'] == ant) & (data['FIELD_ID'] == fid) & (OK[pol,0,:]) & (data['SPECTRAL_WINDOW_ID'] == 12)\n",
    "        ax.plot(data['ANGLE'][pol,0,msk]*180/np.pi)\n",
    "        ax.set_title(str(ant))\n",
    "        if np.any(msk):\n",
    "            cnt += 1\n",
    "        if cnt > 15:\n",
    "            break\n"
   ]
  },
  {
   "cell_type": "code",
   "execution_count": null,
   "metadata": {},
   "outputs": [],
   "source": [
    "fid = OKfields[0]\n",
    "nant = len(np.unique(data['ANTENNA1']))\n",
    "\n",
    "for selfcaliter in (1,2,3,4):\n",
    "    caltable = f'../W51-E_B6_uid___A001_X1296_X215_continuum_merged_12M_phase{selfcaliter}_int.cal/'\n",
    "    tb.open(caltable)\n",
    "    data = {col: tb.getcol(col) for col in tb.colnames() if col not in (\"WEIGHT\",)}\n",
    "    data['ANGLE'] = np.angle(data['CPARAM'])\n",
    "    tb.close()\n",
    "    OK = data['SNR'] != 0\n",
    "\n",
    "\n",
    "    for oid in np.unique(data['OBSERVATION_ID']):\n",
    "        for pol in (0,):\n",
    "            pl.figure()\n",
    "            cnt = 0\n",
    "\n",
    "            for ii,ant in enumerate(np.unique(data['ANTENNA1'])):\n",
    "                ax = pl.subplot(4, 4, cnt+1)\n",
    "                msk = (data['ANTENNA1'] == ant) & (data['FIELD_ID'] == fid) & (OK[pol,0,:]) & (data['OBSERVATION_ID'] == oid)\n",
    "                spws = data['SPECTRAL_WINDOW_ID'][msk]\n",
    "\n",
    "\n",
    "                if np.any(msk):\n",
    "                    cnt += 1\n",
    "                    for spw in np.unique(spws):\n",
    "                        smsk = msk & (data['SPECTRAL_WINDOW_ID'] == spw)\n",
    "                        time = data['TIME'][smsk] \n",
    "                        time -= np.min(time)\n",
    "                        time /= 60\n",
    "                        ang = data['ANGLE'][pol,0,smsk]*180/np.pi\n",
    "                        srt = np.argsort(time)\n",
    "                        #ax.plot(time[srt], ang[srt], '.')\n",
    "                        ax.plot(ang[srt], '-')\n",
    "                    ax.set_title(str(ant))\n",
    "                if cnt > 15:\n",
    "                    break\n",
    "            break\n",
    "        break\n"
   ]
  },
  {
   "cell_type": "code",
   "execution_count": null,
   "metadata": {},
   "outputs": [],
   "source": [
    "for selfcaliter in (1,2,3,4):\n",
    "    caltable = f'../W51-E_B6_uid___A001_X1296_X215_continuum_merged_7M12M_phase{selfcaliter}_int.cal/'\n",
    "    tb.open(caltable)\n",
    "    data = {col: tb.getcol(col) for col in tb.colnames() if col not in (\"WEIGHT\",)}\n",
    "    data['ANGLE'] = np.angle(data['CPARAM'])\n",
    "    tb.close()\n",
    "    OK = data['SNR'] != 0\n",
    "    print(f\"\\nSelf cal iteration {selfcaliter}\")\n",
    "\n",
    "    for fid in fids:\n",
    "        dat = data['SNR'][1,0, (data['FIELD_ID'] == fid) & (OK[0,0,:])]\n",
    "        ang = data['ANGLE'][1,0, (data['FIELD_ID'] == fid) & (OK[0,0,:])] * 180/np.pi\n",
    "        print(f\"fid={fid:03d} mean={dat.mean():10.2f} median={np.median(dat):10.2f} std={dat.std():10.2f} angle_rms={ang.std():10.2f}\")"
   ]
  },
  {
   "cell_type": "code",
   "execution_count": null,
   "metadata": {},
   "outputs": [],
   "source": []
  }
 ],
 "metadata": {
  "kernelspec": {
   "display_name": "Python 3",
   "language": "python",
   "name": "python3"
  },
  "language_info": {
   "codemirror_mode": {
    "name": "ipython",
    "version": 3
   },
   "file_extension": ".py",
   "mimetype": "text/x-python",
   "name": "python",
   "nbconvert_exporter": "python",
   "pygments_lexer": "ipython3",
   "version": "3.6.0"
  }
 },
 "nbformat": 4,
 "nbformat_minor": 2
}
