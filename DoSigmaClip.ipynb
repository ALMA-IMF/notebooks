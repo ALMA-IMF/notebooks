{
 "cells": [
  {
   "cell_type": "code",
   "execution_count": 3,
   "metadata": {},
   "outputs": [],
   "source": [
    "import os\n",
    "os.chdir('/lustre/cv/projects/ALMA_IMF/2017.1.01355.L/imaging_results')"
   ]
  },
  {
   "cell_type": "code",
   "execution_count": 4,
   "metadata": {},
   "outputs": [
    {
     "name": "stderr",
     "output_type": "stream",
     "text": [
      "WARNING: AstropyDeprecationWarning: astropy.extern.six will be removed in 4.0, use the six module directly if it is still needed [astropy.extern.six]\n"
     ]
    }
   ],
   "source": [
    "import spectral_cube\n",
    "from spectral_cube import SpectralCube\n",
    "import warnings\n",
    "warnings.filterwarnings('ignore')"
   ]
  },
  {
   "cell_type": "code",
   "execution_count": 5,
   "metadata": {},
   "outputs": [],
   "source": [
    "import time\n",
    "import glob"
   ]
  },
  {
   "cell_type": "code",
   "execution_count": null,
   "metadata": {},
   "outputs": [
    {
     "name": "stdout",
     "output_type": "stream",
     "text": [
      "W51-E_B3_spw0_12M_lines.image.fits VaryingResolutionSpectralCube with shape=(1920, 2646, 2800) and unit=Jy / beam:\n",
      " n_x:   2800  type_x: RA---SIN  unit_x: deg    range:   290.893936 deg:  290.974260 deg\n",
      " n_y:   2646  type_y: DEC--SIN  unit_y: deg    range:    14.471441 deg:   14.544913 deg\n",
      " n_s:   1920  type_s: FREQ      unit_s: Hz     range: 93097776998.438 Hz:93214903147.860 Hz\n"
     ]
    }
   ],
   "source": [
    "for fn in glob.glob(\"*.image.fits\"):\n",
    "    t0 = time.time()\n",
    "    cube = SpectralCube.read(fn)\n",
    "    cube = cube.mask_out_bad_beams(0.1)\n",
    "    cube.beam_threshold = 1\n",
    "    print(fn, cube)\n",
    "    sigmaclipcube = cube.sigma_clip(1.8, use_memmap=True, parallel=False, verbose=1)\n",
    "    sigmaclipcube.beam_threshold = 1\n",
    "    print(fn, sigmaclipcube)\n",
    "    mean_sigmaclipped = sigmaclipcube.mean(axis=0)\n",
    "    mad_std_sigmaclipped = sigmaclipcube.mad_std(axis=0)\n",
    "    mean_sigmaclipped.write(fn.replace(\".image.fits\", \".image.mean.fits\"))\n",
    "    mad_std_sigmaclipped.write(fn.replace(\".image.fits\", \".image.mad_std.fits\"))\n",
    "    print(f\"Elapsed time for {fn} = {time.time() - t0}\")"
   ]
  },
  {
   "cell_type": "code",
   "execution_count": 2,
   "metadata": {},
   "outputs": [
    {
     "name": "stdout",
     "output_type": "stream",
     "text": [
      "TEST\n"
     ]
    }
   ],
   "source": [
    "print(\"TEST\")"
   ]
  },
  {
   "cell_type": "code",
   "execution_count": null,
   "metadata": {},
   "outputs": [],
   "source": []
  }
 ],
 "metadata": {
  "kernelspec": {
   "display_name": "Python 3",
   "language": "python",
   "name": "python3"
  },
  "language_info": {
   "codemirror_mode": {
    "name": "ipython",
    "version": 3
   },
   "file_extension": ".py",
   "mimetype": "text/x-python",
   "name": "python",
   "nbconvert_exporter": "python",
   "pygments_lexer": "ipython3",
   "version": "3.6.9"
  }
 },
 "nbformat": 4,
 "nbformat_minor": 2
}
